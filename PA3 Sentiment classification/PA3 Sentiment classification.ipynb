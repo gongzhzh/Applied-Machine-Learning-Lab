{
 "cells": [
  {
   "cell_type": "markdown",
   "id": "c725e508-a50f-4703-bca4-5b3dc6c9469f",
   "metadata": {},
   "source": [
    "PA3\n",
    "Author: Zhuangzhuang Gong, Richard Hua"
   ]
  },
  {
   "cell_type": "markdown",
   "id": "498cdfe2-8f4d-4675-91f3-50556c334522",
   "metadata": {},
   "source": [
    "## 1. Reflection on the annotation task"
   ]
  },
  {
   "cell_type": "markdown",
   "id": "d1895300-3d8c-4df0-9748-33ca439dac75",
   "metadata": {},
   "source": [
    "**Challenges**  \n",
    "One of the key challenges is that we found it hard to understand the tweets with the culture references and context outside of the tweet itself.  \n",
    "In this case, we had to make judgement calls,\n",
    "which made us more aware of the subjectivity involved in annotation. Another takeaway is dealing\n",
    "with mixed-sentiment tweets. For example, some tweets consist of both positive and negative emotions, making it hard to label them definitively.\n",
    "\n",
    "**Ideals of improvement**  \n",
    "- To improve the process of annotation, refine and expand the guidelines of annotation by providing clearer annotation instructions, especially for\n",
    "mixed-sentiment tweets. This will reduce the subjectivity in the annotation.\n",
    "- Another way to improve is to introduce InterAnnotator Agreement by having multiple annotators and comparing their results. This not only improve the quality of annotation but also give the insight how subjective the sentiment label is.\n",
    "- Instead of asking annotators to type in the labels, provide fixed optional labels and guide annotators to select from them to reduce the typo issues."
   ]
  },
  {
   "cell_type": "markdown",
   "id": "68120244-b511-4b33-aff2-b8d35816747a",
   "metadata": {
    "jp-MarkdownHeadingCollapsed": true
   },
   "source": [
    "## 2. Exploring the crowdsourced data\n"
   ]
  },
  {
   "cell_type": "markdown",
   "id": "58201243-36ac-4aa9-bf86-e353fe3a80cb",
   "metadata": {},
   "source": [
    "**Read and observe the data**  \n",
    "As we can see, the sentiment annotations are not expected. There are many inconsistent label formats, such as 'neutral' and 'Neutral' or typos like 'Nutral'. Therefore, we need to clean the data."
   ]
  },
  {
   "cell_type": "code",
   "execution_count": 68,
   "id": "4b76b17c-fdd0-4130-8e2e-5ab127e1f6bb",
   "metadata": {},
   "outputs": [
    {
     "name": "stdout",
     "output_type": "stream",
     "text": [
      "      sentiment                                               text\n",
      "0      Positive  There's so much misconception on Islam rn so s...\n",
      "1      Positive  @Mr_Rondeau You should try Iron Maiden at abou...\n",
      "2      Negative  Going to #FantasticFour tomorrow. Half expecti...\n",
      "3       Neutral  @cfelan hey hey, just checkng to see if you or...\n",
      "4      Positive  does anyone just get drunk and watch twilight ...\n",
      "...         ...                                                ...\n",
      "10671  Positive  Glad to hear there may be a bigger more public...\n",
      "10672  Positive  Great stand by the Wolves on 3rd and long. Cur...\n",
      "10673   Neutral  Ayyye I just purchased my Ed Sheeran tickets f...\n",
      "10674  Negative  The anti-semitism, the misogyny, and the suppo...\n",
      "10675  Positive  And yet, I have yet to see the whole series of...\n",
      "\n",
      "[10676 rows x 2 columns]\n"
     ]
    }
   ],
   "source": [
    "import pandas as pd\n",
    "\n",
    "crowd_train_data = pd.read_csv('crowdsourced_train.csv',sep='\\t')\n",
    "gold_train_data = pd.read_csv('gold_train.csv', sep='\\t')\n",
    "test_data = pd.read_csv('test.csv', sep='\\t')\n",
    "label_counts = crowd_train_data['sentiment'].value_counts()\n",
    "print(crowd_train_data)"
   ]
  },
  {
   "cell_type": "markdown",
   "id": "a48de0c6-ab70-4f1f-9000-2750f79331dc",
   "metadata": {},
   "source": [
    "**Check the agreement before cleaning the data**  \n",
    "If we check the inner annotation agreement now by comparing the sentiment labels from the crowdsourced annotator and the gold annotator across 10,675 tweets. The overall accuracy is only 35.63%, and Cohen's Kappa is only 0.19, which indicates a low level of agreement.\n",
    "This suggests there's either inconsistency or subjective interpretation of sentiment labels."
   ]
  },
  {
   "cell_type": "code",
   "execution_count": 70,
   "id": "8592c8d4-f5b8-4107-a862-868c915f0145",
   "metadata": {},
   "outputs": [
    {
     "name": "stdout",
     "output_type": "stream",
     "text": [
      "Cohen's Kappa: 0.19\n",
      "Accuracy: 35.63%\n"
     ]
    }
   ],
   "source": [
    "from sklearn.metrics import accuracy_score\n",
    "from sklearn.metrics import cohen_kappa_score\n",
    "\n",
    "accuracy = accuracy_score(crowd_train_data['sentiment'], gold_train_data['sentiment'])\n",
    "kappa = cohen_kappa_score(crowd_train_data['sentiment'], gold_train_data['sentiment'])\n",
    "print(f\"Cohen's Kappa: {kappa:.2f}\")\n",
    "print(f\"Accuracy: {accuracy:.2%}\")"
   ]
  },
  {
   "cell_type": "markdown",
   "id": "7e02d7ae-0dc5-45f5-ab08-dc7dbaa492d1",
   "metadata": {},
   "source": [
    "**Clean and re-classify labels**  \n",
    "We easily fixed some inconsistent label formats by converting all labels to lowercase and stripping the blank spaces.  \n",
    "Furthermore, we found several spelling variations and formatting issues in the label column (e.g., 'nuetral', 'positve', 'nedative', etc.). These were normalised using a mapping dictionary, and all labels were successfully consolidated into the three standard sentiment categories: positive, neutral, and negative."
   ]
  },
  {
   "cell_type": "code",
   "execution_count": 72,
   "id": "d95691e3-f3e7-4030-8b39-71986cc963b3",
   "metadata": {},
   "outputs": [
    {
     "name": "stdout",
     "output_type": "stream",
     "text": [
      "before cleaning\n",
      "sentiment\n",
      "neutral           5046\n",
      "positive          3213\n",
      "negative          2375\n",
      "netural             20\n",
      "nuetral              3\n",
      "postive              2\n",
      "postitive            1\n",
      "neutal               1\n",
      "npositive            1\n",
      "neutra l             1\n",
      "positie              1\n",
      "negayive             1\n",
      "nutral               1\n",
      "neugral              1\n",
      "negtaive             1\n",
      "neutrla              1\n",
      "neutrall             1\n",
      "neural               1\n",
      "netutral             1\n",
      "_x0008_neutral       1\n",
      "nedative             1\n",
      "neutral?             1\n",
      "positve              1\n",
      "Name: count, dtype: int64\n"
     ]
    }
   ],
   "source": [
    "# convert labels to lowercase\n",
    "crowd_train_data['sentiment'] = crowd_train_data['sentiment'].str.strip().str.lower()\n",
    "label_counts = crowd_train_data['sentiment'].value_counts()\n",
    "print(\"before cleaning\")\n",
    "print(label_counts)"
   ]
  },
  {
   "cell_type": "code",
   "execution_count": 73,
   "id": "18a8d299-c7f4-4e7a-82bd-9a1b1d50b91d",
   "metadata": {},
   "outputs": [
    {
     "name": "stdout",
     "output_type": "stream",
     "text": [
      "After cleaning\n",
      "sentiment\n",
      "neutral     5079\n",
      "positive    3219\n",
      "negative    2378\n",
      "Name: count, dtype: int64\n"
     ]
    }
   ],
   "source": [
    "# create a dictionary\n",
    "label_map = {\n",
    "    # positive \n",
    "    'positve': 'positive',\n",
    "    'postive': 'positive',\n",
    "    'postitive': 'positive',\n",
    "    'positie': 'positive',\n",
    "    'npositive': 'positive',\n",
    "\n",
    "    # neutral \n",
    "    'neutral?': 'neutral',\n",
    "    'nuetral': 'neutral',\n",
    "    '_x0008_neutral': 'neutral',\n",
    "    'netural': 'neutral',\n",
    "    'netutral': 'neutral',\n",
    "    'neural': 'neutral',\n",
    "    'neutrall': 'neutral',\n",
    "    'neugral': 'neutral',\n",
    "    'neutrla': 'neutral',\n",
    "    'nutral': 'neutral',\n",
    "    'neutra l': 'neutral',\n",
    "    'neutal': 'neutral',\n",
    "\n",
    "    # negative \n",
    "    'nedative': 'negative',\n",
    "    'negtaive': 'negative',\n",
    "    'negayive': 'negative',\n",
    "}\n",
    "\n",
    "label_map.update({\n",
    "    'positive': 'positive',\n",
    "    'neutral': 'neutral',\n",
    "    'negative': 'negative'\n",
    "})\n",
    "\n",
    "# apply the dictionary\n",
    "crowd_train_data['sentiment'] = crowd_train_data['sentiment'].map(label_map)\n",
    "\n",
    "# check the result\n",
    "print(\"After cleaning\")\n",
    "print(crowd_train_data['sentiment'].value_counts())\n"
   ]
  },
  {
   "cell_type": "markdown",
   "id": "38030311-3cfc-4ee8-951f-f7022866f961",
   "metadata": {},
   "source": [
    "**Agreement checking after cleaning**  \n",
    "We evaluated the agreement between the crowd-sourced labels and gold standard labels again across the data after cleaning the labels. The overall accuracy was 65.49% and the Cohen's Kappa was 0.45, indicating 'average' agreement, according to the standard in Richard Johansson's slides.  \n",
    "This suggests that there's reasonable alignment, while some inconsistency still remains. It's likely due to subjective interpretation of semtimemt tweets."
   ]
  },
  {
   "cell_type": "code",
   "execution_count": 75,
   "id": "d33bd2d9-9b48-4bcd-b86d-a5c6265c309e",
   "metadata": {},
   "outputs": [
    {
     "name": "stdout",
     "output_type": "stream",
     "text": [
      "Cohen's Kappa: 0.45\n",
      "Accuracy: 65.49%\n"
     ]
    }
   ],
   "source": [
    "accuracy = accuracy_score(crowd_train_data['sentiment'], gold_train_data['sentiment'])\n",
    "kappa = cohen_kappa_score(crowd_train_data['sentiment'], gold_train_data['sentiment'])\n",
    "print(f\"Cohen's Kappa: {kappa:.2f}\")\n",
    "print(f\"Accuracy: {accuracy:.2%}\")"
   ]
  },
  {
   "cell_type": "markdown",
   "id": "31b00965-7608-4243-b732-89d24a55cd5d",
   "metadata": {},
   "source": [
    "**Analysis of the annotation distribution**  \n",
    "We compared the annotation distribution across crowdsourced and gold data. Both showed a similar overall distribution structure, with the majority of labels being 'neutral', followed by 'positive' then 'negative'. However, there's a noticeable difference between 'negative', indicating the sensitivity or interpretation for negative tweets between two groups varies. It suggests that the crowd group is more sensitive to negative sentiment or subjective interpretation of negative tweets, which may contribute to the Cohen's Kappa of 0.45 and the general accuracy of 65.49%."
   ]
  },
  {
   "cell_type": "code",
   "execution_count": 77,
   "id": "5323cc53-93a5-4876-8f78-97450d5b2b87",
   "metadata": {},
   "outputs": [
    {
     "name": "stdout",
     "output_type": "stream",
     "text": [
      "          Crowd  Gold  Crowd (%)  Gold (%)\n",
      "neutral    5079  5364      47.57     50.24\n",
      "positive   3219  3652      30.15     34.21\n",
      "negative   2378  1660      22.27     15.55\n"
     ]
    }
   ],
   "source": [
    "# Get label counts from each dataset\n",
    "crowd_counts = crowd_train_data['sentiment'].value_counts()\n",
    "gold_counts = gold_train_data['sentiment'].value_counts()\n",
    "\n",
    "# Access values \n",
    "crowd_counts_dict = {\n",
    "    'neutral': crowd_counts.get('neutral', 0),\n",
    "    'positive': crowd_counts.get('positive', 0),\n",
    "    'negative': crowd_counts.get('negative', 0)\n",
    "}\n",
    "\n",
    "gold_counts_dict = {\n",
    "    'neutral': gold_counts.get('neutral', 0),\n",
    "    'positive': gold_counts.get('positive', 0),\n",
    "    'negative': gold_counts.get('negative', 0)\n",
    "}\n",
    "\n",
    "# Create Series\n",
    "crowd_series = pd.Series(crowd_counts_dict, name='Crowd')\n",
    "gold_series = pd.Series(gold_counts_dict, name='Gold')\n",
    "\n",
    "# Combine and analyze\n",
    "comparison_df = pd.concat([crowd_series, gold_series], axis=1)\n",
    "\n",
    "# Add percentage comparision\n",
    "total = comparison_df.sum()\n",
    "comparison_df['Crowd (%)'] = (comparison_df['Crowd'] / total['Crowd'] * 100).round(2)\n",
    "comparison_df['Gold (%)'] = (comparison_df['Gold'] / total['Gold'] * 100).round(2)\n",
    "\n",
    "print(comparison_df)"
   ]
  },
  {
   "cell_type": "markdown",
   "id": "5729ee71-a65d-482b-a00a-d54d9496fbfb",
   "metadata": {},
   "source": [
    "## 3. Implementation of a classifier  \n",
    "In this part, we explored several different mothed to implement a classifier. We took the linear SVC as a baseline, explained the process of optimization of the model. And we used both the crowdsource and gold-standard labels to train optimized model, then, compared the results. \n",
    "\n",
    "Besides, we explored several different models."
   ]
  },
  {
   "cell_type": "markdown",
   "id": "6ce01539-3375-43fd-a55d-59e35c6c1da4",
   "metadata": {},
   "source": [
    "**Clean tweets**  \n",
    "Before we started, we cleaned the data before we train the model to reduce the effect of noisy characters and formats issues. "
   ]
  },
  {
   "cell_type": "code",
   "execution_count": 80,
   "id": "868c513f-f98f-4ff7-8d2a-cfb6f445f064",
   "metadata": {},
   "outputs": [],
   "source": [
    "import re\n",
    "import emoji\n",
    "\n",
    "def clean_tweet(text):\n",
    "    # 1. Lowercase\n",
    "    text = text.lower()\n",
    "    # 2. Replace URLs\n",
    "    text = re.sub(r'http\\S+|www\\.\\S+', ' ', text)\n",
    "    # 3. Replace user mentions\n",
    "    text = re.sub(r'@\\w+', ' ', text)\n",
    "    # 4. Remove hashtags but keep the tag text\n",
    "    text = re.sub(r'#', '', text)\n",
    "    # 5. Remove RT (retweet marker)\n",
    "    text = re.sub(r'\\brt\\b', ' ', text)\n",
    "    # 6. Remove emojis or translate them to text\n",
    "    text = emoji.demojize(text)  # \":smile:\" etc\n",
    "    # 7. Remove non-alphanumeric (keep spaces)\n",
    "    text = re.sub(r'[^a-z0-9\\s]', ' ', text)\n",
    "    # 8. Collapse whitespace\n",
    "    text = re.sub(r'\\s+', ' ', text).strip()\n",
    "    return text"
   ]
  },
  {
   "cell_type": "markdown",
   "id": "91a57466-6085-479a-a17f-ec1d793080a4",
   "metadata": {},
   "source": [
    "**3.1 TfidfVectorizer+linearSVC**  \n",
    "We tried a combination of Tfidvectorizer and LinearSVC. The combination of the two can quickly \"feed\" massive text into the model, but also achieve a good balance between accuracy and computational resources, which is one of the most common and validated approaches in text classification.3."
   ]
  },
  {
   "cell_type": "code",
   "execution_count": 122,
   "id": "820aa2f8-0d8e-4e64-92ea-2e5a3b99595a",
   "metadata": {},
   "outputs": [
    {
     "name": "stdout",
     "output_type": "stream",
     "text": [
      "acc: 0.6173062997827661\n",
      "f1_w: 0.6164180770579569\n"
     ]
    }
   ],
   "source": [
    "from sklearn.svm import LinearSVC\n",
    "from sklearn.feature_extraction.text import TfidfVectorizer\n",
    "from sklearn.model_selection import train_test_split\n",
    "from sklearn.pipeline import Pipeline\n",
    "from sklearn.metrics import f1_score\n",
    "\n",
    "X_crowd = crowd_train_data['text'].apply(clean_tweet)\n",
    "Y_crowd = crowd_train_data['sentiment']\n",
    "\n",
    "X_test = test_data['text'].apply(clean_tweet)\n",
    "Y_test = test_data['sentiment']\n",
    "\n",
    "pipeline = Pipeline([(\"tfidf\", TfidfVectorizer(strip_accents='unicode', sublinear_tf=True)),\n",
    "                     (\"svc\", LinearSVC(dual='auto'))])\n",
    "clf = pipeline.fit(X_crowd, Y_crowd)\n",
    "acc = accuracy_score(Y_test, clf.predict(X_test))\n",
    "print(\"acc:\",acc)"
   ]
  },
  {
   "cell_type": "markdown",
   "id": "bfacc452",
   "metadata": {},
   "source": [
    "To ensure that the classifier has better performance and is more reliable. We used hyperparameter search and cross-validation to select a set of parameters that work better on unknown data in order to maximise the model's performance.\n",
    "\n",
    "The reason we used hyperparameter search was that it helps improve the predictive performance by finding the optimal settings. Also, it helps balance the model between overfitting and underfitting. On the other hand, cross-validation averages the performance by splitting the data, reducing the variance of the estimation."
   ]
  },
  {
   "cell_type": "markdown",
   "id": "4e1b60f7",
   "metadata": {},
   "source": [
    "**The grid of hyperparameters**  \n",
    "- 'tfidf__ngram_range' tells the vectorizer to extract all contiguous word-sequences (n-grams) whose length is between (1,1) and (1,2) and see which one performs better.  \n",
    "- 'tfidf__max_df' tells the vectorizer to ignore certain degrees of super-common terms when establishing a dictionary. We searched three common levels of percentage of degrees to filter the noise but also keep the essential terms.   \n",
    "- 'tfidf__min_df' tells the vectorizer to ignore certain degrees of rare terms when establishing a dictionary.  We searched three common levels of the amount of rare terms.  \n",
    "- 'tfidf__max_features' tells the vectorizer the cap vocabulary size.  We tried two different sizes.  \n",
    "- 'svc__C' refers to the punishing coefficient. The smaller the value, the stronger regularisation it has. We set different levels of regularisation to explore the trade-off between overfitting and underfitting.  "
   ]
  },
  {
   "cell_type": "code",
   "execution_count": 124,
   "id": "c7d853c2",
   "metadata": {},
   "outputs": [
    {
     "name": "stdout",
     "output_type": "stream",
     "text": [
      "Fitting 5 folds for each of 108 candidates, totalling 540 fits\n",
      "Best parameters:\n",
      " {'svc__C': 1.0, 'tfidf__max_df': 0.75, 'tfidf__max_features': 10000, 'tfidf__min_df': 10, 'tfidf__ngram_range': (1, 1)}\n",
      "Best CV score: 0.5566823740476127\n",
      "              precision    recall  f1-score   support\n",
      "\n",
      "    negative     0.5040    0.4717    0.4873      1077\n",
      "     neutral     0.5975    0.7185    0.6524      2597\n",
      "    positive     0.6734    0.5070    0.5785      1850\n",
      "\n",
      "    accuracy                         0.5996      5524\n",
      "   macro avg     0.5916    0.5657    0.5727      5524\n",
      "weighted avg     0.6047    0.5996    0.5955      5524\n",
      "\n"
     ]
    }
   ],
   "source": [
    "from sklearn.model_selection import GridSearchCV, StratifiedKFold\n",
    "from sklearn.metrics import classification_report\n",
    "\n",
    "# set up a grid of hyperparameters to search over\n",
    "param_grid = {\n",
    "    # TF–IDF params\n",
    "    'tfidf__ngram_range': [(1,1), (1,2)],    # unigrams vs unigrams+bi-grams\n",
    "    'tfidf__max_df':       [0.75, 0.85, 1.0], # ignore super-common terms\n",
    "    'tfidf__min_df':       [3, 5, 10],        # ignore rare terms\n",
    "    'tfidf__max_features':[10_000, 20_000],   # cap vocabulary size\n",
    "\n",
    "    # LinearSVC params\n",
    "    'svc__C':              [0.1, 1.0, 10.0],  # regularization strength\n",
    "}\n",
    "\n",
    "# choose a cross-validator\n",
    "cv = StratifiedKFold(n_splits=5, shuffle=True, random_state=42)\n",
    "\n",
    "# wrap in GridSearchCV\n",
    "grid = GridSearchCV(\n",
    "    pipeline,\n",
    "    param_grid=param_grid,\n",
    "    cv=cv,\n",
    "    scoring='f1_weighted',  \n",
    "    n_jobs=-1,              # use all cores\n",
    "    verbose=1,\n",
    ")\n",
    "\n",
    "# fit\n",
    "grid.fit(X_crowd, Y_crowd)\n",
    "print(\"Best parameters:\\n\", grid.best_params_)\n",
    "print(\"Best CV score:\", grid.best_score_)\n",
    "\n",
    "# evaluate on held-out test set\n",
    "y_crowd_pred = grid.predict(X_test)\n",
    "print(classification_report(Y_test, y_crowd_pred, digits=4))\n"
   ]
  },
  {
   "cell_type": "markdown",
   "id": "63c90ccb-9817-443f-8605-78d975bcc097",
   "metadata": {},
   "source": [
    "**Result of cross-validation**  \n",
    "There's a slight dropping down on the weighted F1 score. 5-fold CV trains each model on only 80 % of the data per fold and then averages over five splits, so it yields a more conservative estimate than a single run on 100 % of the data.\n",
    "GridSearchCV optimises hyperparameters for average CV performance, which may underperform on the one specific test split.\n",
    "\n",
    "However, in order to pursue better generalisation of the model, we chose the cross-validation optimized model."
   ]
  },
  {
   "cell_type": "code",
   "execution_count": 128,
   "id": "dd3baec4-d57a-4c20-a9bd-a149323db6da",
   "metadata": {},
   "outputs": [
    {
     "name": "stdout",
     "output_type": "stream",
     "text": [
      "Test weright F1: 0.5954742459828205\n"
     ]
    }
   ],
   "source": [
    "best_clf = grid.best_estimator_\n",
    "y_pred_test = best_clf.predict(X_test)\n",
    "print(\"Test weright F1:\", f1_score(Y_test, y_pred_test, average='weighted'))"
   ]
  },
  {
   "cell_type": "markdown",
   "id": "09ad5a6d-a87e-47b6-9eaf-9268dfe8701a",
   "metadata": {},
   "source": [
    "**Comparasion of crowd-sourced to gold-standard labels**  \n",
    "Switching from crowd-sourced to gold-standard labels boosted overall accuracy from 59.96% to 67.87% and weighted F1 from 0.5955 to 0.6746. In particular, positive-class recall jumped by 14.6 points, neutral F1 rose by 6.06 points, and negative precision increased by 17.32 points, showing that the cleaner gold labels yield much clearer decision boundaries.\n",
    "\n"
   ]
  },
  {
   "cell_type": "code",
   "execution_count": 192,
   "id": "7c938401-83e6-4de3-917e-71ebb55b3cd6",
   "metadata": {},
   "outputs": [
    {
     "name": "stdout",
     "output_type": "stream",
     "text": [
      "              precision    recall  f1-score   support\n",
      "\n",
      "    negative     0.6772    0.4968    0.5731      1077\n",
      "     neutral     0.6620    0.7724    0.7130      2597\n",
      "    positive     0.7089    0.6530    0.6798      1850\n",
      "\n",
      "    accuracy                         0.6787      5524\n",
      "   macro avg     0.6827    0.6407    0.6553      5524\n",
      "weighted avg     0.6807    0.6787    0.6746      5524\n",
      "\n"
     ]
    },
    {
     "data": {
      "image/png": "[encoded data removed]",
      "text/plain": [
       "<Figure size 640x480 with 2 Axes>"
      ]
     },
     "metadata": {},
     "output_type": "display_data"
    }
   ],
   "source": [
    "from sklearn.metrics import confusion_matrix, ConfusionMatrixDisplay\n",
    "import matplotlib.pyplot as plt\n",
    "\n",
    "# gold data\n",
    "X_gold = gold_train_data['text'].apply(clean_tweet)\n",
    "Y_gold = gold_train_data['sentiment']\n",
    "\n",
    "#split data\n",
    "# X_gold_train, X_gold_eval, Y_gold_train, Y_gold_eval = train_test_split(X_gold, Y_gold, test_size=0.2, random_state=42)\n",
    "\n",
    "grid.best_estimator_.fit(X_gold, Y_gold)\n",
    "\n",
    "# evaluate on held-out test set\n",
    "Y_gold_pred = grid.predict(X_test)\n",
    "print(classification_report(Y_test, Y_gold_pred, digits=4))\n",
    "\n",
    "# compute and render the confusion matrix for error analysis\n",
    "cm = confusion_matrix(Y_test, Y_gold_pred)\n",
    "disp = ConfusionMatrixDisplay(cm, display_labels=best_model.classes_)\n",
    "disp.plot(cmap=plt.cm.Blues)                           # blue palette for clarity\n",
    "plt.title('Confusion Matrix — Gold Data')\n",
    "plt.xlabel('Predicted Label')\n",
    "plt.ylabel('True Label')\n",
    "plt.tight_layout()\n",
    "plt.show()"
   ]
  },
  {
   "cell_type": "markdown",
   "id": "46a54687",
   "metadata": {},
   "source": [
    "**3.2 Logistic regression**  \n",
    "We also tried using Logistic regression"
   ]
  },
  {
   "cell_type": "code",
   "execution_count": 144,
   "id": "0606d16e-c034-465e-b9e6-83e10439f4bd",
   "metadata": {},
   "outputs": [
    {
     "name": "stdout",
     "output_type": "stream",
     "text": [
      "acc: 0.7098117306299783\n"
     ]
    }
   ],
   "source": [
    "from sklearn.linear_model import LogisticRegression\n",
    "from sklearn.feature_extraction.text import TfidfVectorizer\n",
    "from sklearn.model_selection import train_test_split\n",
    "from sklearn.pipeline import make_pipeline\n",
    "X = gold_train_data['text']\n",
    "Y = gold_train_data['sentiment']\n",
    "\n",
    "def train_document_classifier(X, Y):\n",
    "    pipeline = make_pipeline(TfidfVectorizer(preprocessor=clean_tweet,), LogisticRegression(\n",
    "    penalty='l2',            # L2 regularization\n",
    "    C=1.0,                   # Regularization strength (default)\n",
    "    solver='liblinear',      # Solver suitable for smaller datasets\n",
    "    max_iter=100,            # Iterations for convergence\n",
    "    class_weight='balanced', # Handle imbalanced classes\n",
    "    fit_intercept=True,      # Include intercept\n",
    "))\n",
    "    pipeline.fit(X, Y)\n",
    "    return pipeline\n",
    "clf = train_document_classifier(X, Y)\n",
    "acc = accuracy_score(Y_test, clf.predict(X_test))\n",
    "print(\"acc:\",acc)"
   ]
  },
  {
   "cell_type": "code",
   "execution_count": 171,
   "id": "3c8aca69",
   "metadata": {},
   "outputs": [
    {
     "name": "stdout",
     "output_type": "stream",
     "text": [
      "=== Crowd Dataset ===\n",
      "MultinomialNB: CV Accuracy = 0.5506 ± 0.0058, CV F1 = 0.5123 ± 0.0059\n",
      "  -> Hold-out: Accuracy = 0.5921, Weighted F1 = 0.5686\n",
      "              precision    recall  f1-score   support\n",
      "\n",
      "    negative     0.6392    0.3389    0.4430      1077\n",
      "     neutral     0.5582    0.8441    0.6720      2597\n",
      "    positive     0.6959    0.3859    0.4965      1850\n",
      "\n",
      "    accuracy                         0.5921      5524\n",
      "   macro avg     0.6311    0.5230    0.5372      5524\n",
      "weighted avg     0.6201    0.5921    0.5686      5524\n",
      "\n",
      "------------------------------------------------------------\n",
      "LogisticRegression: CV Accuracy = 0.5658 ± 0.0127, CV F1 = 0.5642 ± 0.0123\n",
      "  -> Hold-out: Accuracy = 0.6050, Weighted F1 = 0.6055\n",
      "              precision    recall  f1-score   support\n",
      "\n",
      "    negative     0.4903    0.6332    0.5527      1077\n",
      "     neutral     0.6178    0.6565    0.6366      2597\n",
      "    positive     0.6956    0.5162    0.5926      1850\n",
      "\n",
      "    accuracy                         0.6050      5524\n",
      "   macro avg     0.6012    0.6020    0.5939      5524\n",
      "weighted avg     0.6190    0.6050    0.6055      5524\n",
      "\n",
      "------------------------------------------------------------\n",
      "LinearSVC: CV Accuracy = 0.5303 ± 0.0138, CV F1 = 0.5306 ± 0.0137\n",
      "  -> Hold-out: Accuracy = 0.6019, Weighted F1 = 0.6035\n",
      "              precision    recall  f1-score   support\n",
      "\n",
      "    negative     0.4863    0.6258    0.5473      1077\n",
      "     neutral     0.6261    0.6280    0.6271      2597\n",
      "    positive     0.6654    0.5514    0.6030      1850\n",
      "\n",
      "    accuracy                         0.6019      5524\n",
      "   macro avg     0.5926    0.6017    0.5925      5524\n",
      "weighted avg     0.6120    0.6019    0.6035      5524\n",
      "\n",
      "------------------------------------------------------------\n",
      "RidgeClassifier: CV Accuracy = 0.5554 ± 0.0109, CV F1 = 0.5463 ± 0.0104\n",
      "  -> Hold-out: Accuracy = 0.6110, Weighted F1 = 0.6072\n",
      "              precision    recall  f1-score   support\n",
      "\n",
      "    negative     0.5461    0.5330    0.5395      1077\n",
      "     neutral     0.6030    0.7216    0.6570      2597\n",
      "    positive     0.6791    0.5011    0.5767      1850\n",
      "\n",
      "    accuracy                         0.6110      5524\n",
      "   macro avg     0.6094    0.5852    0.5910      5524\n",
      "weighted avg     0.6174    0.6110    0.6072      5524\n",
      "\n",
      "------------------------------------------------------------\n",
      "\n",
      "=== Gold Dataset ===\n",
      "MultinomialNB: CV Accuracy = 0.6132 ± 0.0062, CV F1 = 0.5740 ± 0.0074\n",
      "  -> Hold-out: Accuracy = 0.6450, Weighted F1 = 0.6148\n",
      "              precision    recall  f1-score   support\n",
      "\n",
      "    negative     0.8271    0.2043    0.3276      1077\n",
      "     neutral     0.5975    0.8745    0.7099      2597\n",
      "    positive     0.7358    0.5795    0.6483      1850\n",
      "\n",
      "    accuracy                         0.6450      5524\n",
      "   macro avg     0.7201    0.5527    0.5620      5524\n",
      "weighted avg     0.6885    0.6450    0.6148      5524\n",
      "\n",
      "------------------------------------------------------------\n",
      "LogisticRegression: CV Accuracy = 0.6318 ± 0.0062, CV F1 = 0.6305 ± 0.0062\n",
      "  -> Hold-out: Accuracy = 0.7011, Weighted F1 = 0.7016\n",
      "              precision    recall  f1-score   support\n",
      "\n",
      "    negative     0.6250    0.6871    0.6546      1077\n",
      "     neutral     0.7133    0.7212    0.7172      2597\n",
      "    positive     0.7351    0.6811    0.7071      1850\n",
      "\n",
      "    accuracy                         0.7011      5524\n",
      "   macro avg     0.6911    0.6965    0.6930      5524\n",
      "weighted avg     0.7034    0.7011    0.7016      5524\n",
      "\n",
      "------------------------------------------------------------\n",
      "LinearSVC: CV Accuracy = 0.6035 ± 0.0104, CV F1 = 0.6039 ± 0.0107\n",
      "  -> Hold-out: Accuracy = 0.7538, Weighted F1 = 0.7541\n",
      "              precision    recall  f1-score   support\n",
      "\n",
      "    negative     0.6956    0.7595    0.7261      1077\n",
      "     neutral     0.7733    0.7566    0.7649      2597\n",
      "    positive     0.7643    0.7465    0.7553      1850\n",
      "\n",
      "    accuracy                         0.7538      5524\n",
      "   macro avg     0.7444    0.7542    0.7488      5524\n",
      "weighted avg     0.7551    0.7538    0.7541      5524\n",
      "\n",
      "------------------------------------------------------------\n",
      "RidgeClassifier: CV Accuracy = 0.6272 ± 0.0112, CV F1 = 0.6174 ± 0.0122\n",
      "  -> Hold-out: Accuracy = 0.7359, Weighted F1 = 0.7327\n",
      "              precision    recall  f1-score   support\n",
      "\n",
      "    negative     0.7940    0.5692    0.6631      1077\n",
      "     neutral     0.7058    0.8306    0.7631      2597\n",
      "    positive     0.7636    0.7000    0.7304      1850\n",
      "\n",
      "    accuracy                         0.7359      5524\n",
      "   macro avg     0.7545    0.6999    0.7189      5524\n",
      "weighted avg     0.7424    0.7359    0.7327      5524\n",
      "\n",
      "------------------------------------------------------------\n",
      "\n"
     ]
    }
   ],
   "source": [
    "from sklearn.pipeline import make_pipeline\n",
    "from sklearn.feature_extraction.text import TfidfVectorizer\n",
    "from sklearn.model_selection import cross_val_score, StratifiedKFold, train_test_split\n",
    "from sklearn.naive_bayes import MultinomialNB\n",
    "from sklearn.linear_model import LogisticRegression, RidgeClassifier\n",
    "from sklearn.svm import LinearSVC\n",
    "from sklearn.ensemble import HistGradientBoostingClassifier\n",
    "from sklearn.metrics import classification_report, accuracy_score, f1_score\n",
    "\n",
    "# Prepare datasets\n",
    "X_crowd = crowd_train_data['text'].apply(clean_tweet)\n",
    "Y_crowd = crowd_train_data['sentiment']\n",
    "X_gold  = gold_train_data['text'].apply(clean_tweet)\n",
    "Y_gold  = gold_train_data['sentiment']\n",
    "\n",
    "# Define models to benchmark\n",
    "models = {\n",
    "    \"MultinomialNB\":       MultinomialNB(),\n",
    "    \"LogisticRegression\":  LogisticRegression(max_iter=200, class_weight='balanced', solver='liblinear'),\n",
    "    \"LinearSVC\":           LinearSVC(class_weight='balanced', max_iter=1000),\n",
    "    \"RidgeClassifier\":     RidgeClassifier(),\n",
    "}\n",
    "\n",
    "# Shared TF–IDF settings\n",
    "tfidf = TfidfVectorizer(\n",
    "    preprocessor=clean_tweet,\n",
    "    ngram_range=(1,2),     # unigrams + bigrams\n",
    "    stop_words='english',\n",
    "    max_features=10000,\n",
    "    sublinear_tf=True,\n",
    "    min_df=3\n",
    ")\n",
    "\n",
    "cv = StratifiedKFold(n_splits=5, shuffle=True, random_state=42)\n",
    "\n",
    "# Container for results\n",
    "eval_results = {}\n",
    "\n",
    "for name, (X_tr, X_te, y_tr, y_te) in {\n",
    "    'Crowd': (X_crowd, X_test, Y_crowd, Y_test),\n",
    "    'Gold':  (X_gold,  X_test,  Y_gold,  Y_test)\n",
    "}.items():\n",
    "    print(f\"=== {name} Dataset ===\")\n",
    "    eval_results[name] = {}\n",
    "    for model_name, model in models.items():\n",
    "        pipe = make_pipeline(tfidf, model)\n",
    "        # Cross-validation accuracy and F1\n",
    "        acc_scores = cross_val_score(pipe, X_tr, y_tr, cv=cv, scoring='accuracy', n_jobs=-1)\n",
    "        f1_scores  = cross_val_score(pipe, X_tr, y_tr, cv=cv, scoring='f1_weighted', n_jobs=-1)\n",
    "        print(f\"{model_name}: CV Accuracy = {acc_scores.mean():.4f} ± {acc_scores.std():.4f},\"\n",
    "              f\" CV F1 = {f1_scores.mean():.4f} ± {f1_scores.std():.4f}\")\n",
    "        \n",
    "        # Hold-out evaluation\n",
    "        pipe.fit(X_tr, y_tr)\n",
    "        y_pred = pipe.predict(X_te)\n",
    "        acc_te = accuracy_score(y_te, y_pred)\n",
    "        f1_te  = f1_score(y_te, y_pred, average='weighted')\n",
    "        print(f\"  -> Hold-out: Accuracy = {acc_te:.4f}, Weighted F1 = {f1_te:.4f}\")\n",
    "        print(classification_report(y_te, y_pred, digits=4))\n",
    "        print(\"-\"*60)\n",
    "    print()"
   ]
  },
  {
   "cell_type": "markdown",
   "id": "176a0618-a597-4d9f-a73a-47204fc9f78d",
   "metadata": {},
   "source": [
    "**3.3 Neural Network Model**"
   ]
  },
  {
   "cell_type": "code",
   "execution_count": 173,
   "id": "4b361009-f79c-43d6-90be-63f8a4fd6c29",
   "metadata": {},
   "outputs": [
    {
     "name": "stdout",
     "output_type": "stream",
     "text": [
      "Crowd MLP Test Accuracy: 0.6016\n",
      "              precision    recall  f1-score   support\n",
      "\n",
      "    negative     0.5126    0.5859    0.5468      1077\n",
      "     neutral     0.6122    0.6577    0.6341      2597\n",
      "    positive     0.6547    0.5319    0.5869      1850\n",
      "\n",
      "    accuracy                         0.6016      5524\n",
      "   macro avg     0.5932    0.5918    0.5893      5524\n",
      "weighted avg     0.6070    0.6016    0.6013      5524\n",
      "\n",
      "------------------------------------------------------------\n",
      "Gold MLP Test Accuracy: 0.7969\n",
      "              precision    recall  f1-score   support\n",
      "\n",
      "    negative     0.7934    0.7168    0.7532      1077\n",
      "     neutral     0.7877    0.8371    0.8116      2597\n",
      "    positive     0.8130    0.7870    0.7998      1850\n",
      "\n",
      "    accuracy                         0.7969      5524\n",
      "   macro avg     0.7980    0.7803    0.7882      5524\n",
      "weighted avg     0.7973    0.7969    0.7963      5524\n",
      "\n",
      "------------------------------------------------------------\n"
     ]
    }
   ],
   "source": [
    "from sklearn.feature_extraction.text import TfidfVectorizer\n",
    "from sklearn.neural_network import MLPClassifier\n",
    "from sklearn.metrics import accuracy_score, classification_report\n",
    "from sklearn.preprocessing import LabelEncoder\n",
    "\n",
    "# Assume these are already defined:\n",
    "# X_crowd_train, Y_crowd_train, X_crowd_test, Y_crowd_test\n",
    "# X_gold_train,  Y_gold_train,  X_gold_test,  Y_gold_test\n",
    "\n",
    "def evaluate_mlp(X_train, y_train, X_test, y_test, dataset_name):\n",
    "    # Encode labels\n",
    "    le = LabelEncoder()\n",
    "    y_train_enc = le.fit_transform(y_train)\n",
    "    y_test_enc  = le.transform(y_test)\n",
    "    \n",
    "    # TF–IDF\n",
    "    tfidf = TfidfVectorizer(\n",
    "        preprocessor=clean_tweet,\n",
    "        stop_words='english',\n",
    "        max_features=5000\n",
    "    )\n",
    "    X_tr = tfidf.fit_transform(X_train).toarray()\n",
    "    X_te = tfidf.transform(X_test).toarray()\n",
    "    \n",
    "    # MLP\n",
    "    mlp = MLPClassifier(\n",
    "        hidden_layer_sizes=(512, 256),\n",
    "        activation='relu',\n",
    "        solver='adam',\n",
    "        max_iter=100,\n",
    "        random_state=0,\n",
    "        verbose=False\n",
    "    )\n",
    "    mlp.fit(X_tr, y_train_enc)\n",
    "    \n",
    "    # Predict & report\n",
    "    y_pred = mlp.predict(X_te)\n",
    "    acc = accuracy_score(y_test_enc, y_pred)\n",
    "    print(f\"{dataset_name} MLP Test Accuracy: {acc:.4f}\")\n",
    "    print(classification_report(y_test_enc, y_pred, target_names=le.classes_, digits=4))\n",
    "    print(\"-\" * 60)\n",
    "\n",
    "# Run on both datasets\n",
    "evaluate_mlp(X_crowd, Y_crowd, X_test, Y_test, \"Crowd\")\n",
    "evaluate_mlp(X_gold,  Y_gold,  X_test,  Y_test,  \"Gold\")\n"
   ]
  },
  {
   "cell_type": "markdown",
   "id": "6ffb8e6a-e455-4ffc-81f8-baef61f01c97",
   "metadata": {},
   "source": [
    "**MLP with RandomizedSearchCV**"
   ]
  },
  {
   "cell_type": "code",
   "execution_count": 188,
   "id": "843d19da-668d-47ea-b1de-b5e3db6a777f",
   "metadata": {},
   "outputs": [],
   "source": [
    "import numpy as np\n",
    "import matplotlib.pyplot as plt\n",
    "from sklearn.pipeline import Pipeline\n",
    "from sklearn.feature_extraction.text import TfidfVectorizer\n",
    "from sklearn.neural_network import MLPClassifier\n",
    "from sklearn.preprocessing import LabelEncoder\n",
    "from sklearn.model_selection import RandomizedSearchCV\n",
    "from sklearn.metrics import (\n",
    "    accuracy_score,\n",
    "    classification_report,\n",
    "    confusion_matrix,\n",
    "    ConfusionMatrixDisplay\n",
    ")\n",
    "from scipy.stats import uniform\n",
    "# evaluation function\n",
    "def evaluate_mlp_with_confusion(X_train, y_train, X_test, y_test, dataset_label):\n",
    "    # 1) turn text labels into integer classes\n",
    "    encoder = LabelEncoder()\n",
    "    y_train_enc = encoder.fit_transform(y_train)\n",
    "    y_test_enc  = encoder.transform(y_test)\n",
    "    \n",
    "    # 2) build a single pipeline: TF–IDF vectorizer → MLP classifier\n",
    "    pipeline = Pipeline([\n",
    "        ('tfidf', TfidfVectorizer(\n",
    "            preprocessor=clean_tweet,      # custom text cleaner\n",
    "            stop_words='english',          # remove English stop words\n",
    "            max_features=3000              # limit vocab size for speed\n",
    "        )),\n",
    "        ('mlp', MLPClassifier(\n",
    "            activation='relu',\n",
    "            solver='adam',\n",
    "            early_stopping=True,           # stop when validation score stalls\n",
    "            max_iter=100,                  # cap epochs to speed up\n",
    "            random_state=0\n",
    "        ))\n",
    "    ])\n",
    "    \n",
    "    # 3) define a small hyperparameter search space\n",
    "    search_space = {\n",
    "        'mlp__hidden_layer_sizes': [(128, 64), (256, 128)],\n",
    "        'mlp__alpha': uniform(1e-5, 1e-3),\n",
    "        'mlp__learning_rate_init': uniform(1e-4, 1e-2)\n",
    "    }\n",
    "    \n",
    "    # 4) run randomized CV search\n",
    "    search = RandomizedSearchCV(\n",
    "        estimator=pipeline,\n",
    "        param_distributions=search_space,\n",
    "        n_iter=5,               # fewer trials for faster turnaround\n",
    "        scoring='accuracy',\n",
    "        cv=2,                   # 2-fold CV\n",
    "        random_state=0,\n",
    "        n_jobs=-1,\n",
    "        verbose=1\n",
    "    )\n",
    "    search.fit(X_train, y_train_enc)\n",
    "    \n",
    "    # 5) evaluation metrics\n",
    "    best_params = search.best_params_\n",
    "    preds = search.predict(X_test)\n",
    "    acc = accuracy_score(y_test_enc, preds)\n",
    "    \n",
    "    print(f\"=== {dataset_label} DATASET ===\")\n",
    "    print(\"Best hyperparameters:\", best_params)\n",
    "    print(f\"Test accuracy: {acc:.4f}\\n\")\n",
    "    print(\"Classification report:\")\n",
    "    print(classification_report(y_test_enc, preds, target_names=encoder.classes_, digits=4))\n",
    "    \n",
    "    # 6) confusion matrix plot\n",
    "    cm = confusion_matrix(y_test_enc, preds)\n",
    "    disp = ConfusionMatrixDisplay(cm, display_labels=encoder.classes_)\n",
    "    disp.plot(cmap=plt.cm.Blues)\n",
    "    plt.title(f\"{dataset_label} Confusion Matrix\")\n",
    "    plt.show()\n",
    "    print(\"\\n\" + \"-\"*60 + \"\\n\")\n",
    "\n",
    "\n"
   ]
  },
  {
   "cell_type": "code",
   "execution_count": 190,
   "id": "72326de2-1fb9-41c1-ab18-a0745ed59278",
   "metadata": {},
   "outputs": [
    {
     "name": "stdout",
     "output_type": "stream",
     "text": [
      "Fitting 2 folds for each of 5 candidates, totalling 10 fits\n",
      "=== Crowd DATASET ===\n",
      "Best hyperparameters: {'mlp__alpha': 0.0006558941130666562, 'mlp__hidden_layer_sizes': (128, 64), 'mlp__learning_rate_init': 0.0030753460654447226}\n",
      "Test accuracy: 0.5604\n",
      "\n",
      "Classification report:\n",
      "              precision    recall  f1-score   support\n",
      "\n",
      "    negative     0.4548    0.4118    0.4322       476\n",
      "     neutral     0.5982    0.6683    0.6313      1016\n",
      "    positive     0.5649    0.5000    0.5305       644\n",
      "\n",
      "    accuracy                         0.5604      2136\n",
      "   macro avg     0.5393    0.5267    0.5313      2136\n",
      "weighted avg     0.5562    0.5604    0.5565      2136\n",
      "\n"
     ]
    },
    {
     "data": {
      "image/png": "[encoded data removed]",
      "text/plain": [
       "<Figure size 640x480 with 2 Axes>"
      ]
     },
     "metadata": {},
     "output_type": "display_data"
    },
    {
     "name": "stdout",
     "output_type": "stream",
     "text": [
      "\n",
      "------------------------------------------------------------\n",
      "\n",
      "Fitting 2 folds for each of 5 candidates, totalling 10 fits\n",
      "=== Gold DATASET ===\n",
      "Best hyperparameters: {'mlp__alpha': 0.0008679456176227568, 'mlp__hidden_layer_sizes': (256, 128), 'mlp__learning_rate_init': 0.004336547993389048}\n",
      "Test accuracy: 0.6030\n",
      "\n",
      "Classification report:\n",
      "              precision    recall  f1-score   support\n",
      "\n",
      "    negative     0.5144    0.3765    0.4348       332\n",
      "     neutral     0.6307    0.6589    0.6445      1073\n",
      "    positive     0.5907    0.6238    0.6068       731\n",
      "\n",
      "    accuracy                         0.6030      2136\n",
      "   macro avg     0.5786    0.5531    0.5620      2136\n",
      "weighted avg     0.5989    0.6030    0.5990      2136\n",
      "\n"
     ]
    },
    {
     "data": {
      "image/png": "[encoded data removed]",
      "text/plain": [
       "<Figure size 640x480 with 2 Axes>"
      ]
     },
     "metadata": {},
     "output_type": "display_data"
    },
    {
     "name": "stdout",
     "output_type": "stream",
     "text": [
      "\n",
      "------------------------------------------------------------\n",
      "\n"
     ]
    }
   ],
   "source": [
    "# run evaluations on both datasets\n",
    "evaluate_mlp_with_confusion(\n",
    "    X_crowd_train, Y_crowd_train,\n",
    "    X_crowd_test,  Y_crowd_test,\n",
    "    dataset_label=\"Crowd\"\n",
    ")\n",
    "\n",
    "evaluate_mlp_with_confusion(\n",
    "    X_gold_train, Y_gold_train,\n",
    "    X_gold_test,  Y_gold_test,\n",
    "    dataset_label=\"Gold\"\n",
    ")"
   ]
  },
  {
   "cell_type": "code",
   "execution_count": null,
   "id": "2c811ebf-f62f-410f-bb1e-c28d3afc7f39",
   "metadata": {},
   "outputs": [],
   "source": []
  }
 ],
 "metadata": {
  "kernelspec": {
   "display_name": "Python [conda env:base] *",
   "language": "python",
   "name": "conda-base-py"
  },
  "language_info": {
   "codemirror_mode": {
    "name": "ipython",
    "version": 3
   },
   "file_extension": ".py",
   "mimetype": "text/x-python",
   "name": "python",
   "nbconvert_exporter": "python",
   "pygments_lexer": "ipython3",
   "version": "3.12.7"
  }
 },
 "nbformat": 4,
 "nbformat_minor": 5
}
