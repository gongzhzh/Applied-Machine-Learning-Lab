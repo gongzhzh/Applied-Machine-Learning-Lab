{
 "cells": [
  {
   "cell_type": "markdown",
   "id": "e3dacf12-d6b4-4046-bde5-f77049762c70",
   "metadata": {},
   "source": [
    "# Task 1"
   ]
  },
  {
   "cell_type": "markdown",
   "id": "840ef4d9-316c-474c-a756-031321895b69",
   "metadata": {},
   "source": [
    "**Introduction**  \n",
    "In task 1, we tried 8 classifiers (including the baseline classifier). In our test, the **DecisionTreeClassifier** performed best among all. Furthermore, we tuned one hyperparameter — the max depth — to optimize the classifier.\n",
    "\n",
    "DecisionTreeClassifier is a supervised learning algorithm that splits data into branches based on feature conditions, forming a tree-like structure.\n",
    "\n",
    "| Classifier  | Accuracy       |\n",
    "|----------|------------------|\n",
    "| DummyClassifier      |0.7699530516431925     |\n",
    "| DecisionTreeClassifier   |0.9061032863849765     |\n",
    "| RandomForestClassifier |0.8474178403755869     |\n",
    "| GradientBoostingClassifier |0.8896713615023474     |\n",
    "| Perceptron |0.8145539906103286     |\n",
    "| LogisticRegression |0.8732394366197183     |\n",
    "| LinearSVC |0.8849765258215962     |\n",
    "| MLPClassifier |0.8356807511737089     |\n",
    "\n",
    "\n",
    "**Preparation**  \n",
    "In this step, we read and shuffle the dataset. Then, we partition the data into training and test sets."
   ]
  },
  {
   "cell_type": "code",
   "execution_count": 361,
   "id": "f8ac532c-d921-405f-9e13-c5eb45dabe66",
   "metadata": {
    "panel-layout": {
     "height": 170,
     "visible": true,
     "width": 100
    },
    "scrolled": true
   },
   "outputs": [
    {
     "data": {
      "text/html": [
       "<div>\n",
       "<style scoped>\n",
       "    .dataframe tbody tr th:only-of-type {\n",
       "        vertical-align: middle;\n",
       "    }\n",
       "\n",
       "    .dataframe tbody tr th {\n",
       "        vertical-align: top;\n",
       "    }\n",
       "\n",
       "    .dataframe thead th {\n",
       "        text-align: right;\n",
       "    }\n",
       "</style>\n",
       "<table border=\"1\" class=\"dataframe\">\n",
       "  <thead>\n",
       "    <tr style=\"text-align: right;\">\n",
       "      <th></th>\n",
       "      <th>LB</th>\n",
       "      <th>AC</th>\n",
       "      <th>FM</th>\n",
       "      <th>UC</th>\n",
       "      <th>DL</th>\n",
       "      <th>DS</th>\n",
       "      <th>DP</th>\n",
       "      <th>ASTV</th>\n",
       "      <th>MSTV</th>\n",
       "      <th>ALTV</th>\n",
       "      <th>...</th>\n",
       "      <th>Width</th>\n",
       "      <th>Min</th>\n",
       "      <th>Max</th>\n",
       "      <th>Nmax</th>\n",
       "      <th>Nzeros</th>\n",
       "      <th>Mode</th>\n",
       "      <th>Mean</th>\n",
       "      <th>Median</th>\n",
       "      <th>Variance</th>\n",
       "      <th>Tendency</th>\n",
       "    </tr>\n",
       "  </thead>\n",
       "  <tbody>\n",
       "    <tr>\n",
       "      <th>658</th>\n",
       "      <td>130.0</td>\n",
       "      <td>1.0</td>\n",
       "      <td>0.0</td>\n",
       "      <td>3.0</td>\n",
       "      <td>0.0</td>\n",
       "      <td>0.0</td>\n",
       "      <td>0.0</td>\n",
       "      <td>24.0</td>\n",
       "      <td>1.2</td>\n",
       "      <td>12.0</td>\n",
       "      <td>...</td>\n",
       "      <td>35.0</td>\n",
       "      <td>120.0</td>\n",
       "      <td>155.0</td>\n",
       "      <td>1.0</td>\n",
       "      <td>0.0</td>\n",
       "      <td>134.0</td>\n",
       "      <td>133.0</td>\n",
       "      <td>135.0</td>\n",
       "      <td>1.0</td>\n",
       "      <td>0.0</td>\n",
       "    </tr>\n",
       "    <tr>\n",
       "      <th>1734</th>\n",
       "      <td>134.0</td>\n",
       "      <td>9.0</td>\n",
       "      <td>1.0</td>\n",
       "      <td>8.0</td>\n",
       "      <td>5.0</td>\n",
       "      <td>0.0</td>\n",
       "      <td>0.0</td>\n",
       "      <td>59.0</td>\n",
       "      <td>1.2</td>\n",
       "      <td>0.0</td>\n",
       "      <td>...</td>\n",
       "      <td>109.0</td>\n",
       "      <td>80.0</td>\n",
       "      <td>189.0</td>\n",
       "      <td>6.0</td>\n",
       "      <td>0.0</td>\n",
       "      <td>150.0</td>\n",
       "      <td>146.0</td>\n",
       "      <td>150.0</td>\n",
       "      <td>33.0</td>\n",
       "      <td>0.0</td>\n",
       "    </tr>\n",
       "    <tr>\n",
       "      <th>1226</th>\n",
       "      <td>125.0</td>\n",
       "      <td>1.0</td>\n",
       "      <td>0.0</td>\n",
       "      <td>4.0</td>\n",
       "      <td>0.0</td>\n",
       "      <td>0.0</td>\n",
       "      <td>0.0</td>\n",
       "      <td>43.0</td>\n",
       "      <td>0.7</td>\n",
       "      <td>31.0</td>\n",
       "      <td>...</td>\n",
       "      <td>21.0</td>\n",
       "      <td>120.0</td>\n",
       "      <td>141.0</td>\n",
       "      <td>0.0</td>\n",
       "      <td>0.0</td>\n",
       "      <td>131.0</td>\n",
       "      <td>130.0</td>\n",
       "      <td>132.0</td>\n",
       "      <td>1.0</td>\n",
       "      <td>0.0</td>\n",
       "    </tr>\n",
       "    <tr>\n",
       "      <th>1808</th>\n",
       "      <td>143.0</td>\n",
       "      <td>0.0</td>\n",
       "      <td>0.0</td>\n",
       "      <td>1.0</td>\n",
       "      <td>0.0</td>\n",
       "      <td>0.0</td>\n",
       "      <td>0.0</td>\n",
       "      <td>69.0</td>\n",
       "      <td>0.3</td>\n",
       "      <td>6.0</td>\n",
       "      <td>...</td>\n",
       "      <td>27.0</td>\n",
       "      <td>132.0</td>\n",
       "      <td>159.0</td>\n",
       "      <td>1.0</td>\n",
       "      <td>0.0</td>\n",
       "      <td>145.0</td>\n",
       "      <td>144.0</td>\n",
       "      <td>146.0</td>\n",
       "      <td>1.0</td>\n",
       "      <td>0.0</td>\n",
       "    </tr>\n",
       "    <tr>\n",
       "      <th>825</th>\n",
       "      <td>152.0</td>\n",
       "      <td>0.0</td>\n",
       "      <td>0.0</td>\n",
       "      <td>4.0</td>\n",
       "      <td>0.0</td>\n",
       "      <td>0.0</td>\n",
       "      <td>0.0</td>\n",
       "      <td>62.0</td>\n",
       "      <td>0.4</td>\n",
       "      <td>59.0</td>\n",
       "      <td>...</td>\n",
       "      <td>25.0</td>\n",
       "      <td>136.0</td>\n",
       "      <td>161.0</td>\n",
       "      <td>0.0</td>\n",
       "      <td>0.0</td>\n",
       "      <td>159.0</td>\n",
       "      <td>156.0</td>\n",
       "      <td>158.0</td>\n",
       "      <td>1.0</td>\n",
       "      <td>1.0</td>\n",
       "    </tr>\n",
       "  </tbody>\n",
       "</table>\n",
       "<p>5 rows × 21 columns</p>\n",
       "</div>"
      ],
      "text/plain": [
       "         LB   AC   FM   UC   DL   DS   DP  ASTV  MSTV  ALTV  ...  Width  \\\n",
       "658   130.0  1.0  0.0  3.0  0.0  0.0  0.0  24.0   1.2  12.0  ...   35.0   \n",
       "1734  134.0  9.0  1.0  8.0  5.0  0.0  0.0  59.0   1.2   0.0  ...  109.0   \n",
       "1226  125.0  1.0  0.0  4.0  0.0  0.0  0.0  43.0   0.7  31.0  ...   21.0   \n",
       "1808  143.0  0.0  0.0  1.0  0.0  0.0  0.0  69.0   0.3   6.0  ...   27.0   \n",
       "825   152.0  0.0  0.0  4.0  0.0  0.0  0.0  62.0   0.4  59.0  ...   25.0   \n",
       "\n",
       "        Min    Max  Nmax  Nzeros   Mode   Mean  Median  Variance  Tendency  \n",
       "658   120.0  155.0   1.0     0.0  134.0  133.0   135.0       1.0       0.0  \n",
       "1734   80.0  189.0   6.0     0.0  150.0  146.0   150.0      33.0       0.0  \n",
       "1226  120.0  141.0   0.0     0.0  131.0  130.0   132.0       1.0       0.0  \n",
       "1808  132.0  159.0   1.0     0.0  145.0  144.0   146.0       1.0       0.0  \n",
       "825   136.0  161.0   0.0     0.0  159.0  156.0   158.0       1.0       1.0  \n",
       "\n",
       "[5 rows x 21 columns]"
      ]
     },
     "execution_count": 361,
     "metadata": {},
     "output_type": "execute_result"
    }
   ],
   "source": [
    "import pandas as pd\n",
    "from sklearn.model_selection import train_test_split\n",
    "\n",
    "LOCATION_OF_THE_FILE = '/Users/zhuangzhuanggong/Downloads/CTG.csv'\n",
    "\n",
    "# Read the CSV file.\n",
    "data = pd.read_csv(LOCATION_OF_THE_FILE, skiprows=1)\n",
    "\n",
    "# Select the relevant numerical columns.\n",
    "selected_cols = ['LB', 'AC', 'FM', 'UC', 'DL', 'DS', 'DP', 'ASTV', 'MSTV', 'ALTV',\n",
    "                 'MLTV', 'Width', 'Min', 'Max', 'Nmax', 'Nzeros', 'Mode', 'Mean',\n",
    "                 'Median', 'Variance', 'Tendency', 'NSP']\n",
    "data = data[selected_cols].dropna()\n",
    "\n",
    "# Shuffle the dataset.\n",
    "data_shuffled = data.sample(frac=1.0, random_state=0)\n",
    "\n",
    "# Split into input part X and output part Y.\n",
    "X = data_shuffled.drop('NSP', axis=1)\n",
    "\n",
    "# Map the diagnosis code to a human-readable label.\n",
    "def to_label(y):\n",
    "    return [None, 'normal', 'suspect', 'pathologic'][(int(y))]\n",
    "\n",
    "Y = data_shuffled['NSP'].apply(to_label)\n",
    "\n",
    "# Partition the data into training and test sets.\n",
    "Xtrain, Xtest, Ytrain, Ytest = train_test_split(X, Y, test_size=0.2, random_state=0)\n",
    "X.head()"
   ]
  },
  {
   "cell_type": "markdown",
   "id": "fd0c1653-3818-42ff-a4e5-c15670274f86",
   "metadata": {},
   "source": [
    "**Traning the baseline classifier**"
   ]
  },
  {
   "cell_type": "code",
   "execution_count": null,
   "id": "e05168c7-9446-4922-b317-1d3e75feb536",
   "metadata": {
    "panel-layout": {
     "height": 68.140625,
     "visible": true,
     "width": 100
    }
   },
   "outputs": [],
   "source": [
    "from sklearn.model_selection import cross_val_score\n",
    "from sklearn.dummy import DummyClassifier\n",
    "from sklearn.metrics import accuracy_score\n",
    "clf = DummyClassifier(strategy='most_frequent')\n",
    "print(cross_val_score(clf, Xtrain, Ytrain))\n",
    "\n",
    "clf.fit(Xtrain, Ytrain)\n",
    "Yguess = clf.predict(Xtest)\n",
    "print(accuracy_score(Ytest, Yguess))"
   ]
  },
  {
   "cell_type": "markdown",
   "id": "1531d18b-8890-4d71-a6b8-c15f27512fc0",
   "metadata": {},
   "source": [
    "**Training DecisionTreeClassifier**  \n",
    "In our tests, the DecisionTreeClassifier performed the best. However, to avoid overfitting, we tuned the max depth of the tree and tried to find a better depth for the decision tree. Here, we used an array of depths as we don't know what depth could be better. It turned out the cross-validation score rose a bit.  \n",
    "In this case, we chose this classified with the optimization on the max depth to be our evaluation classifier.  \n",
    "\n",
    "While the decision tree might perform well, it still carries the risk of overfitting, especially if the tree is deep."
   ]
  },
  {
   "cell_type": "markdown",
   "id": "9cd13c47-0349-4af5-a68a-549643c57d24",
   "metadata": {},
   "source": [
    "First, we tried the classifier without tuning hyperparameters."
   ]
  },
  {
   "cell_type": "code",
   "execution_count": null,
   "id": "afa83b99-1000-4238-b800-5c6428f8204e",
   "metadata": {
    "panel-layout": {
     "height": 68.140625,
     "visible": true,
     "width": 100
    }
   },
   "outputs": [],
   "source": [
    "#DecisionTreeClassifier\n",
    "from sklearn.tree import DecisionTreeClassifier\n",
    "clf = DecisionTreeClassifier(random_state=0)\n",
    "cross_val_score(clf, Xtrain, Ytrain)"
   ]
  },
  {
   "cell_type": "markdown",
   "id": "60665df3-b781-43ef-ae3e-bf04e486c771",
   "metadata": {},
   "source": [
    "Once we had a better-performing classifier, compared to other classifiers we tried, we tuned the max depth with an array."
   ]
  },
  {
   "cell_type": "code",
   "execution_count": null,
   "id": "6a656e32-f7bf-466d-a663-be995570b0bb",
   "metadata": {
    "panel-layout": {
     "height": 68.140625,
     "visible": true,
     "width": 100
    }
   },
   "outputs": [],
   "source": [
    "#DecisionTreeClassifier with optimization of max_depth\n",
    "from sklearn.model_selection import GridSearchCV\n",
    "\n",
    "param_grid = {\n",
    "    'max_depth': [3, 5, 10, None],  \n",
    "}\n",
    "\n",
    "grid_search = GridSearchCV(clf, param_grid, cv=5, scoring='accuracy')\n",
    "grid_search.fit(Xtrain, Ytrain)\n",
    "cross_val_score(grid_search, Xtrain, Ytrain)"
   ]
  },
  {
   "cell_type": "markdown",
   "id": "818da911-5779-4578-a87b-d1253dd2a699",
   "metadata": {},
   "source": [
    "Finally, we trained it on the whole training set and evaluated it on the held-out test set."
   ]
  },
  {
   "cell_type": "code",
   "execution_count": null,
   "id": "14f1057f-aea9-4677-907d-dd52bf2791c6",
   "metadata": {
    "panel-layout": {
     "height": 0,
     "visible": true,
     "width": 100
    }
   },
   "outputs": [],
   "source": [
    "#DecisionTreeClassifier\n",
    "from sklearn.model_selection import GridSearchCV\n",
    "\n",
    "param_grid = {\n",
    "    'max_depth': [3, 5, 10, None],  \n",
    "}\n",
    "\n",
    "grid_search = GridSearchCV(clf, param_grid, cv=5, scoring='accuracy')\n",
    "grid_search.fit(Xtrain, Ytrain)\n",
    "print(cross_val_score(grid_search, Xtrain, Ytrain))\n",
    "\n",
    "grid_search.fit(Xtrain, Ytrain)\n",
    "Yguess = grid_search.predict(Xtest)\n",
    "print(accuracy_score(Ytest, Yguess))"
   ]
  },
  {
   "cell_type": "markdown",
   "id": "66150ff7-35bb-4c78-80c2-23ce4373fa42",
   "metadata": {},
   "source": [
    "**Training RandomForestClassifier**"
   ]
  },
  {
   "cell_type": "code",
   "execution_count": null,
   "id": "f828de2e-62f6-4a24-8b57-e52f871f3776",
   "metadata": {
    "panel-layout": {
     "height": 68.140625,
     "visible": true,
     "width": 100
    }
   },
   "outputs": [],
   "source": [
    "#RandomForestClassifier\n",
    "from sklearn.ensemble import RandomForestClassifier\n",
    "from sklearn.datasets import make_classification\n",
    "clf = RandomForestClassifier(max_depth=2, random_state=0)\n",
    "#clf.fit(X, Y)\n",
    "print(cross_val_score(clf, Xtrain, Ytrain))\n",
    "clf.fit(Xtrain, Ytrain)\n",
    "Yguess = clf.predict(Xtest)\n",
    "print(accuracy_score(Ytest, Yguess))"
   ]
  },
  {
   "cell_type": "markdown",
   "id": "feb1c1a6-c098-4548-9d08-f80b854c165b",
   "metadata": {},
   "source": [
    "**Training GradientBoostingClassifier**"
   ]
  },
  {
   "cell_type": "code",
   "execution_count": null,
   "id": "e29e961e-2a9a-4be6-9b0d-623bcccbb893",
   "metadata": {
    "panel-layout": {
     "height": 0,
     "visible": true,
     "width": 100
    }
   },
   "outputs": [],
   "source": [
    "#GradientBoostingClassifier\n",
    "from sklearn.datasets import make_hastie_10_2\n",
    "from sklearn.ensemble import GradientBoostingClassifier\n",
    "clf = GradientBoostingClassifier(n_estimators=100, learning_rate=1.0,\n",
    "    max_depth=1, random_state=0).fit(Xtrain, Ytrain)\n",
    "print(cross_val_score(clf, Xtrain, Ytrain))\n",
    "clf.fit(Xtrain, Ytrain)\n",
    "Yguess = clf.predict(Xtest)\n",
    "print(accuracy_score(Ytest, Yguess))"
   ]
  },
  {
   "cell_type": "markdown",
   "id": "dd1f1e36-bb3e-41a6-8233-77433f356dfa",
   "metadata": {},
   "source": [
    "**Training Perceptron**"
   ]
  },
  {
   "cell_type": "code",
   "execution_count": null,
   "id": "2dcb6c89-94b5-4882-af5b-818f1d79fa5e",
   "metadata": {
    "panel-layout": {
     "height": 68.140625,
     "visible": true,
     "width": 100
    }
   },
   "outputs": [],
   "source": [
    "#Perceptron\n",
    "from sklearn.linear_model import Perceptron\n",
    "clf = Perceptron(tol=1e-3, random_state=0)\n",
    "clf.fit(Xtrain, Ytrain)\n",
    "print(cross_val_score(clf, Xtrain, Ytrain))\n",
    "clf.fit(Xtrain, Ytrain)\n",
    "Yguess = clf.predict(Xtest)\n",
    "print(accuracy_score(Ytest, Yguess))"
   ]
  },
  {
   "cell_type": "markdown",
   "id": "9bcf6e3c-578e-46f8-9648-aec155d38764",
   "metadata": {},
   "source": [
    "**Training LogisticRegression**  \n",
    "We tried the default solver for this classifier, but the model wouldn't converge, even though we increased the number of iterations. Therefore, we used saga instead, to our understanding, which is more effective for handling multi-class classification problems."
   ]
  },
  {
   "cell_type": "code",
   "execution_count": null,
   "id": "43716401-1dd8-4769-bb09-8a12a8fe564c",
   "metadata": {},
   "outputs": [],
   "source": [
    "#LogisticRegression\n",
    "from sklearn.linear_model import LogisticRegression\n",
    "clf = LogisticRegression(random_state=0, solver='saga', max_iter=10000).fit(Xtrain, Ytrain)\n",
    "print(cross_val_score(clf, Xtrain, Ytrain))\n",
    "clf.fit(Xtrain, Ytrain)\n",
    "Yguess = clf.predict(Xtest)\n",
    "print(accuracy_score(Ytest, Yguess))\n",
    "#clf.predict(Xtrain[:2, :])\n",
    "#clf.predict_proba(Xtrain[:2, :])\n",
    "#clf.score(Xtrain, Ytrain)\n"
   ]
  },
  {
   "cell_type": "markdown",
   "id": "1b813102-544f-4dc3-ba31-8688c1d74e4a",
   "metadata": {},
   "source": [
    "**Training LinearSVC**"
   ]
  },
  {
   "cell_type": "code",
   "execution_count": null,
   "id": "50d38e35-a503-412c-a540-1271de5ede63",
   "metadata": {
    "panel-layout": {
     "height": 68.140625,
     "visible": true,
     "width": 100
    }
   },
   "outputs": [],
   "source": [
    "#LinearSVC\n",
    "from sklearn.svm import LinearSVC\n",
    "from sklearn.pipeline import make_pipeline\n",
    "from sklearn.preprocessing import StandardScaler\n",
    "clf = make_pipeline(StandardScaler(),\n",
    "                    LinearSVC(random_state=0, tol=1e-5))\n",
    "clf.fit(Xtrain, Ytrain)\n",
    "print(cross_val_score(clf, Xtrain, Ytrain))\n",
    "clf.fit(Xtrain, Ytrain)\n",
    "Yguess = clf.predict(Xtest)\n",
    "print(accuracy_score(Ytest, Yguess))"
   ]
  },
  {
   "cell_type": "markdown",
   "id": "3ad11ba1-4f62-44da-87ed-dcc895aea501",
   "metadata": {},
   "source": [
    "**Training MLPClassifier**"
   ]
  },
  {
   "cell_type": "code",
   "execution_count": null,
   "id": "4f717208-5c6e-4e9b-ae71-75878eb707d6",
   "metadata": {
    "panel-layout": {
     "height": 68.140625,
     "visible": true,
     "width": 100
    }
   },
   "outputs": [],
   "source": [
    "#MLPClassifier\n",
    "from sklearn.neural_network import MLPClassifier\n",
    "clf = MLPClassifier(random_state=1, max_iter=300).fit(Xtrain, Ytrain)\n",
    "clf.fit(Xtrain, Ytrain)\n",
    "print(cross_val_score(clf, Xtrain, Ytrain))\n",
    "clf.fit(Xtrain, Ytrain)\n",
    "Yguess = clf.predict(Xtest)\n",
    "print(accuracy_score(Ytest, Yguess))"
   ]
  },
  {
   "cell_type": "markdown",
   "id": "7067a27e-9489-455f-aa19-6a6271e123b9",
   "metadata": {
    "jp-MarkdownHeadingCollapsed": true
   },
   "source": [
    "# Task 2"
   ]
  },
  {
   "cell_type": "markdown",
   "id": "d2fdb10c-6976-4dbc-905f-03fa695d027b",
   "metadata": {
    "jp-MarkdownHeadingCollapsed": true,
    "tags": []
   },
   "source": [
    "**Introduction**  \n",
    "In this task, we used the defined class TreeClassifier as the classifier based on the lecture note code.  \n",
    "Our selected value of max_depth is 3, and the corresponding accuracy is 0.9111.   \n",
    "\n",
    "The process is:\n",
    "- for each max depth, we train it with the training data set\n",
    "- then we calculate the mean of the cross validation score for each\n",
    "- once the score converged, it means we have found the best-performing value\n",
    "- then we use the test data to evaluate the accuracy and visualize the the learned decision tree "
   ]
  },
  {
   "cell_type": "markdown",
   "id": "6cab07cc-0d7d-4520-8324-3e2aa172ec74",
   "metadata": {},
   "source": [
    "The cell below is our solution:"
   ]
  },
  {
   "cell_type": "code",
   "execution_count": 346,
   "id": "08a39a2d-bbc8-4f74-b9b9-6cc7d690c5b8",
   "metadata": {
    "scrolled": true
   },
   "outputs": [
    {
     "name": "stdout",
     "output_type": "stream",
     "text": [
      "max_depth: 1, Mean CV Accuracy: 0.6952\n",
      "max_depth: 2, Mean CV Accuracy: 0.9429\n",
      "max_depth: 3, Mean CV Accuracy: 0.9524\n",
      "max_depth: 4, Mean CV Accuracy: 0.9524\n",
      "max_depth: 5, Mean CV Accuracy: 0.9524\n",
      "max_depth: 10, Mean CV Accuracy: 0.9524\n",
      "max_depth: 20, Mean CV Accuracy: 0.9524\n",
      "\n",
      "Best max_depth: 3 with mean CV accuracy: 0.9524\n",
      "Test set accuracy with max_depth=3: 0.9111\n"
     ]
    },
    {
     "data": {
      "image/svg+xml": [
       "<?xml version=\"1.0\" encoding=\"UTF-8\" standalone=\"no\"?>\n",
       "<!DOCTYPE svg PUBLIC \"-//W3C//DTD SVG 1.1//EN\"\n",
       " \"http://www.w3.org/Graphics/SVG/1.1/DTD/svg11.dtd\">\n",
       "<!-- Generated by graphviz version 4.0.0 (0)\n",
       " -->\n",
       "<!-- Pages: 1 -->\n",
       "<svg width=\"329pt\" height=\"305pt\"\n",
       " viewBox=\"0.00 0.00 328.99 305.00\" xmlns=\"http://www.w3.org/2000/svg\" xmlns:xlink=\"http://www.w3.org/1999/xlink\">\n",
       "<g id=\"graph0\" class=\"graph\" transform=\"scale(1 1) rotate(0) translate(4 301)\">\n",
       "<polygon fill=\"white\" stroke=\"transparent\" points=\"-4,4 -4,-301 324.99,-301 324.99,4 -4,4\"/>\n",
       "<!-- 0 -->\n",
       "<g id=\"node1\" class=\"node\">\n",
       "<title>0</title>\n",
       "<ellipse fill=\"lightgrey\" stroke=\"black\" cx=\"89.44\" cy=\"-192\" rx=\"46.59\" ry=\"18\"/>\n",
       "<text text-anchor=\"middle\" x=\"89.44\" y=\"-188.3\" font-family=\"Times,serif\" font-size=\"14.00\">Iris&#45;setosa</text>\n",
       "</g>\n",
       "<!-- 1 -->\n",
       "<g id=\"node2\" class=\"node\">\n",
       "<title>1</title>\n",
       "<ellipse fill=\"lightgrey\" stroke=\"black\" cx=\"60.44\" cy=\"-18\" rx=\"60.39\" ry=\"18\"/>\n",
       "<text text-anchor=\"middle\" x=\"60.44\" y=\"-14.3\" font-family=\"Times,serif\" font-size=\"14.00\">Iris&#45;versicolor</text>\n",
       "</g>\n",
       "<!-- 2 -->\n",
       "<g id=\"node3\" class=\"node\">\n",
       "<title>2</title>\n",
       "<ellipse fill=\"lightgrey\" stroke=\"black\" cx=\"195.44\" cy=\"-18\" rx=\"56.59\" ry=\"18\"/>\n",
       "<text text-anchor=\"middle\" x=\"195.44\" y=\"-14.3\" font-family=\"Times,serif\" font-size=\"14.00\">Iris&#45;virginica</text>\n",
       "</g>\n",
       "<!-- 3 -->\n",
       "<g id=\"node4\" class=\"node\">\n",
       "<title>3</title>\n",
       "<path fill=\"yellow\" stroke=\"black\" d=\"M177.44,-123C177.44,-123 77.44,-123 77.44,-123 71.44,-123 65.44,-117 65.44,-111 65.44,-111 65.44,-99 65.44,-99 65.44,-93 71.44,-87 77.44,-87 77.44,-87 177.44,-87 177.44,-87 183.44,-87 189.44,-93 189.44,-99 189.44,-99 189.44,-111 189.44,-111 189.44,-117 183.44,-123 177.44,-123\"/>\n",
       "<text text-anchor=\"middle\" x=\"127.44\" y=\"-101.3\" font-family=\"Times,serif\" font-size=\"14.00\">Petal width &gt; 1.65?</text>\n",
       "</g>\n",
       "<!-- 3&#45;&gt;1 -->\n",
       "<g id=\"edge1\" class=\"edge\">\n",
       "<title>3&#45;&gt;1</title>\n",
       "<path fill=\"none\" stroke=\"black\" d=\"M113.89,-86.8C104.13,-74.43 90.83,-57.55 79.94,-43.74\"/>\n",
       "<polygon fill=\"black\" stroke=\"black\" points=\"82.47,-41.28 73.53,-35.6 76.97,-45.62 82.47,-41.28\"/>\n",
       "<text text-anchor=\"middle\" x=\"112.94\" y=\"-57.8\" font-family=\"Times,serif\" font-size=\"14.00\">False</text>\n",
       "</g>\n",
       "<!-- 3&#45;&gt;2 -->\n",
       "<g id=\"edge2\" class=\"edge\">\n",
       "<title>3&#45;&gt;2</title>\n",
       "<path fill=\"none\" stroke=\"black\" d=\"M141.21,-86.8C151.1,-74.43 164.6,-57.55 175.65,-43.74\"/>\n",
       "<polygon fill=\"black\" stroke=\"black\" points=\"178.65,-45.59 182.17,-35.6 173.19,-41.22 178.65,-45.59\"/>\n",
       "<text text-anchor=\"middle\" x=\"179.44\" y=\"-57.8\" font-family=\"Times,serif\" font-size=\"14.00\">True</text>\n",
       "</g>\n",
       "<!-- 4 -->\n",
       "<g id=\"node5\" class=\"node\">\n",
       "<title>4</title>\n",
       "<ellipse fill=\"lightgrey\" stroke=\"black\" cx=\"264.44\" cy=\"-105\" rx=\"56.59\" ry=\"18\"/>\n",
       "<text text-anchor=\"middle\" x=\"264.44\" y=\"-101.3\" font-family=\"Times,serif\" font-size=\"14.00\">Iris&#45;virginica</text>\n",
       "</g>\n",
       "<!-- 5 -->\n",
       "<g id=\"node6\" class=\"node\">\n",
       "<title>5</title>\n",
       "<path fill=\"yellow\" stroke=\"black\" d=\"M268.94,-210C268.94,-210 165.94,-210 165.94,-210 159.94,-210 153.94,-204 153.94,-198 153.94,-198 153.94,-186 153.94,-186 153.94,-180 159.94,-174 165.94,-174 165.94,-174 268.94,-174 268.94,-174 274.94,-174 280.94,-180 280.94,-186 280.94,-186 280.94,-198 280.94,-198 280.94,-204 274.94,-210 268.94,-210\"/>\n",
       "<text text-anchor=\"middle\" x=\"217.44\" y=\"-188.3\" font-family=\"Times,serif\" font-size=\"14.00\">Petal length &gt; 4.75?</text>\n",
       "</g>\n",
       "<!-- 5&#45;&gt;3 -->\n",
       "<g id=\"edge3\" class=\"edge\">\n",
       "<title>5&#45;&gt;3</title>\n",
       "<path fill=\"none\" stroke=\"black\" d=\"M199.23,-173.8C185.93,-161.24 167.73,-144.05 152.98,-130.12\"/>\n",
       "<polygon fill=\"black\" stroke=\"black\" points=\"155.3,-127.5 145.63,-123.18 150.5,-132.59 155.3,-127.5\"/>\n",
       "<text text-anchor=\"middle\" x=\"192.94\" y=\"-144.8\" font-family=\"Times,serif\" font-size=\"14.00\">False</text>\n",
       "</g>\n",
       "<!-- 5&#45;&gt;4 -->\n",
       "<g id=\"edge4\" class=\"edge\">\n",
       "<title>5&#45;&gt;4</title>\n",
       "<path fill=\"none\" stroke=\"black\" d=\"M226.96,-173.8C233.62,-161.74 242.66,-145.4 250.18,-131.79\"/>\n",
       "<polygon fill=\"black\" stroke=\"black\" points=\"253.33,-133.33 255.11,-122.89 247.21,-129.94 253.33,-133.33\"/>\n",
       "<text text-anchor=\"middle\" x=\"257.44\" y=\"-144.8\" font-family=\"Times,serif\" font-size=\"14.00\">True</text>\n",
       "</g>\n",
       "<!-- 6 -->\n",
       "<g id=\"node7\" class=\"node\">\n",
       "<title>6</title>\n",
       "<path fill=\"yellow\" stroke=\"black\" d=\"M165.44,-297C165.44,-297 65.44,-297 65.44,-297 59.44,-297 53.44,-291 53.44,-285 53.44,-285 53.44,-273 53.44,-273 53.44,-267 59.44,-261 65.44,-261 65.44,-261 165.44,-261 165.44,-261 171.44,-261 177.44,-267 177.44,-273 177.44,-273 177.44,-285 177.44,-285 177.44,-291 171.44,-297 165.44,-297\"/>\n",
       "<text text-anchor=\"middle\" x=\"115.44\" y=\"-275.3\" font-family=\"Times,serif\" font-size=\"14.00\">Petal width &gt; 0.75?</text>\n",
       "</g>\n",
       "<!-- 6&#45;&gt;0 -->\n",
       "<g id=\"edge5\" class=\"edge\">\n",
       "<title>6&#45;&gt;0</title>\n",
       "<path fill=\"none\" stroke=\"black\" d=\"M110.18,-260.8C106.59,-249.05 101.75,-233.24 97.66,-219.84\"/>\n",
       "<polygon fill=\"black\" stroke=\"black\" points=\"100.97,-218.71 94.7,-210.18 94.28,-220.76 100.97,-218.71\"/>\n",
       "<text text-anchor=\"middle\" x=\"118.94\" y=\"-231.8\" font-family=\"Times,serif\" font-size=\"14.00\">False</text>\n",
       "</g>\n",
       "<!-- 6&#45;&gt;5 -->\n",
       "<g id=\"edge6\" class=\"edge\">\n",
       "<title>6&#45;&gt;5</title>\n",
       "<path fill=\"none\" stroke=\"black\" d=\"M136.09,-260.8C151.29,-248.13 172.16,-230.73 188.96,-216.74\"/>\n",
       "<polygon fill=\"black\" stroke=\"black\" points=\"191.39,-219.27 196.83,-210.18 186.91,-213.89 191.39,-219.27\"/>\n",
       "<text text-anchor=\"middle\" x=\"186.44\" y=\"-231.8\" font-family=\"Times,serif\" font-size=\"14.00\">True</text>\n",
       "</g>\n",
       "</g>\n",
       "</svg>\n"
      ],
      "text/plain": [
       "<graphviz.graphs.Digraph at 0x135ca0a70>"
      ]
     },
     "metadata": {},
     "output_type": "display_data"
    }
   ],
   "source": [
    "from sklearn.model_selection import train_test_split, cross_val_score\n",
    "from sklearn.metrics import accuracy_score\n",
    "import numpy as np\n",
    "\n",
    "# Prepare data\n",
    "X2 = X[['Petal length', 'Petal width']]\n",
    "Xtrain, Xtest, Ytrain, Ytest = train_test_split(X2, Y, test_size=0.3, random_state=0)\n",
    "\n",
    "# Define parameter grid\n",
    "max_depth_values = [1, 2, 3, 4, 5, 10, 20]\n",
    "mean_scores = []\n",
    "\n",
    "# Cross-validation\n",
    "for depth in max_depth_values:\n",
    "    clf = TreeClassifier(max_depth=depth, criterion='gini')\n",
    "    scores = cross_val_score(clf, Xtrain, Ytrain, cv=5)\n",
    "    mean_scores.append(np.mean(scores))\n",
    "    print(f\"max_depth: {depth}, Mean CV Accuracy: {np.mean(scores):.4f}\")\n",
    "\n",
    "# Find best depth \n",
    "valid_indices = [i for i, score in enumerate(mean_scores) if score > 0]\n",
    "\n",
    "best_index = np.argmax([mean_scores[i] for i in valid_indices])\n",
    "best_depth = max_depth_values[valid_indices[best_index]]\n",
    "best_score = mean_scores[valid_indices[best_index]]\n",
    "\n",
    "print(f\"\\nBest max_depth: {best_depth} with mean CV accuracy: {best_score:.4f}\")\n",
    "\n",
    "# Train final model with best max_depth\n",
    "final_clf = TreeClassifier(max_depth=best_depth, criterion='gini')\n",
    "final_clf.fit(Xtrain, Ytrain)\n",
    "\n",
    "# Test evaluation\n",
    "Ypred = final_clf.predict(Xtest)\n",
    "test_accuracy = accuracy_score(Ytest, Ypred)\n",
    "print(f\"Test set accuracy with max_depth={best_depth}: {test_accuracy:.4f}\")\n",
    "\n",
    "# Visualization\n",
    "display(final_clf.draw_tree())\n",
    "plot_boundary(final_clf, X2, Y)\n"
   ]
  },
  {
   "cell_type": "code",
   "execution_count": 2,
   "id": "41ada435-f41c-40b8-9b00-04d28d9a6879",
   "metadata": {},
   "outputs": [],
   "source": [
    "import pandas as pd\n",
    "import numpy as np\n",
    "import matplotlib.pyplot as plt\n",
    "#print(plt.style.available)\n",
    "\n",
    "%config InlineBackend.figure_format = 'svg' \n",
    "# Pick a style to use from the available style printed above. \n",
    "plt.style.use('seaborn-v0_8')\n",
    "%matplotlib inline  "
   ]
  },
  {
   "cell_type": "markdown",
   "id": "20693359-283e-4661-bb02-a1273bcc5d06",
   "metadata": {
    "jp-MarkdownHeadingCollapsed": true
   },
   "source": [
    "### Loading the iris data\n",
    "\n",
    "You can download the dataset as a .zip file [here](https://archive.ics.uci.edu/static/public/53/iris.zip) and put in the same directory with this notebook. \n",
    "We first use [ZipFile](https://docs.python.org/3/library/zipfile.html) to extract the content of .zip file and then use [pandas](https://pandas.pydata.org/) to load the CSV file that stores the Iris data. Please note that you need to change the path to where you stored the csv file.\n",
    "\n",
    "We shuffle the dataset and split it into an input part `X` and an output part `Y`. In this case, we want to predict the type of Iris: [*Iris-setosa*](https://en.wikipedia.org/wiki/Iris_setosa), [*Iris-versicolor*](https://en.wikipedia.org/wiki/Iris_versicolor), or [*Iris-virginica*](https://en.wikipedia.org/wiki/Iris_virginica)."
   ]
  },
  {
   "cell_type": "code",
   "execution_count": 4,
   "id": "0884725b-fa48-4f91-ae16-4bc04324aa22",
   "metadata": {},
   "outputs": [],
   "source": [
    "import pandas as pd\n",
    "from zipfile import ZipFile \n",
    "\n",
    "# Extract content of .zip file to a specified folder \n",
    "with ZipFile(\"iris.zip\", 'r') as zip:\n",
    "    zip.extractall(path = 'Data/')"
   ]
  },
  {
   "cell_type": "code",
   "execution_count": 5,
   "id": "3a8ff831-bfda-4077-bef1-b5fa3b80ad4b",
   "metadata": {},
   "outputs": [
    {
     "data": {
      "text/plain": [
       "4551"
      ]
     },
     "execution_count": 5,
     "metadata": {},
     "output_type": "execute_result"
    }
   ],
   "source": [
    "# To get the size of a file in bytes\n",
    "import os\n",
    "os.path.getsize('Data/iris.data')"
   ]
  },
  {
   "cell_type": "code",
   "execution_count": 6,
   "id": "77694e39-92fc-46c2-ae53-ab11994301b1",
   "metadata": {},
   "outputs": [
    {
     "data": {
      "text/plain": [
       "2998"
      ]
     },
     "execution_count": 6,
     "metadata": {},
     "output_type": "execute_result"
    }
   ],
   "source": [
    "os.path.getsize('Data/iris.names')"
   ]
  },
  {
   "cell_type": "code",
   "execution_count": 7,
   "id": "e15ff3b6-d160-4a42-96a9-5a9bed566670",
   "metadata": {},
   "outputs": [
    {
     "name": "stdout",
     "output_type": "stream",
     "text": [
      "1. Title: Iris Plants Database\n",
      "\tUpdated Sept 21 by C.Blake - Added discrepency information\n",
      "\n",
      "2. Sources:\n",
      "     (a) Creator: R.A. Fisher\n",
      "     (b) Donor: Michael Marshall (MARSHALL%PLU@io.arc.nasa.gov)\n",
      "     (c) Date: July, 1988\n",
      "\n",
      "3. Past Usage:\n",
      "   - Publications: too many to mention!!!  Here are a few.\n",
      "   1. Fisher,R.A. \"The use of multiple measurements in taxonomic problems\"\n",
      "      Annual Eugenics, 7, Part II, 179-188 (1936); also in \"Contributions\n",
      "      to Mathematical Statistics\" (John Wiley, NY, 1950).\n",
      "   2. Duda,R.O., & Hart,P.E. (1973) Pattern Classification and Scene Analysis.\n",
      "      (Q327.D83) John Wiley & Sons.  ISBN 0-471-22361-1.  See page 218.\n",
      "   3. Dasarathy, B.V. (1980) \"Nosing Around the Neighborhood: A New System\n",
      "      Structure and Classification Rule for Recognition in Partially Exposed\n",
      "      Environments\".  IEEE Transactions on Pattern Analysis and Machine\n",
      "      Intelligence, Vol. PAMI-2, No. 1, 67-71.\n",
      "      -- Results:\n",
      "         -- very low misclassification rates (0% for the setosa class)\n",
      "   4. Gates, G.W. (1972) \"The Reduced Nearest Neighbor Rule\".  IEEE \n",
      "      Transactions on Information Theory, May 1972, 431-433.\n",
      "      -- Results:\n",
      "         -- very low misclassification rates again\n",
      "   5. See also: 1988 MLC Proceedings, 54-64.  Cheeseman et al's AUTOCLASS II\n",
      "      conceptual clustering system finds 3 classes in the data.\n",
      "\n",
      "4. Relevant Information:\n",
      "   --- This is perhaps the best known database to be found in the pattern\n",
      "       recognition literature.  Fisher's paper is a classic in the field\n",
      "       and is referenced frequently to this day.  (See Duda & Hart, for\n",
      "       example.)  The data set contains 3 classes of 50 instances each,\n",
      "       where each class refers to a type of iris plant.  One class is\n",
      "       linearly separable from the other 2; the latter are NOT linearly\n",
      "       separable from each other.\n",
      "   --- Predicted attribute: class of iris plant.\n",
      "   --- This is an exceedingly simple domain.\n",
      "   --- This data differs from the data presented in Fishers article\n",
      "\t(identified by Steve Chadwick,  spchadwick@espeedaz.net )\n",
      "\tThe 35th sample should be: 4.9,3.1,1.5,0.2,\"Iris-setosa\"\n",
      "\twhere the error is in the fourth feature.\n",
      "\tThe 38th sample: 4.9,3.6,1.4,0.1,\"Iris-setosa\"\n",
      "\twhere the errors are in the second and third features.  \n",
      "\n",
      "5. Number of Instances: 150 (50 in each of three classes)\n",
      "\n",
      "6. Number of Attributes: 4 numeric, predictive attributes and the class\n",
      "\n",
      "7. Attribute Information:\n",
      "   1. sepal length in cm\n",
      "   2. sepal width in cm\n",
      "   3. petal length in cm\n",
      "   4. petal width in cm\n",
      "   5. class: \n",
      "      -- Iris Setosa\n",
      "      -- Iris Versicolour\n",
      "      -- Iris Virginica\n",
      "\n",
      "8. Missing Attribute Values: None\n",
      "\n",
      "Summary Statistics:\n",
      "\t         Min  Max   Mean    SD   Class Correlation\n",
      "   sepal length: 4.3  7.9   5.84  0.83    0.7826   \n",
      "    sepal width: 2.0  4.4   3.05  0.43   -0.4194\n",
      "   petal length: 1.0  6.9   3.76  1.76    0.9490  (high!)\n",
      "    petal width: 0.1  2.5   1.20  0.76    0.9565  (high!)\n",
      "\n",
      "9. Class Distribution: 33.3% for each of 3 classes.\n",
      "\n"
     ]
    }
   ],
   "source": [
    "f = open('Data/iris.names', 'r')\n",
    "print (f.read())\n",
    "f.close()"
   ]
  },
  {
   "cell_type": "markdown",
   "id": "673c0c86-f98a-42ee-8cc1-776cda886d31",
   "metadata": {},
   "source": [
    "From the content above, we see the names of the 5 attributes. "
   ]
  },
  {
   "cell_type": "code",
   "execution_count": 9,
   "id": "4e3c1b68-6acf-47a5-946d-ae1865f4ec13",
   "metadata": {},
   "outputs": [],
   "source": [
    "data = pd.read_csv('Data/iris.data', header=None)"
   ]
  },
  {
   "cell_type": "code",
   "execution_count": 10,
   "id": "d6583ad8-4c8b-4e08-934f-8e3c1c789a40",
   "metadata": {},
   "outputs": [
    {
     "data": {
      "text/plain": [
       "(150, 5)"
      ]
     },
     "execution_count": 10,
     "metadata": {},
     "output_type": "execute_result"
    }
   ],
   "source": [
    "data.shape"
   ]
  },
  {
   "cell_type": "code",
   "execution_count": 11,
   "id": "56567888-8eb6-4458-8abb-378cb5bd832f",
   "metadata": {},
   "outputs": [
    {
     "name": "stdout",
     "output_type": "stream",
     "text": [
      "<class 'pandas.core.frame.DataFrame'>\n",
      "RangeIndex: 150 entries, 0 to 149\n",
      "Data columns (total 5 columns):\n",
      " #   Column  Non-Null Count  Dtype  \n",
      "---  ------  --------------  -----  \n",
      " 0   0       150 non-null    float64\n",
      " 1   1       150 non-null    float64\n",
      " 2   2       150 non-null    float64\n",
      " 3   3       150 non-null    float64\n",
      " 4   4       150 non-null    object \n",
      "dtypes: float64(4), object(1)\n",
      "memory usage: 6.0+ KB\n",
      "None\n"
     ]
    }
   ],
   "source": [
    "print(data.info())"
   ]
  },
  {
   "cell_type": "code",
   "execution_count": 12,
   "id": "0b2435ee-2768-4918-bab1-3ad3e7b822f8",
   "metadata": {},
   "outputs": [
    {
     "data": {
      "text/html": [
       "<div>\n",
       "<style scoped>\n",
       "    .dataframe tbody tr th:only-of-type {\n",
       "        vertical-align: middle;\n",
       "    }\n",
       "\n",
       "    .dataframe tbody tr th {\n",
       "        vertical-align: top;\n",
       "    }\n",
       "\n",
       "    .dataframe thead th {\n",
       "        text-align: right;\n",
       "    }\n",
       "</style>\n",
       "<table border=\"1\" class=\"dataframe\">\n",
       "  <thead>\n",
       "    <tr style=\"text-align: right;\">\n",
       "      <th></th>\n",
       "      <th>0</th>\n",
       "      <th>1</th>\n",
       "      <th>2</th>\n",
       "      <th>3</th>\n",
       "      <th>4</th>\n",
       "    </tr>\n",
       "  </thead>\n",
       "  <tbody>\n",
       "    <tr>\n",
       "      <th>0</th>\n",
       "      <td>5.1</td>\n",
       "      <td>3.5</td>\n",
       "      <td>1.4</td>\n",
       "      <td>0.2</td>\n",
       "      <td>Iris-setosa</td>\n",
       "    </tr>\n",
       "    <tr>\n",
       "      <th>1</th>\n",
       "      <td>4.9</td>\n",
       "      <td>3.0</td>\n",
       "      <td>1.4</td>\n",
       "      <td>0.2</td>\n",
       "      <td>Iris-setosa</td>\n",
       "    </tr>\n",
       "    <tr>\n",
       "      <th>2</th>\n",
       "      <td>4.7</td>\n",
       "      <td>3.2</td>\n",
       "      <td>1.3</td>\n",
       "      <td>0.2</td>\n",
       "      <td>Iris-setosa</td>\n",
       "    </tr>\n",
       "    <tr>\n",
       "      <th>3</th>\n",
       "      <td>4.6</td>\n",
       "      <td>3.1</td>\n",
       "      <td>1.5</td>\n",
       "      <td>0.2</td>\n",
       "      <td>Iris-setosa</td>\n",
       "    </tr>\n",
       "    <tr>\n",
       "      <th>4</th>\n",
       "      <td>5.0</td>\n",
       "      <td>3.6</td>\n",
       "      <td>1.4</td>\n",
       "      <td>0.2</td>\n",
       "      <td>Iris-setosa</td>\n",
       "    </tr>\n",
       "  </tbody>\n",
       "</table>\n",
       "</div>"
      ],
      "text/plain": [
       "     0    1    2    3            4\n",
       "0  5.1  3.5  1.4  0.2  Iris-setosa\n",
       "1  4.9  3.0  1.4  0.2  Iris-setosa\n",
       "2  4.7  3.2  1.3  0.2  Iris-setosa\n",
       "3  4.6  3.1  1.5  0.2  Iris-setosa\n",
       "4  5.0  3.6  1.4  0.2  Iris-setosa"
      ]
     },
     "execution_count": 12,
     "metadata": {},
     "output_type": "execute_result"
    }
   ],
   "source": [
    "data.head()"
   ]
  },
  {
   "cell_type": "code",
   "execution_count": 13,
   "id": "dac78d77-2d34-4898-809b-6c3a386b9f7f",
   "metadata": {},
   "outputs": [
    {
     "data": {
      "text/html": [
       "<div>\n",
       "<style scoped>\n",
       "    .dataframe tbody tr th:only-of-type {\n",
       "        vertical-align: middle;\n",
       "    }\n",
       "\n",
       "    .dataframe tbody tr th {\n",
       "        vertical-align: top;\n",
       "    }\n",
       "\n",
       "    .dataframe thead th {\n",
       "        text-align: right;\n",
       "    }\n",
       "</style>\n",
       "<table border=\"1\" class=\"dataframe\">\n",
       "  <thead>\n",
       "    <tr style=\"text-align: right;\">\n",
       "      <th></th>\n",
       "      <th>0</th>\n",
       "      <th>1</th>\n",
       "      <th>2</th>\n",
       "      <th>3</th>\n",
       "      <th>4</th>\n",
       "    </tr>\n",
       "  </thead>\n",
       "  <tbody>\n",
       "    <tr>\n",
       "      <th>145</th>\n",
       "      <td>6.7</td>\n",
       "      <td>3.0</td>\n",
       "      <td>5.2</td>\n",
       "      <td>2.3</td>\n",
       "      <td>Iris-virginica</td>\n",
       "    </tr>\n",
       "    <tr>\n",
       "      <th>146</th>\n",
       "      <td>6.3</td>\n",
       "      <td>2.5</td>\n",
       "      <td>5.0</td>\n",
       "      <td>1.9</td>\n",
       "      <td>Iris-virginica</td>\n",
       "    </tr>\n",
       "    <tr>\n",
       "      <th>147</th>\n",
       "      <td>6.5</td>\n",
       "      <td>3.0</td>\n",
       "      <td>5.2</td>\n",
       "      <td>2.0</td>\n",
       "      <td>Iris-virginica</td>\n",
       "    </tr>\n",
       "    <tr>\n",
       "      <th>148</th>\n",
       "      <td>6.2</td>\n",
       "      <td>3.4</td>\n",
       "      <td>5.4</td>\n",
       "      <td>2.3</td>\n",
       "      <td>Iris-virginica</td>\n",
       "    </tr>\n",
       "    <tr>\n",
       "      <th>149</th>\n",
       "      <td>5.9</td>\n",
       "      <td>3.0</td>\n",
       "      <td>5.1</td>\n",
       "      <td>1.8</td>\n",
       "      <td>Iris-virginica</td>\n",
       "    </tr>\n",
       "  </tbody>\n",
       "</table>\n",
       "</div>"
      ],
      "text/plain": [
       "       0    1    2    3               4\n",
       "145  6.7  3.0  5.2  2.3  Iris-virginica\n",
       "146  6.3  2.5  5.0  1.9  Iris-virginica\n",
       "147  6.5  3.0  5.2  2.0  Iris-virginica\n",
       "148  6.2  3.4  5.4  2.3  Iris-virginica\n",
       "149  5.9  3.0  5.1  1.8  Iris-virginica"
      ]
     },
     "execution_count": 13,
     "metadata": {},
     "output_type": "execute_result"
    }
   ],
   "source": [
    "data.tail()"
   ]
  },
  {
   "cell_type": "markdown",
   "id": "81ae2311-c9d2-42f8-aa74-9cd81cb54940",
   "metadata": {},
   "source": [
    "As you can see, there are four numerical column that we use as input, and then the discrete output column representing the species, which we'll use as the output."
   ]
  },
  {
   "cell_type": "code",
   "execution_count": 15,
   "id": "7a6ee86a-aa7a-4c63-ae59-5dac819847ff",
   "metadata": {},
   "outputs": [],
   "source": [
    "data.columns =['Sepal length', 'Sepal width', 'Petal length', 'Petal width', 'Class']"
   ]
  },
  {
   "cell_type": "code",
   "execution_count": 16,
   "id": "aeeb0c52-f3cf-4fd5-956c-c90ec3d9cb30",
   "metadata": {},
   "outputs": [
    {
     "data": {
      "text/html": [
       "<div>\n",
       "<style scoped>\n",
       "    .dataframe tbody tr th:only-of-type {\n",
       "        vertical-align: middle;\n",
       "    }\n",
       "\n",
       "    .dataframe tbody tr th {\n",
       "        vertical-align: top;\n",
       "    }\n",
       "\n",
       "    .dataframe thead th {\n",
       "        text-align: right;\n",
       "    }\n",
       "</style>\n",
       "<table border=\"1\" class=\"dataframe\">\n",
       "  <thead>\n",
       "    <tr style=\"text-align: right;\">\n",
       "      <th></th>\n",
       "      <th>Sepal length</th>\n",
       "      <th>Sepal width</th>\n",
       "      <th>Petal length</th>\n",
       "      <th>Petal width</th>\n",
       "      <th>Class</th>\n",
       "    </tr>\n",
       "  </thead>\n",
       "  <tbody>\n",
       "    <tr>\n",
       "      <th>145</th>\n",
       "      <td>6.7</td>\n",
       "      <td>3.0</td>\n",
       "      <td>5.2</td>\n",
       "      <td>2.3</td>\n",
       "      <td>Iris-virginica</td>\n",
       "    </tr>\n",
       "    <tr>\n",
       "      <th>146</th>\n",
       "      <td>6.3</td>\n",
       "      <td>2.5</td>\n",
       "      <td>5.0</td>\n",
       "      <td>1.9</td>\n",
       "      <td>Iris-virginica</td>\n",
       "    </tr>\n",
       "    <tr>\n",
       "      <th>147</th>\n",
       "      <td>6.5</td>\n",
       "      <td>3.0</td>\n",
       "      <td>5.2</td>\n",
       "      <td>2.0</td>\n",
       "      <td>Iris-virginica</td>\n",
       "    </tr>\n",
       "    <tr>\n",
       "      <th>148</th>\n",
       "      <td>6.2</td>\n",
       "      <td>3.4</td>\n",
       "      <td>5.4</td>\n",
       "      <td>2.3</td>\n",
       "      <td>Iris-virginica</td>\n",
       "    </tr>\n",
       "    <tr>\n",
       "      <th>149</th>\n",
       "      <td>5.9</td>\n",
       "      <td>3.0</td>\n",
       "      <td>5.1</td>\n",
       "      <td>1.8</td>\n",
       "      <td>Iris-virginica</td>\n",
       "    </tr>\n",
       "  </tbody>\n",
       "</table>\n",
       "</div>"
      ],
      "text/plain": [
       "     Sepal length  Sepal width  Petal length  Petal width           Class\n",
       "145           6.7          3.0           5.2          2.3  Iris-virginica\n",
       "146           6.3          2.5           5.0          1.9  Iris-virginica\n",
       "147           6.5          3.0           5.2          2.0  Iris-virginica\n",
       "148           6.2          3.4           5.4          2.3  Iris-virginica\n",
       "149           5.9          3.0           5.1          1.8  Iris-virginica"
      ]
     },
     "execution_count": 16,
     "metadata": {},
     "output_type": "execute_result"
    }
   ],
   "source": [
    "data.tail()"
   ]
  },
  {
   "cell_type": "code",
   "execution_count": 17,
   "id": "a580cc47-99c5-4047-8674-330ba57c2909",
   "metadata": {},
   "outputs": [],
   "source": [
    "data_shuffled = data.sample(frac=1.0, random_state=0)\n",
    "Y = data_shuffled['Class']\n",
    "X = data_shuffled.drop('Class', axis=1)"
   ]
  },
  {
   "cell_type": "code",
   "execution_count": 18,
   "id": "e69336e8-221d-4ad7-a2b1-3e53349ed89d",
   "metadata": {},
   "outputs": [
    {
     "data": {
      "text/html": [
       "<div>\n",
       "<style scoped>\n",
       "    .dataframe tbody tr th:only-of-type {\n",
       "        vertical-align: middle;\n",
       "    }\n",
       "\n",
       "    .dataframe tbody tr th {\n",
       "        vertical-align: top;\n",
       "    }\n",
       "\n",
       "    .dataframe thead th {\n",
       "        text-align: right;\n",
       "    }\n",
       "</style>\n",
       "<table border=\"1\" class=\"dataframe\">\n",
       "  <thead>\n",
       "    <tr style=\"text-align: right;\">\n",
       "      <th></th>\n",
       "      <th>Sepal length</th>\n",
       "      <th>Sepal width</th>\n",
       "      <th>Petal length</th>\n",
       "      <th>Petal width</th>\n",
       "      <th>Class</th>\n",
       "    </tr>\n",
       "  </thead>\n",
       "  <tbody>\n",
       "    <tr>\n",
       "      <th>114</th>\n",
       "      <td>5.8</td>\n",
       "      <td>2.8</td>\n",
       "      <td>5.1</td>\n",
       "      <td>2.4</td>\n",
       "      <td>Iris-virginica</td>\n",
       "    </tr>\n",
       "    <tr>\n",
       "      <th>62</th>\n",
       "      <td>6.0</td>\n",
       "      <td>2.2</td>\n",
       "      <td>4.0</td>\n",
       "      <td>1.0</td>\n",
       "      <td>Iris-versicolor</td>\n",
       "    </tr>\n",
       "    <tr>\n",
       "      <th>33</th>\n",
       "      <td>5.5</td>\n",
       "      <td>4.2</td>\n",
       "      <td>1.4</td>\n",
       "      <td>0.2</td>\n",
       "      <td>Iris-setosa</td>\n",
       "    </tr>\n",
       "    <tr>\n",
       "      <th>107</th>\n",
       "      <td>7.3</td>\n",
       "      <td>2.9</td>\n",
       "      <td>6.3</td>\n",
       "      <td>1.8</td>\n",
       "      <td>Iris-virginica</td>\n",
       "    </tr>\n",
       "    <tr>\n",
       "      <th>7</th>\n",
       "      <td>5.0</td>\n",
       "      <td>3.4</td>\n",
       "      <td>1.5</td>\n",
       "      <td>0.2</td>\n",
       "      <td>Iris-setosa</td>\n",
       "    </tr>\n",
       "  </tbody>\n",
       "</table>\n",
       "</div>"
      ],
      "text/plain": [
       "     Sepal length  Sepal width  Petal length  Petal width            Class\n",
       "114           5.8          2.8           5.1          2.4   Iris-virginica\n",
       "62            6.0          2.2           4.0          1.0  Iris-versicolor\n",
       "33            5.5          4.2           1.4          0.2      Iris-setosa\n",
       "107           7.3          2.9           6.3          1.8   Iris-virginica\n",
       "7             5.0          3.4           1.5          0.2      Iris-setosa"
      ]
     },
     "execution_count": 18,
     "metadata": {},
     "output_type": "execute_result"
    }
   ],
   "source": [
    "data_shuffled.head()"
   ]
  },
  {
   "cell_type": "code",
   "execution_count": 19,
   "id": "0f687c85-b3e4-4c8a-b149-dc27f7e7c78d",
   "metadata": {},
   "outputs": [
    {
     "data": {
      "text/plain": [
       "114     Iris-virginica\n",
       "62     Iris-versicolor\n",
       "33         Iris-setosa\n",
       "107     Iris-virginica\n",
       "7          Iris-setosa\n",
       "            ...       \n",
       "9          Iris-setosa\n",
       "103     Iris-virginica\n",
       "67     Iris-versicolor\n",
       "117     Iris-virginica\n",
       "47         Iris-setosa\n",
       "Name: Class, Length: 150, dtype: object"
      ]
     },
     "execution_count": 19,
     "metadata": {},
     "output_type": "execute_result"
    }
   ],
   "source": [
    "Y"
   ]
  },
  {
   "cell_type": "code",
   "execution_count": 20,
   "id": "ab88e74d-ec09-4264-95e3-1d6c27e60330",
   "metadata": {},
   "outputs": [
    {
     "data": {
      "text/html": [
       "<div>\n",
       "<style scoped>\n",
       "    .dataframe tbody tr th:only-of-type {\n",
       "        vertical-align: middle;\n",
       "    }\n",
       "\n",
       "    .dataframe tbody tr th {\n",
       "        vertical-align: top;\n",
       "    }\n",
       "\n",
       "    .dataframe thead th {\n",
       "        text-align: right;\n",
       "    }\n",
       "</style>\n",
       "<table border=\"1\" class=\"dataframe\">\n",
       "  <thead>\n",
       "    <tr style=\"text-align: right;\">\n",
       "      <th></th>\n",
       "      <th>Sepal length</th>\n",
       "      <th>Sepal width</th>\n",
       "      <th>Petal length</th>\n",
       "      <th>Petal width</th>\n",
       "    </tr>\n",
       "  </thead>\n",
       "  <tbody>\n",
       "    <tr>\n",
       "      <th>114</th>\n",
       "      <td>5.8</td>\n",
       "      <td>2.8</td>\n",
       "      <td>5.1</td>\n",
       "      <td>2.4</td>\n",
       "    </tr>\n",
       "    <tr>\n",
       "      <th>62</th>\n",
       "      <td>6.0</td>\n",
       "      <td>2.2</td>\n",
       "      <td>4.0</td>\n",
       "      <td>1.0</td>\n",
       "    </tr>\n",
       "    <tr>\n",
       "      <th>33</th>\n",
       "      <td>5.5</td>\n",
       "      <td>4.2</td>\n",
       "      <td>1.4</td>\n",
       "      <td>0.2</td>\n",
       "    </tr>\n",
       "    <tr>\n",
       "      <th>107</th>\n",
       "      <td>7.3</td>\n",
       "      <td>2.9</td>\n",
       "      <td>6.3</td>\n",
       "      <td>1.8</td>\n",
       "    </tr>\n",
       "    <tr>\n",
       "      <th>7</th>\n",
       "      <td>5.0</td>\n",
       "      <td>3.4</td>\n",
       "      <td>1.5</td>\n",
       "      <td>0.2</td>\n",
       "    </tr>\n",
       "    <tr>\n",
       "      <th>...</th>\n",
       "      <td>...</td>\n",
       "      <td>...</td>\n",
       "      <td>...</td>\n",
       "      <td>...</td>\n",
       "    </tr>\n",
       "    <tr>\n",
       "      <th>9</th>\n",
       "      <td>4.9</td>\n",
       "      <td>3.1</td>\n",
       "      <td>1.5</td>\n",
       "      <td>0.1</td>\n",
       "    </tr>\n",
       "    <tr>\n",
       "      <th>103</th>\n",
       "      <td>6.3</td>\n",
       "      <td>2.9</td>\n",
       "      <td>5.6</td>\n",
       "      <td>1.8</td>\n",
       "    </tr>\n",
       "    <tr>\n",
       "      <th>67</th>\n",
       "      <td>5.8</td>\n",
       "      <td>2.7</td>\n",
       "      <td>4.1</td>\n",
       "      <td>1.0</td>\n",
       "    </tr>\n",
       "    <tr>\n",
       "      <th>117</th>\n",
       "      <td>7.7</td>\n",
       "      <td>3.8</td>\n",
       "      <td>6.7</td>\n",
       "      <td>2.2</td>\n",
       "    </tr>\n",
       "    <tr>\n",
       "      <th>47</th>\n",
       "      <td>4.6</td>\n",
       "      <td>3.2</td>\n",
       "      <td>1.4</td>\n",
       "      <td>0.2</td>\n",
       "    </tr>\n",
       "  </tbody>\n",
       "</table>\n",
       "<p>150 rows × 4 columns</p>\n",
       "</div>"
      ],
      "text/plain": [
       "     Sepal length  Sepal width  Petal length  Petal width\n",
       "114           5.8          2.8           5.1          2.4\n",
       "62            6.0          2.2           4.0          1.0\n",
       "33            5.5          4.2           1.4          0.2\n",
       "107           7.3          2.9           6.3          1.8\n",
       "7             5.0          3.4           1.5          0.2\n",
       "..            ...          ...           ...          ...\n",
       "9             4.9          3.1           1.5          0.1\n",
       "103           6.3          2.9           5.6          1.8\n",
       "67            5.8          2.7           4.1          1.0\n",
       "117           7.7          3.8           6.7          2.2\n",
       "47            4.6          3.2           1.4          0.2\n",
       "\n",
       "[150 rows x 4 columns]"
      ]
     },
     "execution_count": 20,
     "metadata": {},
     "output_type": "execute_result"
    }
   ],
   "source": [
    "X"
   ]
  },
  {
   "cell_type": "markdown",
   "id": "885ddee7-1182-4697-9167-9df41599ae0b",
   "metadata": {},
   "source": [
    "The example above uses a pandas [`DataFrame`](https://pandas.pydata.org/pandas-docs/stable/reference/api/pandas.DataFrame.html) to store the data. If you want to convert into a raw NumPy matrix, it can be done easily by calling `to_numpy`."
   ]
  },
  {
   "cell_type": "code",
   "execution_count": 22,
   "id": "b83d0769-b36b-40d9-a211-7b73d055ea1b",
   "metadata": {},
   "outputs": [
    {
     "data": {
      "text/plain": [
       "array([[5.8, 2.8, 5.1, 2.4],\n",
       "       [6. , 2.2, 4. , 1. ],\n",
       "       [5.5, 4.2, 1.4, 0.2],\n",
       "       [7.3, 2.9, 6.3, 1.8],\n",
       "       [5. , 3.4, 1.5, 0.2]])"
      ]
     },
     "execution_count": 22,
     "metadata": {},
     "output_type": "execute_result"
    }
   ],
   "source": [
    "X.to_numpy()[:5]"
   ]
  },
  {
   "cell_type": "markdown",
   "id": "999275c5-bc7f-415d-9781-59fba43139a2",
   "metadata": {
    "jp-MarkdownHeadingCollapsed": true
   },
   "source": [
    "### Basic workflow\n",
    "\n",
    "Let's have some basic machine learning examples.\n",
    "\n",
    "We start by splitting the data into a training and test part. 30% of the data will be used for testing and the rest for training. We use the utility function `train_test_split` from the scikit-learn library.\n",
    "\n",
    "The train/test split is done randomly. The parameter `random_state` is used to set the random seed to a constant value, so that our results are reproducible."
   ]
  },
  {
   "cell_type": "code",
   "execution_count": 24,
   "id": "5c5420e5-8d6e-4802-93c7-410dad0cb74e",
   "metadata": {},
   "outputs": [],
   "source": [
    "from sklearn.model_selection import train_test_split\n",
    "\n",
    "Xtrain, Xtest, Ytrain, Ytest = train_test_split(X, Y, test_size=0.3, random_state=0)"
   ]
  },
  {
   "cell_type": "markdown",
   "id": "92fdef60-9786-4028-ad93-b5e552291b16",
   "metadata": {},
   "source": [
    "We import a scikit-learn class representing [decision tree classifiers](https://en.wikipedia.org/wiki/Decision_tree_learning).\n",
    "\n",
    "We create a decision tree classifier and train it on the training set (`fit`)."
   ]
  },
  {
   "cell_type": "code",
   "execution_count": 26,
   "id": "b0a03d3c-a916-42af-9291-e31ab7f2ff00",
   "metadata": {},
   "outputs": [],
   "source": [
    "from sklearn.tree import DecisionTreeClassifier\n",
    "\n",
    "clf = DecisionTreeClassifier()\n",
    "clf.fit(Xtrain, Ytrain);"
   ]
  },
  {
   "cell_type": "markdown",
   "id": "d484fac9-22b8-418c-b262-16f538f867a7",
   "metadata": {},
   "source": [
    "Let's see what the classifier says about one particular instance. We take a look at the first instance in the test set:"
   ]
  },
  {
   "cell_type": "code",
   "execution_count": 28,
   "id": "7db5ad38-3436-4166-a3ba-350cd1a131c7",
   "metadata": {},
   "outputs": [
    {
     "data": {
      "text/html": [
       "<div>\n",
       "<style scoped>\n",
       "    .dataframe tbody tr th:only-of-type {\n",
       "        vertical-align: middle;\n",
       "    }\n",
       "\n",
       "    .dataframe tbody tr th {\n",
       "        vertical-align: top;\n",
       "    }\n",
       "\n",
       "    .dataframe thead th {\n",
       "        text-align: right;\n",
       "    }\n",
       "</style>\n",
       "<table border=\"1\" class=\"dataframe\">\n",
       "  <thead>\n",
       "    <tr style=\"text-align: right;\">\n",
       "      <th></th>\n",
       "      <th>Sepal length</th>\n",
       "      <th>Sepal width</th>\n",
       "      <th>Petal length</th>\n",
       "      <th>Petal width</th>\n",
       "    </tr>\n",
       "  </thead>\n",
       "  <tbody>\n",
       "    <tr>\n",
       "      <th>118</th>\n",
       "      <td>7.7</td>\n",
       "      <td>2.6</td>\n",
       "      <td>6.9</td>\n",
       "      <td>2.3</td>\n",
       "    </tr>\n",
       "  </tbody>\n",
       "</table>\n",
       "</div>"
      ],
      "text/plain": [
       "     Sepal length  Sepal width  Petal length  Petal width\n",
       "118           7.7          2.6           6.9          2.3"
      ]
     },
     "execution_count": 28,
     "metadata": {},
     "output_type": "execute_result"
    }
   ],
   "source": [
    "Xtest.head(1)"
   ]
  },
  {
   "cell_type": "markdown",
   "id": "3eb05f8d-d542-4389-afe7-91c1c133fa7b",
   "metadata": {},
   "source": [
    "We compute the classifier's prediction for this instance."
   ]
  },
  {
   "cell_type": "code",
   "execution_count": 30,
   "id": "7cd2ea32-a482-4b7f-ab35-0e88a1e9c8e1",
   "metadata": {},
   "outputs": [
    {
     "data": {
      "text/plain": [
       "array(['Iris-virginica'], dtype=object)"
      ]
     },
     "execution_count": 30,
     "metadata": {},
     "output_type": "execute_result"
    }
   ],
   "source": [
    "one_instance = Xtest.head(1)\n",
    "\n",
    "clf.predict(one_instance)"
   ]
  },
  {
   "cell_type": "markdown",
   "id": "c33a410e-f688-48af-841f-57bfb64d7d1a",
   "metadata": {},
   "source": [
    "By looking at the output part of the test set, we can verify that the classifier was correct in this case."
   ]
  },
  {
   "cell_type": "code",
   "execution_count": 32,
   "id": "adc3fc15-bcd8-493b-88eb-505a2cb63057",
   "metadata": {},
   "outputs": [
    {
     "data": {
      "text/plain": [
       "118    Iris-virginica\n",
       "Name: Class, dtype: object"
      ]
     },
     "execution_count": 32,
     "metadata": {},
     "output_type": "execute_result"
    }
   ],
   "source": [
    "Ytest.head(1)"
   ]
  },
  {
   "cell_type": "markdown",
   "id": "8a198f24-735b-40db-a902-5120a39c78d7",
   "metadata": {},
   "source": [
    "We can compute predictions for all instances in the test set. Note that the `predict` method for scikit-learn predictors normally expects a *collection* of instances, not a single instance."
   ]
  },
  {
   "cell_type": "code",
   "execution_count": 34,
   "id": "4a6e7cf0-2b93-4860-9261-1eb49e134b92",
   "metadata": {},
   "outputs": [
    {
     "data": {
      "text/plain": [
       "array(['Iris-virginica', 'Iris-virginica', 'Iris-virginica',\n",
       "       'Iris-setosa', 'Iris-versicolor', 'Iris-setosa', 'Iris-virginica',\n",
       "       'Iris-virginica', 'Iris-virginica', 'Iris-versicolor',\n",
       "       'Iris-setosa', 'Iris-virginica', 'Iris-setosa', 'Iris-virginica',\n",
       "       'Iris-versicolor', 'Iris-virginica', 'Iris-setosa',\n",
       "       'Iris-virginica', 'Iris-versicolor', 'Iris-versicolor',\n",
       "       'Iris-virginica', 'Iris-versicolor', 'Iris-virginica',\n",
       "       'Iris-versicolor', 'Iris-virginica', 'Iris-setosa', 'Iris-setosa',\n",
       "       'Iris-setosa', 'Iris-setosa', 'Iris-setosa', 'Iris-virginica',\n",
       "       'Iris-virginica', 'Iris-versicolor', 'Iris-versicolor',\n",
       "       'Iris-virginica', 'Iris-virginica', 'Iris-setosa',\n",
       "       'Iris-virginica', 'Iris-setosa', 'Iris-virginica',\n",
       "       'Iris-versicolor', 'Iris-setosa', 'Iris-virginica', 'Iris-setosa',\n",
       "       'Iris-virginica'], dtype=object)"
      ]
     },
     "execution_count": 34,
     "metadata": {},
     "output_type": "execute_result"
    }
   ],
   "source": [
    "all_predictions = clf.predict(Xtest)\n",
    "\n",
    "all_predictions"
   ]
  },
  {
   "cell_type": "markdown",
   "id": "ec3532f7-2c63-4e53-bd45-edcf83eaeca4",
   "metadata": {},
   "source": [
    "How good are our predictions? We compute the *accuracy* of our classifier for this test set. The accuracy is defined as the proportion of right answers. (See [here](https://en.wikipedia.org/wiki/Evaluation_of_binary_classifiers) for some other ways to evaluate classifiers.)\n",
    "\n",
    "The iris dataset is quite easy, and the accuracy is quite high for our classifier."
   ]
  },
  {
   "cell_type": "code",
   "execution_count": 36,
   "id": "1fbddea4-40e0-49af-8ba8-e4c98308bbd0",
   "metadata": {},
   "outputs": [
    {
     "data": {
      "text/plain": [
       "0.9333333333333333"
      ]
     },
     "execution_count": 36,
     "metadata": {},
     "output_type": "execute_result"
    }
   ],
   "source": [
    "from sklearn.metrics import accuracy_score\n",
    "\n",
    "accuracy_score(Ytest, all_predictions)"
   ]
  },
  {
   "cell_type": "markdown",
   "id": "67e15a69-5c53-469e-ad15-ad4184e65e51",
   "metadata": {},
   "source": [
    "Alternatively, we can call the method `score` for our classifier. This method will predict on the test set and then evaluate the predictions using the accuracy."
   ]
  },
  {
   "cell_type": "code",
   "execution_count": 38,
   "id": "034097e3-e409-4b07-99d8-51cf167dc5c5",
   "metadata": {},
   "outputs": [
    {
     "data": {
      "text/plain": [
       "0.9333333333333333"
      ]
     },
     "execution_count": 38,
     "metadata": {},
     "output_type": "execute_result"
    }
   ],
   "source": [
    "clf.score(Xtest, Ytest)"
   ]
  },
  {
   "cell_type": "markdown",
   "id": "81675a46-7736-4e30-a0ff-76d52f780b46",
   "metadata": {},
   "source": [
    "Normally, we'll carry out several evaluations while we are selecting the best model. This will be done using a separate *validation set*, like a second test set, or using [*cross-validation*](https://en.wikipedia.org/wiki/Cross-validation_(statistics)).\n",
    "\n",
    "In scikit-learn, there are a couple of ways that we can do cross-validation. The simplest way is to call `cross_val_score`, which for each cross-validation fold will call the method `score` mentioned above."
   ]
  },
  {
   "cell_type": "code",
   "execution_count": 40,
   "id": "1fd0d89e-c308-459f-98a7-a67c13a43109",
   "metadata": {},
   "outputs": [
    {
     "data": {
      "text/plain": [
       "array([0.85714286, 0.95238095, 0.95238095, 0.95238095, 1.        ])"
      ]
     },
     "execution_count": 40,
     "metadata": {},
     "output_type": "execute_result"
    }
   ],
   "source": [
    "from sklearn.model_selection import cross_val_score\n",
    "\n",
    "cross_val_score(clf, Xtrain, Ytrain, cv=5)"
   ]
  },
  {
   "cell_type": "markdown",
   "id": "fe929457-835b-45b0-b75c-507447715de0",
   "metadata": {},
   "source": [
    "Alternatively, you can call `cross_validate`, where you can specify what kind of metric to use. The output of this function is also a bit more detailed."
   ]
  },
  {
   "cell_type": "code",
   "execution_count": 42,
   "id": "6f91258b-42c7-4a0e-ab9b-568dd658a4f7",
   "metadata": {},
   "outputs": [
    {
     "data": {
      "text/plain": [
       "{'fit_time': array([0.01059604, 0.01009011, 0.00727606, 0.00428915, 0.00666285]),\n",
       " 'score_time': array([0.00682521, 0.00609303, 0.00532198, 0.00519705, 0.00259614]),\n",
       " 'test_score': array([0.9047619 , 0.95238095, 0.95238095, 0.95238095, 1.        ])}"
      ]
     },
     "execution_count": 42,
     "metadata": {},
     "output_type": "execute_result"
    }
   ],
   "source": [
    "from sklearn.model_selection import cross_validate\n",
    "\n",
    "cross_validate(clf, Xtrain, Ytrain, cv=5, scoring='accuracy')"
   ]
  },
  {
   "cell_type": "markdown",
   "id": "1d4b5386-393c-43fd-bb30-fea6a30b44c1",
   "metadata": {},
   "source": [
    "Finally, let's evaluate some other classifiers in addition to the decision trees. We first consider linear [support vector classifiers](https://en.wikipedia.org/wiki/Support-vector_machine)."
   ]
  },
  {
   "cell_type": "code",
   "execution_count": 44,
   "id": "56348a10-56fa-431c-a820-f60f6fa8dd24",
   "metadata": {},
   "outputs": [
    {
     "data": {
      "text/plain": [
       "{'fit_time': array([0.01369309, 0.01207018, 0.00750589, 0.00840187, 0.00892806]),\n",
       " 'score_time': array([0.00586987, 0.00670791, 0.00538683, 0.00525117, 0.0198071 ]),\n",
       " 'test_score': array([1.        , 1.        , 0.95238095, 0.95238095, 0.95238095])}"
      ]
     },
     "execution_count": 44,
     "metadata": {},
     "output_type": "execute_result"
    }
   ],
   "source": [
    "from sklearn.svm import LinearSVC\n",
    "\n",
    "clf2 = LinearSVC(max_iter=10000, dual='auto')\n",
    "cross_validate(clf2, Xtrain, Ytrain, cv=5, scoring='accuracy')"
   ]
  },
  {
   "cell_type": "markdown",
   "id": "05abfbd2-0784-446f-a79a-76066fe02ba1",
   "metadata": {},
   "source": [
    "It is useful to compare classifiers to a *baseline*, such as a trivial majority-class classifier."
   ]
  },
  {
   "cell_type": "code",
   "execution_count": 46,
   "id": "e71324fd-c6aa-43be-9f92-5318b7d26695",
   "metadata": {},
   "outputs": [
    {
     "data": {
      "text/plain": [
       "{'fit_time': array([0.00211501, 0.00247478, 0.00195789, 0.00167775, 0.00361013]),\n",
       " 'score_time': array([0.00605178, 0.00222826, 0.00319195, 0.00221419, 0.00402188]),\n",
       " 'test_score': array([0.33333333, 0.33333333, 0.33333333, 0.33333333, 0.33333333])}"
      ]
     },
     "execution_count": 46,
     "metadata": {},
     "output_type": "execute_result"
    }
   ],
   "source": [
    "from sklearn.dummy import DummyClassifier\n",
    "\n",
    "majority_baseline = DummyClassifier(strategy='most_frequent')\n",
    "cross_validate(majority_baseline, Xtrain, Ytrain, cv=5, scoring='accuracy')"
   ]
  },
  {
   "cell_type": "markdown",
   "id": "5f02d29c-8f24-41f5-a226-07e9f270722a",
   "metadata": {
    "jp-MarkdownHeadingCollapsed": true
   },
   "source": [
    "### Illustrating the iris example\n",
    "\n",
    "We'll provide some illustrations of how the various types of classifiers work by drawing the *decision boundaries* for a two-dimensional dataset.\n",
    "\n",
    "Since the iris dataset has four dimensions, we select the attributes petal length and width so that we can plot the data in a two-dimensional scatterplot."
   ]
  },
  {
   "cell_type": "code",
   "execution_count": 48,
   "id": "2bd672a9-e18b-4fc3-b25e-88d9a8e5be89",
   "metadata": {},
   "outputs": [],
   "source": [
    "X2 = X[['Petal length', 'Petal width']]\n",
    "\n",
    "pd.set_option(\"future.no_silent_downcasting\", True)\n",
    "Y_encoded = Y.replace({'Iris-setosa':0, 'Iris-versicolor':1, 'Iris-virginica':2})\n",
    "\n",
    "plt.figure(figsize=(5,5))\n",
    "plt.scatter(X2['Petal length'], X2['Petal width'], c=Y_encoded, cmap='tab10');"
   ]
  },
  {
   "cell_type": "markdown",
   "id": "5850f8fe-9e78-4394-bfc9-fc80204c72ae",
   "metadata": {},
   "source": [
    "We define a utility function that makes a scatterplot of a dataset and also draws the decision boundary. Here, we're using a bit of NumPy and matplotlib tricks. Don't worry about the details."
   ]
  },
  {
   "cell_type": "code",
   "execution_count": 50,
   "id": "6eb23712-81cc-4caa-ab9e-9132ba59f705",
   "metadata": {},
   "outputs": [],
   "source": [
    "def plot_boundary(clf, X, Y, cmap='tab10', names=None):\n",
    "\n",
    "    if isinstance(X, pd.DataFrame):\n",
    "        if not names:\n",
    "            names = list(X.columns)\n",
    "        X = X.to_numpy()\n",
    "\n",
    "    x_min, x_max = X[:,0].min(), X[:,0].max()\n",
    "    y_min, y_max = X[:,1].min(), X[:,1].max()\n",
    "\n",
    "    x_off = (x_max-x_min)/25\n",
    "    y_off = (y_max-y_min)/25\n",
    "    x_min -= x_off\n",
    "    x_max += x_off\n",
    "    y_min -= y_off\n",
    "    y_max += y_off\n",
    "    \n",
    "    xs = np.linspace(x_min, x_max, 250)\n",
    "    ys = np.linspace(y_min, y_max, 250)\n",
    "    \n",
    "    xx, yy = np.meshgrid(xs, ys)\n",
    "    \n",
    "    lenc = {c:i for i, c in enumerate(clf.classes_)}\n",
    "    Z = clf.predict(np.c_[xx.ravel(), yy.ravel()])\n",
    "    Z = np.array([lenc[z] for z in Z])\n",
    "    Z = Z.reshape(xx.shape)\n",
    "    Yenc = [lenc[y] for y in Y]\n",
    "    plt.figure(figsize=(5,5))\n",
    "    plt.contourf(xx, yy, Z, cmap=cmap, alpha=0.15)\n",
    "    plt.contour(xx, yy, Z, colors='k', linewidths=0.2)\n",
    "        \n",
    "    sc = plt.scatter(X[:,0], X[:,1], c=Yenc, cmap=cmap, alpha=0.5, edgecolors='k', linewidths=0.5);\n",
    "    \n",
    "    plt.legend(handles=sc.legend_elements()[0], labels=list(clf.classes_))\n",
    "    \n",
    "    if names:\n",
    "        plt.xlabel(names[0])\n",
    "        plt.ylabel(names[1])"
   ]
  },
  {
   "cell_type": "markdown",
   "id": "53cfc258-c93f-4ad5-989f-6304dbf1876f",
   "metadata": {},
   "source": [
    "Now we can plot some decision boundaries. Here, we see the how it looks for a linear classifier:"
   ]
  },
  {
   "cell_type": "code",
   "execution_count": 52,
   "id": "15d23236-6766-4a1f-bae4-e1f74615ad3c",
   "metadata": {},
   "outputs": [],
   "source": [
    "from sklearn.svm import LinearSVC\n",
    "\n",
    "cls = LinearSVC(dual='auto')\n",
    "cls.fit(X2.values, Y)\n",
    "plot_boundary(cls, X2.values, Y)"
   ]
  },
  {
   "cell_type": "markdown",
   "id": "590942ef-ce46-4cd5-b7bf-3e010ac6f8d0",
   "metadata": {},
   "source": [
    "And for a decision tree, the decision boundary has the characteristic shape with right angles."
   ]
  },
  {
   "cell_type": "code",
   "execution_count": 54,
   "id": "7a74f3c8-b323-425c-a6b0-ad581863c09e",
   "metadata": {},
   "outputs": [],
   "source": [
    "cls = DecisionTreeClassifier()\n",
    "cls.fit(X2.values, Y)\n",
    "plot_boundary(cls, X2.values, Y)"
   ]
  },
  {
   "cell_type": "markdown",
   "id": "ad0b6c8c-5ed9-470b-b423-16a9a2c89049",
   "metadata": {
    "jp-MarkdownHeadingCollapsed": true
   },
   "source": [
    "### Decision tree implementation\n",
    "\n",
    "In the following section, we'll implement a learning algorithm for decision tree classifiers.\n",
    "\n",
    "To represent a decision tree, we define the two components of decision trees: leaves and branches. A *leaf* corresponds to the base case of a recursion. It is a \"dummy\" tree that always returns a constant value.\n",
    "\n",
    "The code that is used to draw the trees can be ignored if you want."
   ]
  },
  {
   "cell_type": "code",
   "execution_count": 56,
   "id": "f23c41c8-a30b-4ca8-a68f-0882e789052f",
   "metadata": {},
   "outputs": [],
   "source": [
    "class DecisionTreeLeaf:\n",
    "\n",
    "    def __init__(self, value):\n",
    "        self.value = value\n",
    "\n",
    "    # This method computes the prediction for this leaf node. This will just return a constant value.\n",
    "    def predict(self, x):\n",
    "        return self.value\n",
    "\n",
    "    # Utility function to draw a tree visually using graphviz.\n",
    "    def draw_tree(self, graph, node_counter, names):\n",
    "        node_id = str(node_counter)\n",
    "        val_str = f'{self.value:.4g}' if isinstance(self.value, float) else str(self.value)\n",
    "        graph.node(node_id, val_str, style='filled')\n",
    "        return node_counter+1, node_id\n",
    "        \n",
    "    def __eq__(self, other):\n",
    "        if isinstance(other, DecisionTreeLeaf):\n",
    "            return self.value == other.value\n",
    "        else:\n",
    "            return False"
   ]
  },
  {
   "cell_type": "markdown",
   "id": "acb99a83-d482-49b5-8579-15f62ee5af9e",
   "metadata": {},
   "source": [
    "A *branch* will look at one feature, and will select a subtree depending on the value of the feature. That subtree will then be called recursively to compute the prediction.\n",
    "\n",
    "This implementation assumes that the feature is numerical. Depending on whether the feature is or isn't greater than a threshold, the \"high\" or \"low\" subtree will be selected."
   ]
  },
  {
   "cell_type": "code",
   "execution_count": 58,
   "id": "a3ddb001-b6d4-4d4b-a1fe-5b5bc65e06dd",
   "metadata": {},
   "outputs": [],
   "source": [
    "class DecisionTreeBranch:\n",
    "\n",
    "    def __init__(self, feature, threshold, low_subtree, high_subtree):\n",
    "        self.feature = feature\n",
    "        self.threshold = threshold\n",
    "        self.low_subtree = low_subtree\n",
    "        self.high_subtree = high_subtree\n",
    "\n",
    "    # For a branch node, we compute the prediction by first considering the feature, and then \n",
    "    # calling the upper or lower subtree, depending on whether the feature is or isn't greater\n",
    "    # than the threshold.\n",
    "    def predict(self, x):\n",
    "        if x[self.feature] <= self.threshold:\n",
    "            return self.low_subtree.predict(x)\n",
    "        else:\n",
    "            return self.high_subtree.predict(x)\n",
    "\n",
    "    # Utility function to draw a tree visually using graphviz.\n",
    "    def draw_tree(self, graph, node_counter, names):\n",
    "        node_counter, low_id = self.low_subtree.draw_tree(graph, node_counter, names)\n",
    "        node_counter, high_id = self.high_subtree.draw_tree(graph, node_counter, names)\n",
    "        node_id = str(node_counter)\n",
    "        fname = f'F{self.feature}' if names is None else names[self.feature]\n",
    "        lbl = f'{fname} > {self.threshold:.4g}?'\n",
    "        graph.node(node_id, lbl, shape='box', fillcolor='yellow', style='filled, rounded')\n",
    "        graph.edge(node_id, low_id, 'False')\n",
    "        graph.edge(node_id, high_id, 'True')\n",
    "        return node_counter+1, node_id\n",
    "        "
   ]
  },
  {
   "cell_type": "markdown",
   "id": "8ca1b98e-eda0-4637-a665-33c3fa0d31c7",
   "metadata": {},
   "source": [
    "Now, we have the components needed to implement decision tree classifiers and regression models.\n",
    "\n",
    "Following standard practice in scikit-learn, we inherit from the class [`BaseEstimator`](https://scikit-learn.org/stable/modules/generated/sklearn.base.BaseEstimator.html), which is the base class of all classifiers and regression models.\n",
    "\n",
    "We write the `DecisionTree` class as an abstract class that contains the functionality common to all types of decision trees. Classification and regression models will be implemented as subclasses. The classification subclass is given below, while the regression subclass will be implemented as a part of the first assignment. Following scikit-learn naming conventions, we'll call the training and prediction methods `fit` and `predict`, respectively.\n",
    "\n",
    "The functions that the subclasses will need to implement, and which are done differently for classification and regression, are the following:\n",
    "\n",
    "* `get_default_value`: what output value to use if we decide to return a leaf node. For classification, this will be the most common output value, while for regression it will be the mean.\n",
    "* `is_homogeneous`: tests whether a set of output values is homogeneous. For classification, this means that all outputs are identical; for regression, we'll probably test whether the variance is smaller than some threshold.\n",
    "* `best_split`: finds the best splitting point for that feature. For classification, this will be based on one of the classification criteria (information gain, gini impurity, majority sum); for regression, it will be based on variances in the subsets."
   ]
  },
  {
   "cell_type": "code",
   "execution_count": 60,
   "id": "53f811c9-d114-41c7-8ea1-c2720bd76ace",
   "metadata": {},
   "outputs": [],
   "source": [
    "from graphviz import Digraph\n",
    "from sklearn.base import BaseEstimator, ClassifierMixin\n",
    "from abc import ABC, abstractmethod\n",
    "\n",
    "class DecisionTree(ABC, BaseEstimator):\n",
    "\n",
    "    def __init__(self, max_depth):\n",
    "        super().__init__()\n",
    "        self.max_depth = max_depth\n",
    "        \n",
    "    # As usual in scikit-learn, the training method is called *fit*. We first process the dataset so that\n",
    "    # we're sure that it's represented as a NumPy matrix. Then we call the recursive tree-building method\n",
    "    # called make_tree (see below).\n",
    "    def fit(self, X, Y):\n",
    "        if isinstance(X, pd.DataFrame):\n",
    "            self.names = X.columns\n",
    "            X = X.to_numpy()\n",
    "        elif isinstance(X, list):\n",
    "            self.names = None\n",
    "            X = np.array(X)\n",
    "        else:\n",
    "            self.names = None\n",
    "        Y = np.array(Y)        \n",
    "        self.root = self.make_tree(X, Y, self.max_depth)\n",
    "        \n",
    "    def draw_tree(self):\n",
    "        graph = Digraph()\n",
    "        self.root.draw_tree(graph, 0, self.names)\n",
    "        return graph\n",
    "    \n",
    "    # By scikit-learn convention, the method *predict* computes the classification or regression output\n",
    "    # for a set of instances.\n",
    "    # To implement it, we call a separate method that carries out the prediction for one instance.\n",
    "    def predict(self, X):\n",
    "        if isinstance(X, pd.DataFrame):\n",
    "            X = X.to_numpy()\n",
    "        return [self.predict_one(x) for x in X]\n",
    "\n",
    "    # Predicting the output for one instance.\n",
    "    def predict_one(self, x):\n",
    "        return self.root.predict(x)        \n",
    "\n",
    "    # This is the recursive training \n",
    "    def make_tree(self, X, Y, max_depth):\n",
    "\n",
    "        # We start by computing the default value that will be used if we'll return a leaf node.\n",
    "        # For classifiers, this will be the most common value in Y.\n",
    "        default_value = self.get_default_value(Y)\n",
    "\n",
    "        # First the two base cases in the recursion: is the training set completely\n",
    "        # homogeneous, or have we reached the maximum depth? Then we need to return a leaf.\n",
    "\n",
    "        # If we have reached the maximum depth, return a leaf with the majority value.\n",
    "        if max_depth == 0:\n",
    "            return DecisionTreeLeaf(default_value)\n",
    "\n",
    "        # If all the instances in the remaining training set have the same output value,\n",
    "        # return a leaf with this value.\n",
    "        if self.is_homogeneous(Y):\n",
    "            return DecisionTreeLeaf(default_value)\n",
    "\n",
    "        # Select the \"most useful\" feature and split threshold. To rank the \"usefulness\" of features,\n",
    "        # we use one of the classification or regression criteria.\n",
    "        # For each feature, we call best_split (defined in a subclass). We then maximize over the features.\n",
    "        n_features = X.shape[1]\n",
    "        _, best_feature, best_threshold = max(self.best_split(X, Y, feature) for feature in range(n_features))\n",
    "        \n",
    "        if best_feature is None:\n",
    "            return DecisionTreeLeaf(default_value)\n",
    "\n",
    "        # Split the training set into subgroups, based on whether the selected feature is greater than\n",
    "        # the threshold or not\n",
    "        X_low, X_high, Y_low, Y_high = self.split_by_feature(X, Y, best_feature, best_threshold)\n",
    "\n",
    "        # Build the subtrees using a recursive call. Each subtree is associated\n",
    "        # with a value of the feature.\n",
    "        low_subtree = self.make_tree(X_low, Y_low, max_depth-1)\n",
    "        high_subtree = self.make_tree(X_high, Y_high, max_depth-1)\n",
    "\n",
    "        if low_subtree == high_subtree:\n",
    "            return low_subtree\n",
    "\n",
    "        # Return a decision tree branch containing the result.\n",
    "        return DecisionTreeBranch(best_feature, best_threshold, low_subtree, high_subtree)\n",
    "    \n",
    "    # Utility method that splits the data into the \"upper\" and \"lower\" part, based on a feature\n",
    "    # and a threshold.\n",
    "    def split_by_feature(self, X, Y, feature, threshold):\n",
    "        low = X[:,feature] <= threshold\n",
    "        high = ~low\n",
    "        return X[low], X[high], Y[low], Y[high]\n",
    "    \n",
    "    # The following three methods need to be implemented by the classification and regression subclasses.\n",
    "    \n",
    "    @abstractmethod\n",
    "    def get_default_value(self, Y):\n",
    "        pass\n",
    "\n",
    "    @abstractmethod\n",
    "    def is_homogeneous(self, Y):\n",
    "        pass\n",
    "\n",
    "    @abstractmethod\n",
    "    def best_split(self, X, Y, feature):\n",
    "        pass"
   ]
  },
  {
   "cell_type": "markdown",
   "id": "9cd230e2-564b-4460-b9de-16df42e818aa",
   "metadata": {},
   "source": [
    "This is the subclass that implements decision tree classification. This implementation makes heavy use of the [`Counter`](https://docs.python.org/3/library/collections.html#collections.Counter) class, which is a standard Python data structure for frequency counting."
   ]
  },
  {
   "cell_type": "code",
   "execution_count": 62,
   "id": "491f168a-b9d8-4ee4-8f72-bcbd148eb36a",
   "metadata": {},
   "outputs": [],
   "source": [
    "from collections import Counter\n",
    "\n",
    "class TreeClassifier(DecisionTree, ClassifierMixin):\n",
    "\n",
    "    def __init__(self, max_depth=10, criterion='maj_sum'):\n",
    "        super().__init__(max_depth)\n",
    "        self.criterion = criterion\n",
    "        \n",
    "    def fit(self, X, Y):\n",
    "        # For decision tree classifiers, there are some different ways to measure\n",
    "        # the homogeneity of subsets.\n",
    "        if self.criterion == 'maj_sum':\n",
    "            self.criterion_function = majority_sum_scorer\n",
    "        elif self.criterion == 'info_gain':\n",
    "            self.criterion_function = info_gain_scorer\n",
    "        elif self.criterion == 'gini':\n",
    "            self.criterion_function = gini_scorer\n",
    "        else:\n",
    "            raise Exception(f'Unknown criterion: {self.criterion}')\n",
    "        super().fit(X, Y)\n",
    "        self.classes_ = sorted(set(Y))\n",
    "\n",
    "    # Select a default value that is going to be used if we decide to make a leaf.\n",
    "    # We will select the most common value.\n",
    "    def get_default_value(self, Y):\n",
    "        self.class_distribution = Counter(Y)\n",
    "        return self.class_distribution.most_common(1)[0][0]\n",
    "    \n",
    "    # Checks whether a set of output values is homogeneous. In the classification case, \n",
    "    # this means that all output values are identical.\n",
    "    # We assume that we called get_default_value just before, so that we can access\n",
    "    # the class_distribution attribute. If the class distribution contains just one item,\n",
    "    # this means that the set is homogeneous.\n",
    "    def is_homogeneous(self, Y):\n",
    "        return len(self.class_distribution) == 1\n",
    "        \n",
    "    # Finds the best splitting point for a given feature. We'll keep frequency tables (Counters)\n",
    "    # for the upper and lower parts, and then compute the impurity criterion using these tables.\n",
    "    # In the end, we return a triple consisting of\n",
    "    # - the best score we found, according to the criterion we're using\n",
    "    # - the id of the feature\n",
    "    # - the threshold for the best split\n",
    "    def best_split(self, X, Y, feature):\n",
    "\n",
    "        # Create a list of input-output pairs, where we have sorted\n",
    "        # in ascending order by the input feature we're considering.\n",
    "        sorted_indices = np.argsort(X[:, feature])        \n",
    "        X_sorted = list(X[sorted_indices, feature])\n",
    "        Y_sorted = list(Y[sorted_indices])\n",
    "\n",
    "        n = len(Y)\n",
    "\n",
    "        # The frequency tables corresponding to the parts *before and including*\n",
    "        # and *after* the current element.\n",
    "        low_distr = Counter()\n",
    "        high_distr = Counter(Y)\n",
    "\n",
    "        # Keep track of the best result we've seen so far.\n",
    "        max_score = -np.inf\n",
    "        max_i = None\n",
    "\n",
    "        # Go through all the positions (excluding the last position).\n",
    "        for i in range(0, n-1):\n",
    "\n",
    "            # Input and output at the current position.\n",
    "            x_i = X_sorted[i]\n",
    "            y_i = Y_sorted[i]\n",
    "            \n",
    "            # Update the frequency tables.\n",
    "            low_distr[y_i] += 1\n",
    "            high_distr[y_i] -= 1\n",
    "\n",
    "            # If the input is equal to the input at the next position, we will\n",
    "            # not consider a split here.\n",
    "            #x_next = XY[i+1][0]\n",
    "            x_next = X_sorted[i+1]\n",
    "            if x_i == x_next:\n",
    "                continue\n",
    "\n",
    "            # Compute the homogeneity criterion for a split at this position.\n",
    "            score = self.criterion_function(i+1, low_distr, n-i-1, high_distr)\n",
    "\n",
    "            # If this is the best split, remember it.\n",
    "            if score > max_score:\n",
    "                max_score = score\n",
    "                max_i = i\n",
    "\n",
    "        # If we didn't find any split (meaning that all inputs are identical), return\n",
    "        # a dummy value.\n",
    "        if max_i is None:\n",
    "            return -np.inf, None, None\n",
    "\n",
    "        # Otherwise, return the best split we found and its score.\n",
    "        split_point = 0.5*(X_sorted[max_i] + X_sorted[max_i+1])\n",
    "        return max_score, feature, split_point\n"
   ]
  },
  {
   "cell_type": "markdown",
   "id": "20caad0f-50f1-4578-b454-af18c2e922b6",
   "metadata": {},
   "source": [
    "Here, we define the various criteria we can use to find the \"quality\" of a split in terms of how homogeneous the subsets are. See the reading material for the mathematical definitions of these criteria."
   ]
  },
  {
   "cell_type": "code",
   "execution_count": 64,
   "id": "32c891c9-4edc-4fd0-bab5-10598519a151",
   "metadata": {},
   "outputs": [],
   "source": [
    "def majority_sum_scorer(n_low, low_distr, n_high, high_distr):\n",
    "    maj_sum_low = low_distr.most_common(1)[0][1]\n",
    "    maj_sum_high = high_distr.most_common(1)[0][1]\n",
    "    return maj_sum_low + maj_sum_high\n",
    "    \n",
    "def entropy(distr):\n",
    "    n = sum(distr.values())\n",
    "    ps = [n_i/n for n_i in distr.values()]\n",
    "    return -sum(p*np.log2(p) if p > 0 else 0 for p in ps)\n",
    "\n",
    "def info_gain_scorer(n_low, low_distr, n_high, high_distr):\n",
    "    return -(n_low*entropy(low_distr)+n_high*entropy(high_distr))/(n_low+n_high)\n",
    "\n",
    "def gini_impurity(distr):\n",
    "    n = sum(distr.values())\n",
    "    ps = [n_i/n for n_i in distr.values()]\n",
    "    return 1-sum(p**2 for p in ps)\n",
    "    \n",
    "def gini_scorer(n_low, low_distr, n_high, high_distr):\n",
    "    return -(n_low*gini_impurity(low_distr)+n_high*gini_impurity(high_distr))/(n_low+n_high)"
   ]
  },
  {
   "cell_type": "markdown",
   "id": "5d362393-ab87-4873-8b77-20f3be128362",
   "metadata": {
    "jp-MarkdownHeadingCollapsed": true
   },
   "source": [
    "### Iris example, continued"
   ]
  },
  {
   "cell_type": "markdown",
   "id": "2b054685-be7a-42e9-a67c-a54d1914a88f",
   "metadata": {},
   "source": [
    "Now, let's train decision trees for the iris dataset, using our own implementation (and not the one that's included in scikit-learn, which we used previously).\n",
    "\n",
    "We can investigate how the `max_depth` hyperparameter affects the decision boundary. Generally, if we allow deeper trees, we can express more complex boundaries. This allows us to handle more \"difficult\" datasets but also introduces the risk of overfitting.\n",
    "\n",
    "(If you didn't install graphviz, you can just remove the line that includes `draw_tree`.)"
   ]
  },
  {
   "cell_type": "code",
   "execution_count": 331,
   "id": "90cf39a8-391a-4536-9f2d-70f08ee52a8d",
   "metadata": {},
   "outputs": [
    {
     "data": {
      "image/svg+xml": [
       "<?xml version=\"1.0\" encoding=\"UTF-8\" standalone=\"no\"?>\n",
       "<!DOCTYPE svg PUBLIC \"-//W3C//DTD SVG 1.1//EN\"\n",
       " \"http://www.w3.org/Graphics/SVG/1.1/DTD/svg11.dtd\">\n",
       "<!-- Generated by graphviz version 4.0.0 (0)\n",
       " -->\n",
       "<!-- Pages: 1 -->\n",
       "<svg width=\"547pt\" height=\"566pt\"\n",
       " viewBox=\"0.00 0.00 546.99 566.00\" xmlns=\"http://www.w3.org/2000/svg\" xmlns:xlink=\"http://www.w3.org/1999/xlink\">\n",
       "<g id=\"graph0\" class=\"graph\" transform=\"scale(1 1) rotate(0) translate(4 562)\">\n",
       "<polygon fill=\"white\" stroke=\"transparent\" points=\"-4,4 -4,-562 542.99,-562 542.99,4 -4,4\"/>\n",
       "<!-- 0 -->\n",
       "<g id=\"node1\" class=\"node\">\n",
       "<title>0</title>\n",
       "<ellipse fill=\"lightgrey\" stroke=\"black\" cx=\"156.44\" cy=\"-453\" rx=\"46.59\" ry=\"18\"/>\n",
       "<text text-anchor=\"middle\" x=\"156.44\" y=\"-449.3\" font-family=\"Times,serif\" font-size=\"14.00\">Iris&#45;setosa</text>\n",
       "</g>\n",
       "<!-- 1 -->\n",
       "<g id=\"node2\" class=\"node\">\n",
       "<title>1</title>\n",
       "<ellipse fill=\"lightgrey\" stroke=\"black\" cx=\"60.44\" cy=\"-279\" rx=\"60.39\" ry=\"18\"/>\n",
       "<text text-anchor=\"middle\" x=\"60.44\" y=\"-275.3\" font-family=\"Times,serif\" font-size=\"14.00\">Iris&#45;versicolor</text>\n",
       "</g>\n",
       "<!-- 2 -->\n",
       "<g id=\"node3\" class=\"node\">\n",
       "<title>2</title>\n",
       "<ellipse fill=\"lightgrey\" stroke=\"black\" cx=\"67.44\" cy=\"-192\" rx=\"56.59\" ry=\"18\"/>\n",
       "<text text-anchor=\"middle\" x=\"67.44\" y=\"-188.3\" font-family=\"Times,serif\" font-size=\"14.00\">Iris&#45;virginica</text>\n",
       "</g>\n",
       "<!-- 3 -->\n",
       "<g id=\"node4\" class=\"node\">\n",
       "<title>3</title>\n",
       "<ellipse fill=\"lightgrey\" stroke=\"black\" cx=\"156.44\" cy=\"-105\" rx=\"56.59\" ry=\"18\"/>\n",
       "<text text-anchor=\"middle\" x=\"156.44\" y=\"-101.3\" font-family=\"Times,serif\" font-size=\"14.00\">Iris&#45;virginica</text>\n",
       "</g>\n",
       "<!-- 4 -->\n",
       "<g id=\"node5\" class=\"node\">\n",
       "<title>4</title>\n",
       "<ellipse fill=\"lightgrey\" stroke=\"black\" cx=\"227.44\" cy=\"-18\" rx=\"60.39\" ry=\"18\"/>\n",
       "<text text-anchor=\"middle\" x=\"227.44\" y=\"-14.3\" font-family=\"Times,serif\" font-size=\"14.00\">Iris&#45;versicolor</text>\n",
       "</g>\n",
       "<!-- 5 -->\n",
       "<g id=\"node6\" class=\"node\">\n",
       "<title>5</title>\n",
       "<ellipse fill=\"lightgrey\" stroke=\"black\" cx=\"362.44\" cy=\"-18\" rx=\"56.59\" ry=\"18\"/>\n",
       "<text text-anchor=\"middle\" x=\"362.44\" y=\"-14.3\" font-family=\"Times,serif\" font-size=\"14.00\">Iris&#45;virginica</text>\n",
       "</g>\n",
       "<!-- 6 -->\n",
       "<g id=\"node7\" class=\"node\">\n",
       "<title>6</title>\n",
       "<path fill=\"yellow\" stroke=\"black\" d=\"M345.94,-123C345.94,-123 242.94,-123 242.94,-123 236.94,-123 230.94,-117 230.94,-111 230.94,-111 230.94,-99 230.94,-99 230.94,-93 236.94,-87 242.94,-87 242.94,-87 345.94,-87 345.94,-87 351.94,-87 357.94,-93 357.94,-99 357.94,-99 357.94,-111 357.94,-111 357.94,-117 351.94,-123 345.94,-123\"/>\n",
       "<text text-anchor=\"middle\" x=\"294.44\" y=\"-101.3\" font-family=\"Times,serif\" font-size=\"14.00\">Petal length &gt; 5.45?</text>\n",
       "</g>\n",
       "<!-- 6&#45;&gt;4 -->\n",
       "<g id=\"edge1\" class=\"edge\">\n",
       "<title>6&#45;&gt;4</title>\n",
       "<path fill=\"none\" stroke=\"black\" d=\"M280.89,-86.8C271.13,-74.43 257.83,-57.55 246.94,-43.74\"/>\n",
       "<polygon fill=\"black\" stroke=\"black\" points=\"249.47,-41.28 240.53,-35.6 243.97,-45.62 249.47,-41.28\"/>\n",
       "<text text-anchor=\"middle\" x=\"279.94\" y=\"-57.8\" font-family=\"Times,serif\" font-size=\"14.00\">False</text>\n",
       "</g>\n",
       "<!-- 6&#45;&gt;5 -->\n",
       "<g id=\"edge2\" class=\"edge\">\n",
       "<title>6&#45;&gt;5</title>\n",
       "<path fill=\"none\" stroke=\"black\" d=\"M308.21,-86.8C318.1,-74.43 331.6,-57.55 342.65,-43.74\"/>\n",
       "<polygon fill=\"black\" stroke=\"black\" points=\"345.65,-45.59 349.17,-35.6 340.19,-41.22 345.65,-45.59\"/>\n",
       "<text text-anchor=\"middle\" x=\"346.44\" y=\"-57.8\" font-family=\"Times,serif\" font-size=\"14.00\">True</text>\n",
       "</g>\n",
       "<!-- 7 -->\n",
       "<g id=\"node8\" class=\"node\">\n",
       "<title>7</title>\n",
       "<path fill=\"yellow\" stroke=\"black\" d=\"M254.44,-210C254.44,-210 154.44,-210 154.44,-210 148.44,-210 142.44,-204 142.44,-198 142.44,-198 142.44,-186 142.44,-186 142.44,-180 148.44,-174 154.44,-174 154.44,-174 254.44,-174 254.44,-174 260.44,-174 266.44,-180 266.44,-186 266.44,-186 266.44,-198 266.44,-198 266.44,-204 260.44,-210 254.44,-210\"/>\n",
       "<text text-anchor=\"middle\" x=\"204.44\" y=\"-188.3\" font-family=\"Times,serif\" font-size=\"14.00\">Petal width &gt; 1.55?</text>\n",
       "</g>\n",
       "<!-- 7&#45;&gt;3 -->\n",
       "<g id=\"edge3\" class=\"edge\">\n",
       "<title>7&#45;&gt;3</title>\n",
       "<path fill=\"none\" stroke=\"black\" d=\"M194.73,-173.8C187.92,-161.74 178.7,-145.4 171.01,-131.79\"/>\n",
       "<polygon fill=\"black\" stroke=\"black\" points=\"173.94,-129.87 165.98,-122.89 167.85,-133.31 173.94,-129.87\"/>\n",
       "<text text-anchor=\"middle\" x=\"197.94\" y=\"-144.8\" font-family=\"Times,serif\" font-size=\"14.00\">False</text>\n",
       "</g>\n",
       "<!-- 7&#45;&gt;6 -->\n",
       "<g id=\"edge4\" class=\"edge\">\n",
       "<title>7&#45;&gt;6</title>\n",
       "<path fill=\"none\" stroke=\"black\" d=\"M222.66,-173.8C235.95,-161.24 254.16,-144.05 268.91,-130.12\"/>\n",
       "<polygon fill=\"black\" stroke=\"black\" points=\"271.39,-132.59 276.26,-123.18 266.59,-127.5 271.39,-132.59\"/>\n",
       "<text text-anchor=\"middle\" x=\"268.44\" y=\"-144.8\" font-family=\"Times,serif\" font-size=\"14.00\">True</text>\n",
       "</g>\n",
       "<!-- 8 -->\n",
       "<g id=\"node9\" class=\"node\">\n",
       "<title>8</title>\n",
       "<path fill=\"yellow\" stroke=\"black\" d=\"M250.44,-297C250.44,-297 150.44,-297 150.44,-297 144.44,-297 138.44,-291 138.44,-285 138.44,-285 138.44,-273 138.44,-273 138.44,-267 144.44,-261 150.44,-261 150.44,-261 250.44,-261 250.44,-261 256.44,-261 262.44,-267 262.44,-273 262.44,-273 262.44,-285 262.44,-285 262.44,-291 256.44,-297 250.44,-297\"/>\n",
       "<text text-anchor=\"middle\" x=\"200.44\" y=\"-275.3\" font-family=\"Times,serif\" font-size=\"14.00\">Petal width &gt; 1.45?</text>\n",
       "</g>\n",
       "<!-- 8&#45;&gt;2 -->\n",
       "<g id=\"edge5\" class=\"edge\">\n",
       "<title>8&#45;&gt;2</title>\n",
       "<path fill=\"none\" stroke=\"black\" d=\"M173.53,-260.8C152.36,-247.27 122.76,-228.35 100.21,-213.94\"/>\n",
       "<polygon fill=\"black\" stroke=\"black\" points=\"101.95,-210.9 91.64,-208.46 98.18,-216.79 101.95,-210.9\"/>\n",
       "<text text-anchor=\"middle\" x=\"156.94\" y=\"-231.8\" font-family=\"Times,serif\" font-size=\"14.00\">False</text>\n",
       "</g>\n",
       "<!-- 8&#45;&gt;7 -->\n",
       "<g id=\"edge6\" class=\"edge\">\n",
       "<title>8&#45;&gt;7</title>\n",
       "<path fill=\"none\" stroke=\"black\" d=\"M201.25,-260.8C201.8,-249.16 202.54,-233.55 203.16,-220.24\"/>\n",
       "<polygon fill=\"black\" stroke=\"black\" points=\"206.66,-220.33 203.64,-210.18 199.67,-220 206.66,-220.33\"/>\n",
       "<text text-anchor=\"middle\" x=\"216.44\" y=\"-231.8\" font-family=\"Times,serif\" font-size=\"14.00\">True</text>\n",
       "</g>\n",
       "<!-- 9 -->\n",
       "<g id=\"node10\" class=\"node\">\n",
       "<title>9</title>\n",
       "<path fill=\"yellow\" stroke=\"black\" d=\"M251.94,-384C251.94,-384 148.94,-384 148.94,-384 142.94,-384 136.94,-378 136.94,-372 136.94,-372 136.94,-360 136.94,-360 136.94,-354 142.94,-348 148.94,-348 148.94,-348 251.94,-348 251.94,-348 257.94,-348 263.94,-354 263.94,-360 263.94,-360 263.94,-372 263.94,-372 263.94,-378 257.94,-384 251.94,-384\"/>\n",
       "<text text-anchor=\"middle\" x=\"200.44\" y=\"-362.3\" font-family=\"Times,serif\" font-size=\"14.00\">Petal length &gt; 4.95?</text>\n",
       "</g>\n",
       "<!-- 9&#45;&gt;1 -->\n",
       "<g id=\"edge7\" class=\"edge\">\n",
       "<title>9&#45;&gt;1</title>\n",
       "<path fill=\"none\" stroke=\"black\" d=\"M172.11,-347.8C149.73,-334.21 118.4,-315.19 94.62,-300.75\"/>\n",
       "<polygon fill=\"black\" stroke=\"black\" points=\"96.27,-297.66 85.91,-295.46 92.64,-303.64 96.27,-297.66\"/>\n",
       "<text text-anchor=\"middle\" x=\"153.94\" y=\"-318.8\" font-family=\"Times,serif\" font-size=\"14.00\">False</text>\n",
       "</g>\n",
       "<!-- 9&#45;&gt;8 -->\n",
       "<g id=\"edge8\" class=\"edge\">\n",
       "<title>9&#45;&gt;8</title>\n",
       "<path fill=\"none\" stroke=\"black\" d=\"M200.44,-347.8C200.44,-336.16 200.44,-320.55 200.44,-307.24\"/>\n",
       "<polygon fill=\"black\" stroke=\"black\" points=\"203.94,-307.18 200.44,-297.18 196.94,-307.18 203.94,-307.18\"/>\n",
       "<text text-anchor=\"middle\" x=\"213.44\" y=\"-318.8\" font-family=\"Times,serif\" font-size=\"14.00\">True</text>\n",
       "</g>\n",
       "<!-- 10 -->\n",
       "<g id=\"node11\" class=\"node\">\n",
       "<title>10</title>\n",
       "<ellipse fill=\"lightgrey\" stroke=\"black\" cx=\"343.44\" cy=\"-192\" rx=\"56.59\" ry=\"18\"/>\n",
       "<text text-anchor=\"middle\" x=\"343.44\" y=\"-188.3\" font-family=\"Times,serif\" font-size=\"14.00\">Iris&#45;virginica</text>\n",
       "</g>\n",
       "<!-- 11 -->\n",
       "<g id=\"node12\" class=\"node\">\n",
       "<title>11</title>\n",
       "<ellipse fill=\"lightgrey\" stroke=\"black\" cx=\"478.44\" cy=\"-192\" rx=\"60.39\" ry=\"18\"/>\n",
       "<text text-anchor=\"middle\" x=\"478.44\" y=\"-188.3\" font-family=\"Times,serif\" font-size=\"14.00\">Iris&#45;versicolor</text>\n",
       "</g>\n",
       "<!-- 12 -->\n",
       "<g id=\"node13\" class=\"node\">\n",
       "<title>12</title>\n",
       "<path fill=\"yellow\" stroke=\"black\" d=\"M395.94,-297C395.94,-297 292.94,-297 292.94,-297 286.94,-297 280.94,-291 280.94,-285 280.94,-285 280.94,-273 280.94,-273 280.94,-267 286.94,-261 292.94,-261 292.94,-261 395.94,-261 395.94,-261 401.94,-261 407.94,-267 407.94,-273 407.94,-273 407.94,-285 407.94,-285 407.94,-291 401.94,-297 395.94,-297\"/>\n",
       "<text text-anchor=\"middle\" x=\"344.44\" y=\"-275.3\" font-family=\"Times,serif\" font-size=\"14.00\">Petal length &gt; 4.75?</text>\n",
       "</g>\n",
       "<!-- 12&#45;&gt;10 -->\n",
       "<g id=\"edge9\" class=\"edge\">\n",
       "<title>12&#45;&gt;10</title>\n",
       "<path fill=\"none\" stroke=\"black\" d=\"M344.24,-260.8C344.11,-249.16 343.92,-233.55 343.77,-220.24\"/>\n",
       "<polygon fill=\"black\" stroke=\"black\" points=\"347.26,-220.13 343.65,-210.18 340.26,-220.22 347.26,-220.13\"/>\n",
       "<text text-anchor=\"middle\" x=\"358.94\" y=\"-231.8\" font-family=\"Times,serif\" font-size=\"14.00\">False</text>\n",
       "</g>\n",
       "<!-- 12&#45;&gt;11 -->\n",
       "<g id=\"edge10\" class=\"edge\">\n",
       "<title>12&#45;&gt;11</title>\n",
       "<path fill=\"none\" stroke=\"black\" d=\"M371.56,-260.8C392.76,-247.35 422.34,-228.59 445,-214.21\"/>\n",
       "<polygon fill=\"black\" stroke=\"black\" points=\"447.06,-217.05 453.63,-208.74 443.31,-211.14 447.06,-217.05\"/>\n",
       "<text text-anchor=\"middle\" x=\"433.44\" y=\"-231.8\" font-family=\"Times,serif\" font-size=\"14.00\">True</text>\n",
       "</g>\n",
       "<!-- 13 -->\n",
       "<g id=\"node14\" class=\"node\">\n",
       "<title>13</title>\n",
       "<ellipse fill=\"lightgrey\" stroke=\"black\" cx=\"482.44\" cy=\"-279\" rx=\"56.59\" ry=\"18\"/>\n",
       "<text text-anchor=\"middle\" x=\"482.44\" y=\"-275.3\" font-family=\"Times,serif\" font-size=\"14.00\">Iris&#45;virginica</text>\n",
       "</g>\n",
       "<!-- 14 -->\n",
       "<g id=\"node15\" class=\"node\">\n",
       "<title>14</title>\n",
       "<path fill=\"yellow\" stroke=\"black\" d=\"M394.44,-384C394.44,-384 294.44,-384 294.44,-384 288.44,-384 282.44,-378 282.44,-372 282.44,-372 282.44,-360 282.44,-360 282.44,-354 288.44,-348 294.44,-348 294.44,-348 394.44,-348 394.44,-348 400.44,-348 406.44,-354 406.44,-360 406.44,-360 406.44,-372 406.44,-372 406.44,-378 400.44,-384 394.44,-384\"/>\n",
       "<text text-anchor=\"middle\" x=\"344.44\" y=\"-362.3\" font-family=\"Times,serif\" font-size=\"14.00\">Petal width &gt; 1.75?</text>\n",
       "</g>\n",
       "<!-- 14&#45;&gt;12 -->\n",
       "<g id=\"edge11\" class=\"edge\">\n",
       "<title>14&#45;&gt;12</title>\n",
       "<path fill=\"none\" stroke=\"black\" d=\"M344.44,-347.8C344.44,-336.16 344.44,-320.55 344.44,-307.24\"/>\n",
       "<polygon fill=\"black\" stroke=\"black\" points=\"347.94,-307.18 344.44,-297.18 340.94,-307.18 347.94,-307.18\"/>\n",
       "<text text-anchor=\"middle\" x=\"358.94\" y=\"-318.8\" font-family=\"Times,serif\" font-size=\"14.00\">False</text>\n",
       "</g>\n",
       "<!-- 14&#45;&gt;13 -->\n",
       "<g id=\"edge12\" class=\"edge\">\n",
       "<title>14&#45;&gt;13</title>\n",
       "<path fill=\"none\" stroke=\"black\" d=\"M372.37,-347.8C394.44,-334.21 425.32,-315.19 448.76,-300.75\"/>\n",
       "<polygon fill=\"black\" stroke=\"black\" points=\"450.66,-303.69 457.34,-295.46 446.99,-297.73 450.66,-303.69\"/>\n",
       "<text text-anchor=\"middle\" x=\"435.44\" y=\"-318.8\" font-family=\"Times,serif\" font-size=\"14.00\">True</text>\n",
       "</g>\n",
       "<!-- 15 -->\n",
       "<g id=\"node16\" class=\"node\">\n",
       "<title>15</title>\n",
       "<path fill=\"yellow\" stroke=\"black\" d=\"M333.44,-471C333.44,-471 233.44,-471 233.44,-471 227.44,-471 221.44,-465 221.44,-459 221.44,-459 221.44,-447 221.44,-447 221.44,-441 227.44,-435 233.44,-435 233.44,-435 333.44,-435 333.44,-435 339.44,-435 345.44,-441 345.44,-447 345.44,-447 345.44,-459 345.44,-459 345.44,-465 339.44,-471 333.44,-471\"/>\n",
       "<text text-anchor=\"middle\" x=\"283.44\" y=\"-449.3\" font-family=\"Times,serif\" font-size=\"14.00\">Petal width &gt; 1.65?</text>\n",
       "</g>\n",
       "<!-- 15&#45;&gt;9 -->\n",
       "<g id=\"edge13\" class=\"edge\">\n",
       "<title>15&#45;&gt;9</title>\n",
       "<path fill=\"none\" stroke=\"black\" d=\"M266.65,-434.8C254.5,-422.36 237.91,-405.36 224.37,-391.5\"/>\n",
       "<polygon fill=\"black\" stroke=\"black\" points=\"226.71,-388.88 217.22,-384.18 221.7,-393.78 226.71,-388.88\"/>\n",
       "<text text-anchor=\"middle\" x=\"261.94\" y=\"-405.8\" font-family=\"Times,serif\" font-size=\"14.00\">False</text>\n",
       "</g>\n",
       "<!-- 15&#45;&gt;14 -->\n",
       "<g id=\"edge14\" class=\"edge\">\n",
       "<title>15&#45;&gt;14</title>\n",
       "<path fill=\"none\" stroke=\"black\" d=\"M295.79,-434.8C304.47,-422.7 316.24,-406.3 326.03,-392.67\"/>\n",
       "<polygon fill=\"black\" stroke=\"black\" points=\"329.13,-394.34 332.12,-384.18 323.44,-390.26 329.13,-394.34\"/>\n",
       "<text text-anchor=\"middle\" x=\"331.44\" y=\"-405.8\" font-family=\"Times,serif\" font-size=\"14.00\">True</text>\n",
       "</g>\n",
       "<!-- 16 -->\n",
       "<g id=\"node17\" class=\"node\">\n",
       "<title>16</title>\n",
       "<path fill=\"yellow\" stroke=\"black\" d=\"M228.94,-558C228.94,-558 135.94,-558 135.94,-558 129.94,-558 123.94,-552 123.94,-546 123.94,-546 123.94,-534 123.94,-534 123.94,-528 129.94,-522 135.94,-522 135.94,-522 228.94,-522 228.94,-522 234.94,-522 240.94,-528 240.94,-534 240.94,-534 240.94,-546 240.94,-546 240.94,-552 234.94,-558 228.94,-558\"/>\n",
       "<text text-anchor=\"middle\" x=\"182.44\" y=\"-536.3\" font-family=\"Times,serif\" font-size=\"14.00\">Petal width &gt; 0.8?</text>\n",
       "</g>\n",
       "<!-- 16&#45;&gt;0 -->\n",
       "<g id=\"edge15\" class=\"edge\">\n",
       "<title>16&#45;&gt;0</title>\n",
       "<path fill=\"none\" stroke=\"black\" d=\"M177.18,-521.8C173.59,-510.05 168.75,-494.24 164.66,-480.84\"/>\n",
       "<polygon fill=\"black\" stroke=\"black\" points=\"167.97,-479.71 161.7,-471.18 161.28,-481.76 167.97,-479.71\"/>\n",
       "<text text-anchor=\"middle\" x=\"185.94\" y=\"-492.8\" font-family=\"Times,serif\" font-size=\"14.00\">False</text>\n",
       "</g>\n",
       "<!-- 16&#45;&gt;15 -->\n",
       "<g id=\"edge16\" class=\"edge\">\n",
       "<title>16&#45;&gt;15</title>\n",
       "<path fill=\"none\" stroke=\"black\" d=\"M202.88,-521.8C217.94,-509.13 238.61,-491.73 255.24,-477.74\"/>\n",
       "<polygon fill=\"black\" stroke=\"black\" points=\"257.64,-480.29 263.04,-471.18 253.13,-474.94 257.64,-480.29\"/>\n",
       "<text text-anchor=\"middle\" x=\"252.44\" y=\"-492.8\" font-family=\"Times,serif\" font-size=\"14.00\">True</text>\n",
       "</g>\n",
       "</g>\n",
       "</svg>\n"
      ],
      "text/plain": [
       "<graphviz.graphs.Digraph at 0x135fab890>"
      ]
     },
     "execution_count": 331,
     "metadata": {},
     "output_type": "execute_result"
    }
   ],
   "source": [
    "cls = TreeClassifier(max_depth=10)\n",
    "cls.fit(X2, Y)\n",
    "cls.draw_tree()"
   ]
  },
  {
   "cell_type": "code",
   "execution_count": 68,
   "id": "bdb15d82-50da-4405-b649-9d738750087e",
   "metadata": {},
   "outputs": [],
   "source": [
    "plot_boundary(cls, X2, Y)"
   ]
  },
  {
   "cell_type": "code",
   "execution_count": 69,
   "id": "64b29d23-de63-49a1-a6eb-1bd8320ce015",
   "metadata": {},
   "outputs": [
    {
     "data": {
      "image/svg+xml": [
       "<?xml version=\"1.0\" encoding=\"UTF-8\" standalone=\"no\"?>\n",
       "<!DOCTYPE svg PUBLIC \"-//W3C//DTD SVG 1.1//EN\"\n",
       " \"http://www.w3.org/Graphics/SVG/1.1/DTD/svg11.dtd\">\n",
       "<!-- Generated by graphviz version 4.0.0 (0)\n",
       " -->\n",
       "<!-- Pages: 1 -->\n",
       "<svg width=\"533pt\" height=\"392pt\"\n",
       " viewBox=\"0.00 0.00 532.89 392.00\" xmlns=\"http://www.w3.org/2000/svg\" xmlns:xlink=\"http://www.w3.org/1999/xlink\">\n",
       "<g id=\"graph0\" class=\"graph\" transform=\"scale(1 1) rotate(0) translate(4 388)\">\n",
       "<polygon fill=\"white\" stroke=\"transparent\" points=\"-4,4 -4,-388 528.89,-388 528.89,4 -4,4\"/>\n",
       "<!-- 0 -->\n",
       "<g id=\"node1\" class=\"node\">\n",
       "<title>0</title>\n",
       "<ellipse fill=\"lightgrey\" stroke=\"black\" cx=\"226.44\" cy=\"-279\" rx=\"46.59\" ry=\"18\"/>\n",
       "<text text-anchor=\"middle\" x=\"226.44\" y=\"-275.3\" font-family=\"Times,serif\" font-size=\"14.00\">Iris&#45;setosa</text>\n",
       "</g>\n",
       "<!-- 1 -->\n",
       "<g id=\"node2\" class=\"node\">\n",
       "<title>1</title>\n",
       "<ellipse fill=\"lightgrey\" stroke=\"black\" cx=\"60.44\" cy=\"-18\" rx=\"60.39\" ry=\"18\"/>\n",
       "<text text-anchor=\"middle\" x=\"60.44\" y=\"-14.3\" font-family=\"Times,serif\" font-size=\"14.00\">Iris&#45;versicolor</text>\n",
       "</g>\n",
       "<!-- 2 -->\n",
       "<g id=\"node3\" class=\"node\">\n",
       "<title>2</title>\n",
       "<ellipse fill=\"lightgrey\" stroke=\"black\" cx=\"195.44\" cy=\"-18\" rx=\"56.59\" ry=\"18\"/>\n",
       "<text text-anchor=\"middle\" x=\"195.44\" y=\"-14.3\" font-family=\"Times,serif\" font-size=\"14.00\">Iris&#45;virginica</text>\n",
       "</g>\n",
       "<!-- 3 -->\n",
       "<g id=\"node4\" class=\"node\">\n",
       "<title>3</title>\n",
       "<path fill=\"yellow\" stroke=\"black\" d=\"M242.44,-123C242.44,-123 142.44,-123 142.44,-123 136.44,-123 130.44,-117 130.44,-111 130.44,-111 130.44,-99 130.44,-99 130.44,-93 136.44,-87 142.44,-87 142.44,-87 242.44,-87 242.44,-87 248.44,-87 254.44,-93 254.44,-99 254.44,-99 254.44,-111 254.44,-111 254.44,-117 248.44,-123 242.44,-123\"/>\n",
       "<text text-anchor=\"middle\" x=\"192.44\" y=\"-101.3\" font-family=\"Times,serif\" font-size=\"14.00\">Petal width &gt; 1.65?</text>\n",
       "</g>\n",
       "<!-- 3&#45;&gt;1 -->\n",
       "<g id=\"edge1\" class=\"edge\">\n",
       "<title>3&#45;&gt;1</title>\n",
       "<path fill=\"none\" stroke=\"black\" d=\"M165.73,-86.8C144.85,-73.35 115.72,-54.59 93.39,-40.21\"/>\n",
       "<polygon fill=\"black\" stroke=\"black\" points=\"95.19,-37.21 84.89,-34.74 91.4,-43.1 95.19,-37.21\"/>\n",
       "<text text-anchor=\"middle\" x=\"148.94\" y=\"-57.8\" font-family=\"Times,serif\" font-size=\"14.00\">False</text>\n",
       "</g>\n",
       "<!-- 3&#45;&gt;2 -->\n",
       "<g id=\"edge2\" class=\"edge\">\n",
       "<title>3&#45;&gt;2</title>\n",
       "<path fill=\"none\" stroke=\"black\" d=\"M193.05,-86.8C193.46,-75.16 194.01,-59.55 194.48,-46.24\"/>\n",
       "<polygon fill=\"black\" stroke=\"black\" points=\"197.98,-46.29 194.84,-36.18 190.99,-46.05 197.98,-46.29\"/>\n",
       "<text text-anchor=\"middle\" x=\"207.44\" y=\"-57.8\" font-family=\"Times,serif\" font-size=\"14.00\">True</text>\n",
       "</g>\n",
       "<!-- 4 -->\n",
       "<g id=\"node5\" class=\"node\">\n",
       "<title>4</title>\n",
       "<ellipse fill=\"lightgrey\" stroke=\"black\" cx=\"329.44\" cy=\"-18\" rx=\"56.59\" ry=\"18\"/>\n",
       "<text text-anchor=\"middle\" x=\"329.44\" y=\"-14.3\" font-family=\"Times,serif\" font-size=\"14.00\">Iris&#45;virginica</text>\n",
       "</g>\n",
       "<!-- 5 -->\n",
       "<g id=\"node6\" class=\"node\">\n",
       "<title>5</title>\n",
       "<ellipse fill=\"lightgrey\" stroke=\"black\" cx=\"464.44\" cy=\"-18\" rx=\"60.39\" ry=\"18\"/>\n",
       "<text text-anchor=\"middle\" x=\"464.44\" y=\"-14.3\" font-family=\"Times,serif\" font-size=\"14.00\">Iris&#45;versicolor</text>\n",
       "</g>\n",
       "<!-- 6 -->\n",
       "<g id=\"node7\" class=\"node\">\n",
       "<title>6</title>\n",
       "<path fill=\"yellow\" stroke=\"black\" d=\"M384.44,-123C384.44,-123 284.44,-123 284.44,-123 278.44,-123 272.44,-117 272.44,-111 272.44,-111 272.44,-99 272.44,-99 272.44,-93 278.44,-87 284.44,-87 284.44,-87 384.44,-87 384.44,-87 390.44,-87 396.44,-93 396.44,-99 396.44,-99 396.44,-111 396.44,-111 396.44,-117 390.44,-123 384.44,-123\"/>\n",
       "<text text-anchor=\"middle\" x=\"334.44\" y=\"-101.3\" font-family=\"Times,serif\" font-size=\"14.00\">Petal width &gt; 1.55?</text>\n",
       "</g>\n",
       "<!-- 6&#45;&gt;4 -->\n",
       "<g id=\"edge3\" class=\"edge\">\n",
       "<title>6&#45;&gt;4</title>\n",
       "<path fill=\"none\" stroke=\"black\" d=\"M333.43,-86.8C332.75,-75.16 331.83,-59.55 331.05,-46.24\"/>\n",
       "<polygon fill=\"black\" stroke=\"black\" points=\"334.54,-45.95 330.45,-36.18 327.55,-46.36 334.54,-45.95\"/>\n",
       "<text text-anchor=\"middle\" x=\"346.94\" y=\"-57.8\" font-family=\"Times,serif\" font-size=\"14.00\">False</text>\n",
       "</g>\n",
       "<!-- 6&#45;&gt;5 -->\n",
       "<g id=\"edge4\" class=\"edge\">\n",
       "<title>6&#45;&gt;5</title>\n",
       "<path fill=\"none\" stroke=\"black\" d=\"M360.75,-86.8C381.23,-73.41 409.76,-54.76 431.71,-40.4\"/>\n",
       "<polygon fill=\"black\" stroke=\"black\" points=\"433.91,-43.14 440.37,-34.74 430.08,-37.29 433.91,-43.14\"/>\n",
       "<text text-anchor=\"middle\" x=\"420.44\" y=\"-57.8\" font-family=\"Times,serif\" font-size=\"14.00\">True</text>\n",
       "</g>\n",
       "<!-- 7 -->\n",
       "<g id=\"node8\" class=\"node\">\n",
       "<title>7</title>\n",
       "<path fill=\"yellow\" stroke=\"black\" d=\"M314.94,-210C314.94,-210 211.94,-210 211.94,-210 205.94,-210 199.94,-204 199.94,-198 199.94,-198 199.94,-186 199.94,-186 199.94,-180 205.94,-174 211.94,-174 211.94,-174 314.94,-174 314.94,-174 320.94,-174 326.94,-180 326.94,-186 326.94,-186 326.94,-198 326.94,-198 326.94,-204 320.94,-210 314.94,-210\"/>\n",
       "<text text-anchor=\"middle\" x=\"263.44\" y=\"-188.3\" font-family=\"Times,serif\" font-size=\"14.00\">Petal length &gt; 4.95?</text>\n",
       "</g>\n",
       "<!-- 7&#45;&gt;3 -->\n",
       "<g id=\"edge5\" class=\"edge\">\n",
       "<title>7&#45;&gt;3</title>\n",
       "<path fill=\"none\" stroke=\"black\" d=\"M249.08,-173.8C238.78,-161.47 224.75,-144.68 213.24,-130.89\"/>\n",
       "<polygon fill=\"black\" stroke=\"black\" points=\"215.89,-128.61 206.79,-123.18 210.52,-133.09 215.89,-128.61\"/>\n",
       "<text text-anchor=\"middle\" x=\"246.94\" y=\"-144.8\" font-family=\"Times,serif\" font-size=\"14.00\">False</text>\n",
       "</g>\n",
       "<!-- 7&#45;&gt;6 -->\n",
       "<g id=\"edge6\" class=\"edge\">\n",
       "<title>7&#45;&gt;6</title>\n",
       "<path fill=\"none\" stroke=\"black\" d=\"M277.81,-173.8C288.11,-161.47 302.14,-144.68 313.65,-130.89\"/>\n",
       "<polygon fill=\"black\" stroke=\"black\" points=\"316.37,-133.09 320.1,-123.18 311,-128.61 316.37,-133.09\"/>\n",
       "<text text-anchor=\"middle\" x=\"316.44\" y=\"-144.8\" font-family=\"Times,serif\" font-size=\"14.00\">True</text>\n",
       "</g>\n",
       "<!-- 8 -->\n",
       "<g id=\"node9\" class=\"node\">\n",
       "<title>8</title>\n",
       "<ellipse fill=\"lightgrey\" stroke=\"black\" cx=\"401.44\" cy=\"-192\" rx=\"56.59\" ry=\"18\"/>\n",
       "<text text-anchor=\"middle\" x=\"401.44\" y=\"-188.3\" font-family=\"Times,serif\" font-size=\"14.00\">Iris&#45;virginica</text>\n",
       "</g>\n",
       "<!-- 9 -->\n",
       "<g id=\"node10\" class=\"node\">\n",
       "<title>9</title>\n",
       "<path fill=\"yellow\" stroke=\"black\" d=\"M403.44,-297C403.44,-297 303.44,-297 303.44,-297 297.44,-297 291.44,-291 291.44,-285 291.44,-285 291.44,-273 291.44,-273 291.44,-267 297.44,-261 303.44,-261 303.44,-261 403.44,-261 403.44,-261 409.44,-261 415.44,-267 415.44,-273 415.44,-273 415.44,-285 415.44,-285 415.44,-291 409.44,-297 403.44,-297\"/>\n",
       "<text text-anchor=\"middle\" x=\"353.44\" y=\"-275.3\" font-family=\"Times,serif\" font-size=\"14.00\">Petal width &gt; 1.75?</text>\n",
       "</g>\n",
       "<!-- 9&#45;&gt;7 -->\n",
       "<g id=\"edge7\" class=\"edge\">\n",
       "<title>9&#45;&gt;7</title>\n",
       "<path fill=\"none\" stroke=\"black\" d=\"M335.23,-260.8C321.93,-248.24 303.73,-231.05 288.98,-217.12\"/>\n",
       "<polygon fill=\"black\" stroke=\"black\" points=\"291.3,-214.5 281.63,-210.18 286.5,-219.59 291.3,-214.5\"/>\n",
       "<text text-anchor=\"middle\" x=\"328.94\" y=\"-231.8\" font-family=\"Times,serif\" font-size=\"14.00\">False</text>\n",
       "</g>\n",
       "<!-- 9&#45;&gt;8 -->\n",
       "<g id=\"edge8\" class=\"edge\">\n",
       "<title>9&#45;&gt;8</title>\n",
       "<path fill=\"none\" stroke=\"black\" d=\"M363.16,-260.8C369.97,-248.74 379.19,-232.4 386.88,-218.79\"/>\n",
       "<polygon fill=\"black\" stroke=\"black\" points=\"390.04,-220.31 391.91,-209.89 383.94,-216.87 390.04,-220.31\"/>\n",
       "<text text-anchor=\"middle\" x=\"393.44\" y=\"-231.8\" font-family=\"Times,serif\" font-size=\"14.00\">True</text>\n",
       "</g>\n",
       "<!-- 10 -->\n",
       "<g id=\"node11\" class=\"node\">\n",
       "<title>10</title>\n",
       "<path fill=\"yellow\" stroke=\"black\" d=\"M298.94,-384C298.94,-384 205.94,-384 205.94,-384 199.94,-384 193.94,-378 193.94,-372 193.94,-372 193.94,-360 193.94,-360 193.94,-354 199.94,-348 205.94,-348 205.94,-348 298.94,-348 298.94,-348 304.94,-348 310.94,-354 310.94,-360 310.94,-360 310.94,-372 310.94,-372 310.94,-378 304.94,-384 298.94,-384\"/>\n",
       "<text text-anchor=\"middle\" x=\"252.44\" y=\"-362.3\" font-family=\"Times,serif\" font-size=\"14.00\">Petal width &gt; 0.8?</text>\n",
       "</g>\n",
       "<!-- 10&#45;&gt;0 -->\n",
       "<g id=\"edge9\" class=\"edge\">\n",
       "<title>10&#45;&gt;0</title>\n",
       "<path fill=\"none\" stroke=\"black\" d=\"M247.18,-347.8C243.59,-336.05 238.75,-320.24 234.66,-306.84\"/>\n",
       "<polygon fill=\"black\" stroke=\"black\" points=\"237.97,-305.71 231.7,-297.18 231.28,-307.76 237.97,-305.71\"/>\n",
       "<text text-anchor=\"middle\" x=\"255.94\" y=\"-318.8\" font-family=\"Times,serif\" font-size=\"14.00\">False</text>\n",
       "</g>\n",
       "<!-- 10&#45;&gt;9 -->\n",
       "<g id=\"edge10\" class=\"edge\">\n",
       "<title>10&#45;&gt;9</title>\n",
       "<path fill=\"none\" stroke=\"black\" d=\"M272.88,-347.8C287.94,-335.13 308.61,-317.73 325.24,-303.74\"/>\n",
       "<polygon fill=\"black\" stroke=\"black\" points=\"327.64,-306.29 333.04,-297.18 323.13,-300.94 327.64,-306.29\"/>\n",
       "<text text-anchor=\"middle\" x=\"322.44\" y=\"-318.8\" font-family=\"Times,serif\" font-size=\"14.00\">True</text>\n",
       "</g>\n",
       "</g>\n",
       "</svg>\n"
      ],
      "text/plain": [
       "<graphviz.graphs.Digraph at 0x130654650>"
      ]
     },
     "execution_count": 69,
     "metadata": {},
     "output_type": "execute_result"
    }
   ],
   "source": [
    "cls = TreeClassifier(max_depth=4, criterion='gini')\n",
    "cls.fit(X2, Y)\n",
    "cls.draw_tree()"
   ]
  },
  {
   "cell_type": "code",
   "execution_count": 70,
   "id": "1331a50d-891b-476b-a3c6-fb5b00150fe2",
   "metadata": {},
   "outputs": [],
   "source": [
    "plot_boundary(cls, X2, Y)"
   ]
  },
  {
   "cell_type": "code",
   "execution_count": 358,
   "id": "529b6b8f-8ed4-4c46-8321-cc45dead4be5",
   "metadata": {},
   "outputs": [
    {
     "data": {
      "image/svg+xml": [
       "<?xml version=\"1.0\" encoding=\"UTF-8\" standalone=\"no\"?>\n",
       "<!DOCTYPE svg PUBLIC \"-//W3C//DTD SVG 1.1//EN\"\n",
       " \"http://www.w3.org/Graphics/SVG/1.1/DTD/svg11.dtd\">\n",
       "<!-- Generated by graphviz version 4.0.0 (0)\n",
       " -->\n",
       "<!-- Pages: 1 -->\n",
       "<svg width=\"533pt\" height=\"392pt\"\n",
       " viewBox=\"0.00 0.00 532.89 392.00\" xmlns=\"http://www.w3.org/2000/svg\" xmlns:xlink=\"http://www.w3.org/1999/xlink\">\n",
       "<g id=\"graph0\" class=\"graph\" transform=\"scale(1 1) rotate(0) translate(4 388)\">\n",
       "<polygon fill=\"white\" stroke=\"transparent\" points=\"-4,4 -4,-388 528.89,-388 528.89,4 -4,4\"/>\n",
       "<!-- 0 -->\n",
       "<g id=\"node1\" class=\"node\">\n",
       "<title>0</title>\n",
       "<ellipse fill=\"lightgrey\" stroke=\"black\" cx=\"226.44\" cy=\"-279\" rx=\"46.59\" ry=\"18\"/>\n",
       "<text text-anchor=\"middle\" x=\"226.44\" y=\"-275.3\" font-family=\"Times,serif\" font-size=\"14.00\">Iris&#45;setosa</text>\n",
       "</g>\n",
       "<!-- 1 -->\n",
       "<g id=\"node2\" class=\"node\">\n",
       "<title>1</title>\n",
       "<ellipse fill=\"lightgrey\" stroke=\"black\" cx=\"60.44\" cy=\"-18\" rx=\"60.39\" ry=\"18\"/>\n",
       "<text text-anchor=\"middle\" x=\"60.44\" y=\"-14.3\" font-family=\"Times,serif\" font-size=\"14.00\">Iris&#45;versicolor</text>\n",
       "</g>\n",
       "<!-- 2 -->\n",
       "<g id=\"node3\" class=\"node\">\n",
       "<title>2</title>\n",
       "<ellipse fill=\"lightgrey\" stroke=\"black\" cx=\"195.44\" cy=\"-18\" rx=\"56.59\" ry=\"18\"/>\n",
       "<text text-anchor=\"middle\" x=\"195.44\" y=\"-14.3\" font-family=\"Times,serif\" font-size=\"14.00\">Iris&#45;virginica</text>\n",
       "</g>\n",
       "<!-- 3 -->\n",
       "<g id=\"node4\" class=\"node\">\n",
       "<title>3</title>\n",
       "<path fill=\"yellow\" stroke=\"black\" d=\"M242.44,-123C242.44,-123 142.44,-123 142.44,-123 136.44,-123 130.44,-117 130.44,-111 130.44,-111 130.44,-99 130.44,-99 130.44,-93 136.44,-87 142.44,-87 142.44,-87 242.44,-87 242.44,-87 248.44,-87 254.44,-93 254.44,-99 254.44,-99 254.44,-111 254.44,-111 254.44,-117 248.44,-123 242.44,-123\"/>\n",
       "<text text-anchor=\"middle\" x=\"192.44\" y=\"-101.3\" font-family=\"Times,serif\" font-size=\"14.00\">Petal width &gt; 1.65?</text>\n",
       "</g>\n",
       "<!-- 3&#45;&gt;1 -->\n",
       "<g id=\"edge1\" class=\"edge\">\n",
       "<title>3&#45;&gt;1</title>\n",
       "<path fill=\"none\" stroke=\"black\" d=\"M165.73,-86.8C144.85,-73.35 115.72,-54.59 93.39,-40.21\"/>\n",
       "<polygon fill=\"black\" stroke=\"black\" points=\"95.19,-37.21 84.89,-34.74 91.4,-43.1 95.19,-37.21\"/>\n",
       "<text text-anchor=\"middle\" x=\"148.94\" y=\"-57.8\" font-family=\"Times,serif\" font-size=\"14.00\">False</text>\n",
       "</g>\n",
       "<!-- 3&#45;&gt;2 -->\n",
       "<g id=\"edge2\" class=\"edge\">\n",
       "<title>3&#45;&gt;2</title>\n",
       "<path fill=\"none\" stroke=\"black\" d=\"M193.05,-86.8C193.46,-75.16 194.01,-59.55 194.48,-46.24\"/>\n",
       "<polygon fill=\"black\" stroke=\"black\" points=\"197.98,-46.29 194.84,-36.18 190.99,-46.05 197.98,-46.29\"/>\n",
       "<text text-anchor=\"middle\" x=\"207.44\" y=\"-57.8\" font-family=\"Times,serif\" font-size=\"14.00\">True</text>\n",
       "</g>\n",
       "<!-- 4 -->\n",
       "<g id=\"node5\" class=\"node\">\n",
       "<title>4</title>\n",
       "<ellipse fill=\"lightgrey\" stroke=\"black\" cx=\"329.44\" cy=\"-18\" rx=\"56.59\" ry=\"18\"/>\n",
       "<text text-anchor=\"middle\" x=\"329.44\" y=\"-14.3\" font-family=\"Times,serif\" font-size=\"14.00\">Iris&#45;virginica</text>\n",
       "</g>\n",
       "<!-- 5 -->\n",
       "<g id=\"node6\" class=\"node\">\n",
       "<title>5</title>\n",
       "<ellipse fill=\"lightgrey\" stroke=\"black\" cx=\"464.44\" cy=\"-18\" rx=\"60.39\" ry=\"18\"/>\n",
       "<text text-anchor=\"middle\" x=\"464.44\" y=\"-14.3\" font-family=\"Times,serif\" font-size=\"14.00\">Iris&#45;versicolor</text>\n",
       "</g>\n",
       "<!-- 6 -->\n",
       "<g id=\"node7\" class=\"node\">\n",
       "<title>6</title>\n",
       "<path fill=\"yellow\" stroke=\"black\" d=\"M384.44,-123C384.44,-123 284.44,-123 284.44,-123 278.44,-123 272.44,-117 272.44,-111 272.44,-111 272.44,-99 272.44,-99 272.44,-93 278.44,-87 284.44,-87 284.44,-87 384.44,-87 384.44,-87 390.44,-87 396.44,-93 396.44,-99 396.44,-99 396.44,-111 396.44,-111 396.44,-117 390.44,-123 384.44,-123\"/>\n",
       "<text text-anchor=\"middle\" x=\"334.44\" y=\"-101.3\" font-family=\"Times,serif\" font-size=\"14.00\">Petal width &gt; 1.55?</text>\n",
       "</g>\n",
       "<!-- 6&#45;&gt;4 -->\n",
       "<g id=\"edge3\" class=\"edge\">\n",
       "<title>6&#45;&gt;4</title>\n",
       "<path fill=\"none\" stroke=\"black\" d=\"M333.43,-86.8C332.75,-75.16 331.83,-59.55 331.05,-46.24\"/>\n",
       "<polygon fill=\"black\" stroke=\"black\" points=\"334.54,-45.95 330.45,-36.18 327.55,-46.36 334.54,-45.95\"/>\n",
       "<text text-anchor=\"middle\" x=\"346.94\" y=\"-57.8\" font-family=\"Times,serif\" font-size=\"14.00\">False</text>\n",
       "</g>\n",
       "<!-- 6&#45;&gt;5 -->\n",
       "<g id=\"edge4\" class=\"edge\">\n",
       "<title>6&#45;&gt;5</title>\n",
       "<path fill=\"none\" stroke=\"black\" d=\"M360.75,-86.8C381.23,-73.41 409.76,-54.76 431.71,-40.4\"/>\n",
       "<polygon fill=\"black\" stroke=\"black\" points=\"433.91,-43.14 440.37,-34.74 430.08,-37.29 433.91,-43.14\"/>\n",
       "<text text-anchor=\"middle\" x=\"420.44\" y=\"-57.8\" font-family=\"Times,serif\" font-size=\"14.00\">True</text>\n",
       "</g>\n",
       "<!-- 7 -->\n",
       "<g id=\"node8\" class=\"node\">\n",
       "<title>7</title>\n",
       "<path fill=\"yellow\" stroke=\"black\" d=\"M314.94,-210C314.94,-210 211.94,-210 211.94,-210 205.94,-210 199.94,-204 199.94,-198 199.94,-198 199.94,-186 199.94,-186 199.94,-180 205.94,-174 211.94,-174 211.94,-174 314.94,-174 314.94,-174 320.94,-174 326.94,-180 326.94,-186 326.94,-186 326.94,-198 326.94,-198 326.94,-204 320.94,-210 314.94,-210\"/>\n",
       "<text text-anchor=\"middle\" x=\"263.44\" y=\"-188.3\" font-family=\"Times,serif\" font-size=\"14.00\">Petal length &gt; 4.95?</text>\n",
       "</g>\n",
       "<!-- 7&#45;&gt;3 -->\n",
       "<g id=\"edge5\" class=\"edge\">\n",
       "<title>7&#45;&gt;3</title>\n",
       "<path fill=\"none\" stroke=\"black\" d=\"M249.08,-173.8C238.78,-161.47 224.75,-144.68 213.24,-130.89\"/>\n",
       "<polygon fill=\"black\" stroke=\"black\" points=\"215.89,-128.61 206.79,-123.18 210.52,-133.09 215.89,-128.61\"/>\n",
       "<text text-anchor=\"middle\" x=\"246.94\" y=\"-144.8\" font-family=\"Times,serif\" font-size=\"14.00\">False</text>\n",
       "</g>\n",
       "<!-- 7&#45;&gt;6 -->\n",
       "<g id=\"edge6\" class=\"edge\">\n",
       "<title>7&#45;&gt;6</title>\n",
       "<path fill=\"none\" stroke=\"black\" d=\"M277.81,-173.8C288.11,-161.47 302.14,-144.68 313.65,-130.89\"/>\n",
       "<polygon fill=\"black\" stroke=\"black\" points=\"316.37,-133.09 320.1,-123.18 311,-128.61 316.37,-133.09\"/>\n",
       "<text text-anchor=\"middle\" x=\"316.44\" y=\"-144.8\" font-family=\"Times,serif\" font-size=\"14.00\">True</text>\n",
       "</g>\n",
       "<!-- 8 -->\n",
       "<g id=\"node9\" class=\"node\">\n",
       "<title>8</title>\n",
       "<ellipse fill=\"lightgrey\" stroke=\"black\" cx=\"401.44\" cy=\"-192\" rx=\"56.59\" ry=\"18\"/>\n",
       "<text text-anchor=\"middle\" x=\"401.44\" y=\"-188.3\" font-family=\"Times,serif\" font-size=\"14.00\">Iris&#45;virginica</text>\n",
       "</g>\n",
       "<!-- 9 -->\n",
       "<g id=\"node10\" class=\"node\">\n",
       "<title>9</title>\n",
       "<path fill=\"yellow\" stroke=\"black\" d=\"M403.44,-297C403.44,-297 303.44,-297 303.44,-297 297.44,-297 291.44,-291 291.44,-285 291.44,-285 291.44,-273 291.44,-273 291.44,-267 297.44,-261 303.44,-261 303.44,-261 403.44,-261 403.44,-261 409.44,-261 415.44,-267 415.44,-273 415.44,-273 415.44,-285 415.44,-285 415.44,-291 409.44,-297 403.44,-297\"/>\n",
       "<text text-anchor=\"middle\" x=\"353.44\" y=\"-275.3\" font-family=\"Times,serif\" font-size=\"14.00\">Petal width &gt; 1.75?</text>\n",
       "</g>\n",
       "<!-- 9&#45;&gt;7 -->\n",
       "<g id=\"edge7\" class=\"edge\">\n",
       "<title>9&#45;&gt;7</title>\n",
       "<path fill=\"none\" stroke=\"black\" d=\"M335.23,-260.8C321.93,-248.24 303.73,-231.05 288.98,-217.12\"/>\n",
       "<polygon fill=\"black\" stroke=\"black\" points=\"291.3,-214.5 281.63,-210.18 286.5,-219.59 291.3,-214.5\"/>\n",
       "<text text-anchor=\"middle\" x=\"328.94\" y=\"-231.8\" font-family=\"Times,serif\" font-size=\"14.00\">False</text>\n",
       "</g>\n",
       "<!-- 9&#45;&gt;8 -->\n",
       "<g id=\"edge8\" class=\"edge\">\n",
       "<title>9&#45;&gt;8</title>\n",
       "<path fill=\"none\" stroke=\"black\" d=\"M363.16,-260.8C369.97,-248.74 379.19,-232.4 386.88,-218.79\"/>\n",
       "<polygon fill=\"black\" stroke=\"black\" points=\"390.04,-220.31 391.91,-209.89 383.94,-216.87 390.04,-220.31\"/>\n",
       "<text text-anchor=\"middle\" x=\"393.44\" y=\"-231.8\" font-family=\"Times,serif\" font-size=\"14.00\">True</text>\n",
       "</g>\n",
       "<!-- 10 -->\n",
       "<g id=\"node11\" class=\"node\">\n",
       "<title>10</title>\n",
       "<path fill=\"yellow\" stroke=\"black\" d=\"M298.94,-384C298.94,-384 205.94,-384 205.94,-384 199.94,-384 193.94,-378 193.94,-372 193.94,-372 193.94,-360 193.94,-360 193.94,-354 199.94,-348 205.94,-348 205.94,-348 298.94,-348 298.94,-348 304.94,-348 310.94,-354 310.94,-360 310.94,-360 310.94,-372 310.94,-372 310.94,-378 304.94,-384 298.94,-384\"/>\n",
       "<text text-anchor=\"middle\" x=\"252.44\" y=\"-362.3\" font-family=\"Times,serif\" font-size=\"14.00\">Petal width &gt; 0.8?</text>\n",
       "</g>\n",
       "<!-- 10&#45;&gt;0 -->\n",
       "<g id=\"edge9\" class=\"edge\">\n",
       "<title>10&#45;&gt;0</title>\n",
       "<path fill=\"none\" stroke=\"black\" d=\"M247.18,-347.8C243.59,-336.05 238.75,-320.24 234.66,-306.84\"/>\n",
       "<polygon fill=\"black\" stroke=\"black\" points=\"237.97,-305.71 231.7,-297.18 231.28,-307.76 237.97,-305.71\"/>\n",
       "<text text-anchor=\"middle\" x=\"255.94\" y=\"-318.8\" font-family=\"Times,serif\" font-size=\"14.00\">False</text>\n",
       "</g>\n",
       "<!-- 10&#45;&gt;9 -->\n",
       "<g id=\"edge10\" class=\"edge\">\n",
       "<title>10&#45;&gt;9</title>\n",
       "<path fill=\"none\" stroke=\"black\" d=\"M272.88,-347.8C287.94,-335.13 308.61,-317.73 325.24,-303.74\"/>\n",
       "<polygon fill=\"black\" stroke=\"black\" points=\"327.64,-306.29 333.04,-297.18 323.13,-300.94 327.64,-306.29\"/>\n",
       "<text text-anchor=\"middle\" x=\"322.44\" y=\"-318.8\" font-family=\"Times,serif\" font-size=\"14.00\">True</text>\n",
       "</g>\n",
       "</g>\n",
       "</svg>\n"
      ],
      "text/plain": [
       "<graphviz.graphs.Digraph at 0x1364a0a70>"
      ]
     },
     "execution_count": 358,
     "metadata": {},
     "output_type": "execute_result"
    }
   ],
   "source": [
    "cls = TreeClassifier(max_depth=4, criterion='gini')\n",
    "cls.fit(X2, Y)\n",
    "cls.draw_tree()"
   ]
  },
  {
   "cell_type": "markdown",
   "id": "78bbffb3",
   "metadata": {},
   "source": [
    "# Task 3"
   ]
  },
  {
   "cell_type": "code",
   "execution_count": null,
   "id": "7f0f7122",
   "metadata": {},
   "outputs": [],
   "source": [
    "import pandas as pd\n",
    "import numpy as np\n",
    "from sklearn.model_selection import train_test_split\n",
    "from sklearn.model_selection import cross_validate\n",
    "from sklearn.metrics import mean_squared_error\n",
    "\n",
    "# Import relevant models\n",
    "from sklearn.linear_model import Ridge\n",
    "from sklearn.linear_model import LinearRegression\n",
    "from sklearn.linear_model import Lasso\n",
    "\n",
    "from sklearn.tree import DecisionTreeRegressor\n",
    "from sklearn.ensemble import RandomForestRegressor\n",
    "from sklearn.ensemble import GradientBoostingRegressor\n",
    "\n",
    "from sklearn.neural_network import MLPRegressor\n",
    "\n",
    "# Read the Excel file using Pandas.\n",
    "alldata = pd.read_excel('Hemnet_data.xlsx')\n",
    "\n",
    "# # Convert the timestamp string to an integer representing the year.\n",
    "alldata['year'] = pd.DatetimeIndex(alldata['Sold Date']).year\n",
    "\n",
    "# Convert 'yes' to 1 and 'no' to 0\n",
    "alldata['Balcony'] = alldata['Balcony'].map({'Yes': 1, 'No': 0})\n",
    "alldata['Patio'] = alldata['Patio'].map({'Yes': 1, 'No': 0})\n",
    "alldata['Lift'] = alldata['Lift'].map({'Yes': 1, 'No': 0})\n",
    "# Clean Column\n",
    "alldata['Fee (kr/month)'] = (\n",
    "    alldata['Final Price (kr)']\n",
    "    .astype(str)  \n",
    "    .str.replace('kr', '', regex=False)  \n",
    "    .str.strip()  \n",
    "    .astype(float) \n",
    ")\n",
    "alldata['Fee (kr/month)'].to_csv('./final_price_column.csv', index=False)\n",
    "\n",
    "# Select the 12 input columns and the output column.\n",
    "selected_columns = ['Final Price (kr)', 'year',  'Num of Room', 'Living Area (m²)', 'Balcony', 'Patio','Current Floor', 'Total Floor', 'Lift', 'Built Year', 'Fee (kr/month)', 'Operating Fee (kr/year)']\n",
    "alldata = alldata[selected_columns]\n",
    "alldata = alldata.dropna()\n",
    "\n",
    "# Shuffle.\n",
    "alldata_shuffled = alldata.sample(frac=1.0, random_state=0)\n",
    "\n",
    "# Separate the input and output columns.\n",
    "X = alldata_shuffled.drop('Final Price (kr)', axis=1)\n",
    "# For the output, we'll use the log of the sales price.\n",
    "Y = alldata_shuffled['Final Price (kr)'].apply(np.log)\n",
    "\n",
    "# Split into training and test sets.\n",
    "Xtrain, Xtest, Ytrain, Ytest = train_test_split(X, Y, test_size=0.2, random_state=0)\n",
    "\n",
    "# Models\n",
    "linearRegression = LinearRegression()\n",
    "ridge = Ridge()\n",
    "lasso = Lasso()\n",
    "decisionTreeRgressor = DecisionTreeRegressor()\n",
    "gradientBoostingClassifier = GradientBoostingRegressor()\n",
    "mlp = MLPRegressor()\n",
    "\n",
    "print('5-Fold Cross Validation')\n",
    "print(f'Linear Regression: {cross_validate(linearRegression, Xtrain, Ytrain, scoring='neg_mean_squared_error')['test_score']}')\n",
    "print(f'Ridge: {cross_validate(ridge, Xtrain, Ytrain, scoring='neg_mean_squared_error')['test_score']}')\n",
    "print(f'Lasso {cross_validate(lasso, Xtrain, Ytrain, scoring='neg_mean_squared_error')['test_score']}')\n",
    "print(f'Decision Tree {cross_validate(decisionTreeRgressor, Xtrain, Ytrain, scoring='neg_mean_squared_error')['test_score']}')\n",
    "print(f'Gradient Boosting {cross_validate(gradientBoostingClassifier, Xtrain, Ytrain, scoring='neg_mean_squared_error')['test_score']}')\n",
    "print(f'MLP {cross_validate(mlp, Xtrain, Ytrain, scoring='neg_mean_squared_error')['test_score']}')\n",
    "\n",
    "print('MSE for Regression Models')\n",
    "\n",
    "print('Linear Regression')\n",
    "linearRegression.fit(Xtrain, Ytrain)\n",
    "print(mean_squared_error(Ytest, linearRegression.predict(Xtest)))\n",
    "\n",
    "print('Ridge')\n",
    "ridge.fit(Xtrain, Ytrain)\n",
    "print(mean_squared_error(Ytest, ridge.predict(Xtest)))\n",
    "\n",
    "print('Lasso')\n",
    "lasso.fit(Xtrain, Ytrain)\n",
    "print(mean_squared_error(Ytest, lasso.predict(Xtest)))\n",
    "\n",
    "print('Decision Tree')\n",
    "decisionTreeRgressor.fit(Xtrain, Ytrain)\n",
    "print(mean_squared_error(Ytest, decisionTreeRgressor.predict(Xtest)))\n",
    "\n",
    "print('Gradient Boosting Classifier')\n",
    "gradientBoostingClassifier.fit(Xtrain, Ytrain)\n",
    "print(mean_squared_error(Ytest, gradientBoostingClassifier.predict(Xtest)))\n",
    "\n",
    "print('MLP')\n",
    "mlp.fit(Xtrain, Ytrain)\n",
    "print(mean_squared_error(Ytest, mlp.predict(Xtest)))\n"
   ]
  },
  {
   "cell_type": "markdown",
   "id": "38c49c7e",
   "metadata": {},
   "source": [
    "### Results\n",
    "Run 1:\n",
    "\n",
    "5-Fold Cross Validation\n",
    "- Linear Regression: [-0.07854351 -0.06006543 -0.07492232 -0.06280281 -0.07509102]\n",
    "- Ridge: [-0.07854469 -0.0600635  -0.07492285 -0.06280242 -0.0750914 ]\n",
    "- Lasso [-0.08409152 -0.06190229 -0.0799251  -0.06720945 -0.08054167]\n",
    "- Decision Tree [-1.81486835e-04 -1.46312474e-04 -2.43070509e-05 -7.01383712e-05\n",
    " -8.45934222e-05]\n",
    "- Gradient Boosting [-4.59507380e-05 -3.94805451e-05 -3.54173055e-05 -8.27320878e-05\n",
    " -4.95464021e-05]\n",
    "- MLP [-415.07565811   -4.95307078  -94.28933058 -112.13051608  -38.54905363]\n",
    "\n",
    "\n",
    "MSE for Regression Models\n",
    "- Linear Regression: 0.06884297809701564\n",
    "- Ridge: 0.06884352867059457\n",
    "- Lasso: 0.07547348781843327\n",
    "- Decision Tree: 6.847109735157898e-06\n",
    "- Gradient Boosting Classifier: 3.155883171355634e-05\n",
    "- MLP: 4371.746248558722\n",
    "\n",
    "Run 2:\n",
    "5-Fold Cross Validation\n",
    "- Linear Regression: [-0.07854351 -0.06006543 -0.07492232 -0.06280281 -0.07509102]\n",
    "- Ridge: [-0.07854469 -0.0600635  -0.07492285 -0.06280242 -0.0750914 ]\n",
    "- Lasso [-0.08409152 -0.06190229 -0.0799251  -0.06720945 -0.08054167]\n",
    "- Decision Tree [-8.68694291e-05 -1.26307179e-04 -9.15327793e-05 -6.51933493e-05\n",
    " -1.50011206e-05]\n",
    "- Gradient Boosting [-4.63887891e-05 -3.94818894e-05 -3.57542003e-05 -8.28959716e-05\n",
    " -4.96918340e-05]\n",
    "- MLP [-2.80317510e+05 -6.20273883e+01 -6.34703255e+02 -1.31258826e+03\n",
    " -6.22572603e+00]\n",
    "\n",
    "\n",
    "MSE for Regression Models\n",
    "\n",
    "- Linear Regression: 0.06884297809701564\n",
    "- Ridge: 0.06884352867059457\n",
    "- Lasso: 0.07547348781843327\n",
    "- Decision Tree: 6.878280671305357e-06\n",
    "- Gradient Boosting Classifier: 3.159878132573542e-05\n",
    "- MLP: 13.723043301262624\n",
    "\n",
    "Run 3:\n",
    "5-Fold Cross Validation\n",
    "- Linear Regression: [-0.07854351 -0.06006543 -0.07492232 -0.06280281 -0.07509102]\n",
    "- Ridge: [-0.07854469 -0.0600635  -0.07492285 -0.06280242 -0.0750914]\n",
    "- Lasso [-0.08409152 -0.06190229 -0.0799251  -0.06720945 -0.08054167]\n",
    "- Decision Tree [-8.21076669e-05 -6.19484506e-05 -2.15725473e-05 -6.66576169e-05\n",
    " -5.67054907e-05]\n",
    "- Gradient Boosting [-4.47239592e-05 -3.94818435e-05 -3.61344151e-05 -8.27221224e-05\n",
    " -4.96676609e-05]\n",
    "- MLP [-9.98230129e+01 -3.70764517e+01 -1.83239100e+03 -4.94933871e+00\n",
    " -1.47909053e+04]\n",
    "\n",
    "MSE for Regression Models\n",
    "\n",
    "- Linear Regression: 0.06884297809701564\n",
    "- Ridge: 0.06884352867059457\n",
    "- Lasso: 0.07547348781843327\n",
    "- Decision Tree: 8.435409154862014e-06\n",
    "- Gradient Boosting Classifier: 3.163806646795417e-05\n",
    "- MLP: 41.320585456877836"
   ]
  },
  {
   "cell_type": "markdown",
   "id": "83130b00",
   "metadata": {},
   "source": [
    "### Analysis\n",
    "We can see that Linear Regression, Ridge and Lasso methods are deterministic and provide the same output values for each run. From our cross validation and MSE, we can see that these functions are relatively close in their performance. \n",
    "\n",
    "The other models appear to not be deterministic. This is interesting because Decision Tree Regression is a determinstic algorithm, but there are several factors which could lead to different values on different runs (tie-breaking etc.) Decision Tree yields the best result, followed by Gradient Boosting, and in last place by a wide margin we have the Multi-Layer Perceptron. This is interesting since the MLP appears to be one the more sophisticated models but at least with the default parameters it is one of the worst performing. "
   ]
  }
 ],
 "metadata": {
  "kernelspec": {
   "display_name": "Python [conda env:base] *",
   "language": "python",
   "name": "conda-base-py"
  },
  "language_info": {
   "codemirror_mode": {
    "name": "ipython",
    "version": 3
   },
   "file_extension": ".py",
   "mimetype": "text/x-python",
   "name": "python",
   "nbconvert_exporter": "python",
   "pygments_lexer": "ipython3",
   "version": "3.12.7"
  },
  "panel-cell-order": [
   "f8ac532c-d921-405f-9e13-c5eb45dabe66",
   "e05168c7-9446-4922-b317-1d3e75feb536",
   "afa83b99-1000-4238-b800-5c6428f8204e",
   "14f1057f-aea9-4677-907d-dd52bf2791c6",
   "f828de2e-62f6-4a24-8b57-e52f871f3776",
   "e29e961e-2a9a-4be6-9b0d-623bcccbb893",
   "2dcb6c89-94b5-4882-af5b-818f1d79fa5e",
   "50d38e35-a503-412c-a540-1271de5ede63",
   "4f717208-5c6e-4e9b-ae71-75878eb707d6"
  ]
 },
 "nbformat": 4,
 "nbformat_minor": 5
}
