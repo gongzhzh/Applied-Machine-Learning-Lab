{
 "cells": [
  {
   "cell_type": "markdown",
   "id": "e3dacf12-d6b4-4046-bde5-f77049762c70",
   "metadata": {},
   "source": [
    "# Task 1"
   ]
  },
  {
   "cell_type": "markdown",
   "id": "840ef4d9-316c-474c-a756-031321895b69",
   "metadata": {},
   "source": [
    "**Introduction**  \n",
    "In task 1, we tried 8 classifiers (including the baseline classifier). In our test, the **DecisionTreeClassifier** performed best among all. Furthermore, we tuned one hyperparameter — the max depth — to optimize the classifier.\n",
    "\n",
    "DecisionTreeClassifier is a supervised learning algorithm that splits data into branches based on feature conditions, forming a tree-like structure.\n",
    "\n",
    "| Classifier  | Accuracy       |\n",
    "|----------|------------------|\n",
    "| DummyClassifier      |0.7699530516431925     |\n",
    "| DecisionTreeClassifier   |0.9061032863849765     |\n",
    "| RandomForestClassifier |0.8474178403755869     |\n",
    "| GradientBoostingClassifier |0.8896713615023474     |\n",
    "| Perceptron |0.8145539906103286     |\n",
    "| LogisticRegression |0.8732394366197183     |\n",
    "| LinearSVC |0.8849765258215962     |\n",
    "| MLPClassifier |0.8356807511737089     |\n",
    "\n",
    "\n",
    "**Preparation**  \n",
    "In this step, we read and shuffle the dataset. Then, we partition the data into training and test sets."
   ]
  },
  {
   "cell_type": "code",
   "execution_count": 72,
   "id": "f8ac532c-d921-405f-9e13-c5eb45dabe66",
   "metadata": {
    "panel-layout": {
     "height": 170,
     "visible": true,
     "width": 100
    },
    "scrolled": true
   },
   "outputs": [
    {
     "data": {
      "text/html": [
       "<div>\n",
       "<style scoped>\n",
       "    .dataframe tbody tr th:only-of-type {\n",
       "        vertical-align: middle;\n",
       "    }\n",
       "\n",
       "    .dataframe tbody tr th {\n",
       "        vertical-align: top;\n",
       "    }\n",
       "\n",
       "    .dataframe thead th {\n",
       "        text-align: right;\n",
       "    }\n",
       "</style>\n",
       "<table border=\"1\" class=\"dataframe\">\n",
       "  <thead>\n",
       "    <tr style=\"text-align: right;\">\n",
       "      <th></th>\n",
       "      <th>LB</th>\n",
       "      <th>AC</th>\n",
       "      <th>FM</th>\n",
       "      <th>UC</th>\n",
       "      <th>DL</th>\n",
       "      <th>DS</th>\n",
       "      <th>DP</th>\n",
       "      <th>ASTV</th>\n",
       "      <th>MSTV</th>\n",
       "      <th>ALTV</th>\n",
       "      <th>...</th>\n",
       "      <th>Width</th>\n",
       "      <th>Min</th>\n",
       "      <th>Max</th>\n",
       "      <th>Nmax</th>\n",
       "      <th>Nzeros</th>\n",
       "      <th>Mode</th>\n",
       "      <th>Mean</th>\n",
       "      <th>Median</th>\n",
       "      <th>Variance</th>\n",
       "      <th>Tendency</th>\n",
       "    </tr>\n",
       "  </thead>\n",
       "  <tbody>\n",
       "    <tr>\n",
       "      <th>658</th>\n",
       "      <td>130.0</td>\n",
       "      <td>1.0</td>\n",
       "      <td>0.0</td>\n",
       "      <td>3.0</td>\n",
       "      <td>0.0</td>\n",
       "      <td>0.0</td>\n",
       "      <td>0.0</td>\n",
       "      <td>24.0</td>\n",
       "      <td>1.2</td>\n",
       "      <td>12.0</td>\n",
       "      <td>...</td>\n",
       "      <td>35.0</td>\n",
       "      <td>120.0</td>\n",
       "      <td>155.0</td>\n",
       "      <td>1.0</td>\n",
       "      <td>0.0</td>\n",
       "      <td>134.0</td>\n",
       "      <td>133.0</td>\n",
       "      <td>135.0</td>\n",
       "      <td>1.0</td>\n",
       "      <td>0.0</td>\n",
       "    </tr>\n",
       "    <tr>\n",
       "      <th>1734</th>\n",
       "      <td>134.0</td>\n",
       "      <td>9.0</td>\n",
       "      <td>1.0</td>\n",
       "      <td>8.0</td>\n",
       "      <td>5.0</td>\n",
       "      <td>0.0</td>\n",
       "      <td>0.0</td>\n",
       "      <td>59.0</td>\n",
       "      <td>1.2</td>\n",
       "      <td>0.0</td>\n",
       "      <td>...</td>\n",
       "      <td>109.0</td>\n",
       "      <td>80.0</td>\n",
       "      <td>189.0</td>\n",
       "      <td>6.0</td>\n",
       "      <td>0.0</td>\n",
       "      <td>150.0</td>\n",
       "      <td>146.0</td>\n",
       "      <td>150.0</td>\n",
       "      <td>33.0</td>\n",
       "      <td>0.0</td>\n",
       "    </tr>\n",
       "    <tr>\n",
       "      <th>1226</th>\n",
       "      <td>125.0</td>\n",
       "      <td>1.0</td>\n",
       "      <td>0.0</td>\n",
       "      <td>4.0</td>\n",
       "      <td>0.0</td>\n",
       "      <td>0.0</td>\n",
       "      <td>0.0</td>\n",
       "      <td>43.0</td>\n",
       "      <td>0.7</td>\n",
       "      <td>31.0</td>\n",
       "      <td>...</td>\n",
       "      <td>21.0</td>\n",
       "      <td>120.0</td>\n",
       "      <td>141.0</td>\n",
       "      <td>0.0</td>\n",
       "      <td>0.0</td>\n",
       "      <td>131.0</td>\n",
       "      <td>130.0</td>\n",
       "      <td>132.0</td>\n",
       "      <td>1.0</td>\n",
       "      <td>0.0</td>\n",
       "    </tr>\n",
       "    <tr>\n",
       "      <th>1808</th>\n",
       "      <td>143.0</td>\n",
       "      <td>0.0</td>\n",
       "      <td>0.0</td>\n",
       "      <td>1.0</td>\n",
       "      <td>0.0</td>\n",
       "      <td>0.0</td>\n",
       "      <td>0.0</td>\n",
       "      <td>69.0</td>\n",
       "      <td>0.3</td>\n",
       "      <td>6.0</td>\n",
       "      <td>...</td>\n",
       "      <td>27.0</td>\n",
       "      <td>132.0</td>\n",
       "      <td>159.0</td>\n",
       "      <td>1.0</td>\n",
       "      <td>0.0</td>\n",
       "      <td>145.0</td>\n",
       "      <td>144.0</td>\n",
       "      <td>146.0</td>\n",
       "      <td>1.0</td>\n",
       "      <td>0.0</td>\n",
       "    </tr>\n",
       "    <tr>\n",
       "      <th>825</th>\n",
       "      <td>152.0</td>\n",
       "      <td>0.0</td>\n",
       "      <td>0.0</td>\n",
       "      <td>4.0</td>\n",
       "      <td>0.0</td>\n",
       "      <td>0.0</td>\n",
       "      <td>0.0</td>\n",
       "      <td>62.0</td>\n",
       "      <td>0.4</td>\n",
       "      <td>59.0</td>\n",
       "      <td>...</td>\n",
       "      <td>25.0</td>\n",
       "      <td>136.0</td>\n",
       "      <td>161.0</td>\n",
       "      <td>0.0</td>\n",
       "      <td>0.0</td>\n",
       "      <td>159.0</td>\n",
       "      <td>156.0</td>\n",
       "      <td>158.0</td>\n",
       "      <td>1.0</td>\n",
       "      <td>1.0</td>\n",
       "    </tr>\n",
       "  </tbody>\n",
       "</table>\n",
       "<p>5 rows × 21 columns</p>\n",
       "</div>"
      ],
      "text/plain": [
       "         LB   AC   FM   UC   DL   DS   DP  ASTV  MSTV  ALTV  ...  Width  \\\n",
       "658   130.0  1.0  0.0  3.0  0.0  0.0  0.0  24.0   1.2  12.0  ...   35.0   \n",
       "1734  134.0  9.0  1.0  8.0  5.0  0.0  0.0  59.0   1.2   0.0  ...  109.0   \n",
       "1226  125.0  1.0  0.0  4.0  0.0  0.0  0.0  43.0   0.7  31.0  ...   21.0   \n",
       "1808  143.0  0.0  0.0  1.0  0.0  0.0  0.0  69.0   0.3   6.0  ...   27.0   \n",
       "825   152.0  0.0  0.0  4.0  0.0  0.0  0.0  62.0   0.4  59.0  ...   25.0   \n",
       "\n",
       "        Min    Max  Nmax  Nzeros   Mode   Mean  Median  Variance  Tendency  \n",
       "658   120.0  155.0   1.0     0.0  134.0  133.0   135.0       1.0       0.0  \n",
       "1734   80.0  189.0   6.0     0.0  150.0  146.0   150.0      33.0       0.0  \n",
       "1226  120.0  141.0   0.0     0.0  131.0  130.0   132.0       1.0       0.0  \n",
       "1808  132.0  159.0   1.0     0.0  145.0  144.0   146.0       1.0       0.0  \n",
       "825   136.0  161.0   0.0     0.0  159.0  156.0   158.0       1.0       1.0  \n",
       "\n",
       "[5 rows x 21 columns]"
      ]
     },
     "execution_count": 72,
     "metadata": {},
     "output_type": "execute_result"
    }
   ],
   "source": [
    "import pandas as pd\n",
    "from sklearn.model_selection import train_test_split\n",
    "\n",
    "LOCATION_OF_THE_FILE = '/Users/zhuangzhuanggong/Downloads/CTG.csv'\n",
    "\n",
    "# Read the CSV file.\n",
    "data = pd.read_csv(LOCATION_OF_THE_FILE, skiprows=1)\n",
    "\n",
    "# Select the relevant numerical columns.\n",
    "selected_cols = ['LB', 'AC', 'FM', 'UC', 'DL', 'DS', 'DP', 'ASTV', 'MSTV', 'ALTV',\n",
    "                 'MLTV', 'Width', 'Min', 'Max', 'Nmax', 'Nzeros', 'Mode', 'Mean',\n",
    "                 'Median', 'Variance', 'Tendency', 'NSP']\n",
    "data = data[selected_cols].dropna()\n",
    "\n",
    "# Shuffle the dataset.\n",
    "data_shuffled = data.sample(frac=1.0, random_state=0)\n",
    "\n",
    "# Split into input part X and output part Y.\n",
    "X = data_shuffled.drop('NSP', axis=1)\n",
    "\n",
    "# Map the diagnosis code to a human-readable label.\n",
    "def to_label(y):\n",
    "    return [None, 'normal', 'suspect', 'pathologic'][(int(y))]\n",
    "\n",
    "Y = data_shuffled['NSP'].apply(to_label)\n",
    "\n",
    "# Partition the data into training and test sets.\n",
    "Xtrain, Xtest, Ytrain, Ytest = train_test_split(X, Y, test_size=0.2, random_state=0)\n",
    "X.head()"
   ]
  },
  {
   "cell_type": "markdown",
   "id": "fd0c1653-3818-42ff-a4e5-c15670274f86",
   "metadata": {},
   "source": [
    "**Traning the baseline classifier**"
   ]
  },
  {
   "cell_type": "code",
   "execution_count": 74,
   "id": "e05168c7-9446-4922-b317-1d3e75feb536",
   "metadata": {
    "panel-layout": {
     "height": 68.140625,
     "visible": true,
     "width": 100
    }
   },
   "outputs": [
    {
     "name": "stdout",
     "output_type": "stream",
     "text": [
      "[0.78235294 0.78235294 0.77941176 0.77941176 0.77941176]\n",
      "0.7699530516431925\n"
     ]
    }
   ],
   "source": [
    "from sklearn.model_selection import cross_val_score\n",
    "from sklearn.dummy import DummyClassifier\n",
    "from sklearn.metrics import accuracy_score\n",
    "clf = DummyClassifier(strategy='most_frequent')\n",
    "print(cross_val_score(clf, Xtrain, Ytrain))\n",
    "\n",
    "clf.fit(Xtrain, Ytrain)\n",
    "Yguess = clf.predict(Xtest)\n",
    "print(accuracy_score(Ytest, Yguess))"
   ]
  },
  {
   "cell_type": "markdown",
   "id": "1531d18b-8890-4d71-a6b8-c15f27512fc0",
   "metadata": {},
   "source": [
    "**Training DecisionTreeClassifier**  \n",
    "In our tests, the DecisionTreeClassifier performed the best. However, to avoid overfitting, we tuned the max depth of the tree and tried to find a better depth for the decision tree. Here, we used an array of depths as we don't know what depth could be better. It turned out the cross-validation score rose a bit.  \n",
    "In this case, we chose this classified with the optimization on the max depth to be our evaluation classifier.  \n",
    "\n",
    "While the decision tree might perform well, it still carries the risk of overfitting, especially if the tree is deep."
   ]
  },
  {
   "cell_type": "markdown",
   "id": "9cd13c47-0349-4af5-a68a-549643c57d24",
   "metadata": {},
   "source": [
    "First, we tried the classifier without tuning hyperparameters."
   ]
  },
  {
   "cell_type": "code",
   "execution_count": 77,
   "id": "afa83b99-1000-4238-b800-5c6428f8204e",
   "metadata": {
    "panel-layout": {
     "height": 68.140625,
     "visible": true,
     "width": 100
    }
   },
   "outputs": [
    {
     "data": {
      "text/plain": [
       "array([0.91470588, 0.94117647, 0.91176471, 0.90588235, 0.94705882])"
      ]
     },
     "execution_count": 77,
     "metadata": {},
     "output_type": "execute_result"
    }
   ],
   "source": [
    "#DecisionTreeClassifier\n",
    "from sklearn.tree import DecisionTreeClassifier\n",
    "clf = DecisionTreeClassifier(random_state=0)\n",
    "cross_val_score(clf, Xtrain, Ytrain)"
   ]
  },
  {
   "cell_type": "markdown",
   "id": "60665df3-b781-43ef-ae3e-bf04e486c771",
   "metadata": {},
   "source": [
    "Once we had a better-performing classifier, compared to other classifiers we tried, we tuned the max depth with an array."
   ]
  },
  {
   "cell_type": "code",
   "execution_count": 79,
   "id": "6a656e32-f7bf-466d-a663-be995570b0bb",
   "metadata": {
    "panel-layout": {
     "height": 68.140625,
     "visible": true,
     "width": 100
    }
   },
   "outputs": [
    {
     "data": {
      "text/plain": [
       "array([0.92647059, 0.94411765, 0.91176471, 0.91764706, 0.94117647])"
      ]
     },
     "execution_count": 79,
     "metadata": {},
     "output_type": "execute_result"
    }
   ],
   "source": [
    "#DecisionTreeClassifier with optimization of max_depth\n",
    "from sklearn.model_selection import GridSearchCV\n",
    "\n",
    "param_grid = {\n",
    "    'max_depth': [3, 5, 10, None],  \n",
    "}\n",
    "\n",
    "grid_search = GridSearchCV(clf, param_grid, cv=5, scoring='accuracy')\n",
    "grid_search.fit(Xtrain, Ytrain)\n",
    "cross_val_score(grid_search, Xtrain, Ytrain)"
   ]
  },
  {
   "cell_type": "markdown",
   "id": "818da911-5779-4578-a87b-d1253dd2a699",
   "metadata": {},
   "source": [
    "Finally, we trained it on the whole training set and evaluated it on the held-out test set."
   ]
  },
  {
   "cell_type": "code",
   "execution_count": 81,
   "id": "14f1057f-aea9-4677-907d-dd52bf2791c6",
   "metadata": {
    "panel-layout": {
     "height": 0,
     "visible": true,
     "width": 100
    }
   },
   "outputs": [
    {
     "name": "stdout",
     "output_type": "stream",
     "text": [
      "[0.92647059 0.94411765 0.91176471 0.91764706 0.94117647]\n",
      "0.9061032863849765\n"
     ]
    }
   ],
   "source": [
    "#DecisionTreeClassifier\n",
    "from sklearn.model_selection import GridSearchCV\n",
    "\n",
    "param_grid = {\n",
    "    'max_depth': [3, 5, 10, None],  \n",
    "}\n",
    "\n",
    "grid_search = GridSearchCV(clf, param_grid, cv=5, scoring='accuracy')\n",
    "grid_search.fit(Xtrain, Ytrain)\n",
    "print(cross_val_score(grid_search, Xtrain, Ytrain))\n",
    "\n",
    "grid_search.fit(Xtrain, Ytrain)\n",
    "Yguess = grid_search.predict(Xtest)\n",
    "print(accuracy_score(Ytest, Yguess))"
   ]
  },
  {
   "cell_type": "markdown",
   "id": "66150ff7-35bb-4c78-80c2-23ce4373fa42",
   "metadata": {},
   "source": [
    "**Training RandomForestClassifier**"
   ]
  },
  {
   "cell_type": "code",
   "execution_count": 83,
   "id": "f828de2e-62f6-4a24-8b57-e52f871f3776",
   "metadata": {
    "panel-layout": {
     "height": 68.140625,
     "visible": true,
     "width": 100
    }
   },
   "outputs": [
    {
     "name": "stdout",
     "output_type": "stream",
     "text": [
      "[0.87352941 0.87941176 0.86176471 0.86176471 0.88529412]\n",
      "0.8474178403755869\n"
     ]
    }
   ],
   "source": [
    "#RandomForestClassifier\n",
    "from sklearn.ensemble import RandomForestClassifier\n",
    "from sklearn.datasets import make_classification\n",
    "clf = RandomForestClassifier(max_depth=2, random_state=0)\n",
    "#clf.fit(X, Y)\n",
    "print(cross_val_score(clf, Xtrain, Ytrain))\n",
    "clf.fit(Xtrain, Ytrain)\n",
    "Yguess = clf.predict(Xtest)\n",
    "print(accuracy_score(Ytest, Yguess))"
   ]
  },
  {
   "cell_type": "markdown",
   "id": "feb1c1a6-c098-4548-9d08-f80b854c165b",
   "metadata": {},
   "source": [
    "**Training GradientBoostingClassifier**"
   ]
  },
  {
   "cell_type": "code",
   "execution_count": 85,
   "id": "e29e961e-2a9a-4be6-9b0d-623bcccbb893",
   "metadata": {
    "panel-layout": {
     "height": 0,
     "visible": true,
     "width": 100
    }
   },
   "outputs": [
    {
     "name": "stdout",
     "output_type": "stream",
     "text": [
      "[0.90294118 0.94117647 0.9        0.91470588 0.92647059]\n",
      "0.8896713615023474\n"
     ]
    }
   ],
   "source": [
    "#GradientBoostingClassifier\n",
    "from sklearn.datasets import make_hastie_10_2\n",
    "from sklearn.ensemble import GradientBoostingClassifier\n",
    "clf = GradientBoostingClassifier(n_estimators=100, learning_rate=1.0,\n",
    "    max_depth=1, random_state=0).fit(Xtrain, Ytrain)\n",
    "print(cross_val_score(clf, Xtrain, Ytrain))\n",
    "clf.fit(Xtrain, Ytrain)\n",
    "Yguess = clf.predict(Xtest)\n",
    "print(accuracy_score(Ytest, Yguess))"
   ]
  },
  {
   "cell_type": "markdown",
   "id": "dd1f1e36-bb3e-41a6-8233-77433f356dfa",
   "metadata": {},
   "source": [
    "**Training Perceptron**"
   ]
  },
  {
   "cell_type": "code",
   "execution_count": 87,
   "id": "2dcb6c89-94b5-4882-af5b-818f1d79fa5e",
   "metadata": {
    "panel-layout": {
     "height": 68.140625,
     "visible": true,
     "width": 100
    }
   },
   "outputs": [
    {
     "name": "stdout",
     "output_type": "stream",
     "text": [
      "[0.84705882 0.88529412 0.82941176 0.85294118 0.71176471]\n",
      "0.8145539906103286\n"
     ]
    }
   ],
   "source": [
    "#Perceptron\n",
    "from sklearn.linear_model import Perceptron\n",
    "clf = Perceptron(tol=1e-3, random_state=0)\n",
    "clf.fit(Xtrain, Ytrain)\n",
    "print(cross_val_score(clf, Xtrain, Ytrain))\n",
    "clf.fit(Xtrain, Ytrain)\n",
    "Yguess = clf.predict(Xtest)\n",
    "print(accuracy_score(Ytest, Yguess))"
   ]
  },
  {
   "cell_type": "markdown",
   "id": "9bcf6e3c-578e-46f8-9648-aec155d38764",
   "metadata": {},
   "source": [
    "**Training LogisticRegression**  \n",
    "We tried the default solver for this classifier, but the model wouldn't converge, even though we increased the number of iterations. Therefore, we used saga instead, to our understanding, which is more effective for handling multi-class classification problems."
   ]
  },
  {
   "cell_type": "code",
   "execution_count": 89,
   "id": "43716401-1dd8-4769-bb09-8a12a8fe564c",
   "metadata": {},
   "outputs": [
    {
     "name": "stdout",
     "output_type": "stream",
     "text": [
      "[0.88529412 0.89411765 0.87058824 0.88529412 0.88235294]\n",
      "0.8732394366197183\n"
     ]
    }
   ],
   "source": [
    "#LogisticRegression\n",
    "from sklearn.linear_model import LogisticRegression\n",
    "clf = LogisticRegression(random_state=0, solver='saga', max_iter=10000).fit(Xtrain, Ytrain)\n",
    "print(cross_val_score(clf, Xtrain, Ytrain))\n",
    "clf.fit(Xtrain, Ytrain)\n",
    "Yguess = clf.predict(Xtest)\n",
    "print(accuracy_score(Ytest, Yguess))\n",
    "#clf.predict(Xtrain[:2, :])\n",
    "#clf.predict_proba(Xtrain[:2, :])\n",
    "#clf.score(Xtrain, Ytrain)\n"
   ]
  },
  {
   "cell_type": "markdown",
   "id": "1b813102-544f-4dc3-ba31-8688c1d74e4a",
   "metadata": {},
   "source": [
    "**Training LinearSVC**"
   ]
  },
  {
   "cell_type": "code",
   "execution_count": 91,
   "id": "50d38e35-a503-412c-a540-1271de5ede63",
   "metadata": {
    "panel-layout": {
     "height": 68.140625,
     "visible": true,
     "width": 100
    }
   },
   "outputs": [
    {
     "name": "stdout",
     "output_type": "stream",
     "text": [
      "[0.88529412 0.90882353 0.86176471 0.89705882 0.90294118]\n",
      "0.8849765258215962\n"
     ]
    }
   ],
   "source": [
    "#LinearSVC\n",
    "from sklearn.svm import LinearSVC\n",
    "from sklearn.pipeline import make_pipeline\n",
    "from sklearn.preprocessing import StandardScaler\n",
    "clf = make_pipeline(StandardScaler(),\n",
    "                    LinearSVC(random_state=0, tol=1e-5))\n",
    "clf.fit(Xtrain, Ytrain)\n",
    "print(cross_val_score(clf, Xtrain, Ytrain))\n",
    "clf.fit(Xtrain, Ytrain)\n",
    "Yguess = clf.predict(Xtest)\n",
    "print(accuracy_score(Ytest, Yguess))"
   ]
  },
  {
   "cell_type": "markdown",
   "id": "3ad11ba1-4f62-44da-87ed-dcc895aea501",
   "metadata": {},
   "source": [
    "**Training MLPClassifier**"
   ]
  },
  {
   "cell_type": "code",
   "execution_count": 93,
   "id": "4f717208-5c6e-4e9b-ae71-75878eb707d6",
   "metadata": {
    "panel-layout": {
     "height": 68.140625,
     "visible": true,
     "width": 100
    }
   },
   "outputs": [
    {
     "name": "stdout",
     "output_type": "stream",
     "text": [
      "[0.84117647 0.82058824 0.83529412 0.90588235 0.87647059]\n",
      "0.8356807511737089\n"
     ]
    }
   ],
   "source": [
    "#MLPClassifier\n",
    "from sklearn.neural_network import MLPClassifier\n",
    "clf = MLPClassifier(random_state=1, max_iter=300).fit(Xtrain, Ytrain)\n",
    "clf.fit(Xtrain, Ytrain)\n",
    "print(cross_val_score(clf, Xtrain, Ytrain))\n",
    "clf.fit(Xtrain, Ytrain)\n",
    "Yguess = clf.predict(Xtest)\n",
    "print(accuracy_score(Ytest, Yguess))"
   ]
  },
  {
   "cell_type": "markdown",
   "id": "7067a27e-9489-455f-aa19-6a6271e123b9",
   "metadata": {},
   "source": [
    "# Task 2"
   ]
  }
 ],
 "metadata": {
  "kernelspec": {
   "display_name": "Python [conda env:base] *",
   "language": "python",
   "name": "conda-base-py"
  },
  "language_info": {
   "codemirror_mode": {
    "name": "ipython",
    "version": 3
   },
   "file_extension": ".py",
   "mimetype": "text/x-python",
   "name": "python",
   "nbconvert_exporter": "python",
   "pygments_lexer": "ipython3",
   "version": "3.12.7"
  },
  "panel-cell-order": [
   "f8ac532c-d921-405f-9e13-c5eb45dabe66",
   "e05168c7-9446-4922-b317-1d3e75feb536",
   "afa83b99-1000-4238-b800-5c6428f8204e",
   "14f1057f-aea9-4677-907d-dd52bf2791c6",
   "f828de2e-62f6-4a24-8b57-e52f871f3776",
   "e29e961e-2a9a-4be6-9b0d-623bcccbb893",
   "2dcb6c89-94b5-4882-af5b-818f1d79fa5e",
   "50d38e35-a503-412c-a540-1271de5ede63",
   "4f717208-5c6e-4e9b-ae71-75878eb707d6"
  ]
 },
 "nbformat": 4,
 "nbformat_minor": 5
}
