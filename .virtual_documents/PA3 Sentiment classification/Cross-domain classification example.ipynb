


# the actual classification algorithm
from sklearn.svm import LinearSVC

# for converting training and test datasets into matrices
# TfidfVectorizer does this specifically for documents
from sklearn.feature_extraction.text import TfidfVectorizer

# for bundling the vectorizer and the classifier as a single "package"
from sklearn.pipeline import make_pipeline

# for splitting the dataset into training and test sets 
from sklearn.model_selection import train_test_split

# for evaluating the quality of the classifier
from sklearn.metrics import accuracy_score





def read_documents_product(doc_file, product):

    # will store the documents
    X = []
    
    # will store the sentiment labels
    Y = []

    # open the file, force utf-8 encoding if this isn't the default on your system
    with open(doc_file, encoding='utf-8') as f:

        # read the file line by line
        for line in f:

            # split the line into the four parts mentioned above
            p, s, _, d = line.strip().split(maxsplit=3)

            # if this document belongs to the category we're interested in...            
            if p == product:
                
                # then add the document and its label to the respective lists
                X.append(d)
                Y.append(s)
                
    return X, Y





Xbooks, Ybooks = read_documents_product('data/dredze_amazon_reviews.txt', 'books')
Xcam, Ycam = read_documents_product('data/dredze_amazon_reviews.txt', 'camera')





Xb_train, Xb_eval, Yb_train, Yb_eval = train_test_split(Xbooks, Ybooks, test_size=0.2, random_state=12345)
Xc_train, Xc_eval, Yc_train, Yc_eval = train_test_split(Xcam, Ycam, test_size=0.2, random_state=12345)





def train_document_classifier(X, Y):
    pipeline = make_pipeline( TfidfVectorizer(), LinearSVC(dual='auto') )
    pipeline.fit(X, Y)
    return pipeline





clf_books = train_document_classifier(Xb_train, Yb_train)
clf_cam = train_document_classifier(Xc_train, Yc_train)





# book review classifier evaluated on book review test set
bb_acc = accuracy_score(Yb_eval, clf_books.predict(Xb_eval))
# book review classifier evaluated on camera review test set
bc_acc = accuracy_score(Yc_eval, clf_books.predict(Xc_eval))

# camera review classifier evaluated on book review test set
cb_acc = accuracy_score(Yb_eval, clf_cam.predict(Xb_eval))
# camera review classifier evaluated on camera review test set
cc_acc = accuracy_score(Yc_eval, clf_cam.predict(Xc_eval))





print('        test domain')
print('     |  book  |  cam ')
print('----------------------')
print('book | {:.4f} | {:.4f}'.format(bb_acc, bc_acc))
print('cam  | {:.4f} | {:.4f}'.format(cb_acc, cc_acc))






